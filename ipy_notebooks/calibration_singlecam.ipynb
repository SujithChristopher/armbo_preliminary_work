{
 "cells": [
  {
   "cell_type": "code",
   "execution_count": 1,
   "metadata": {},
   "outputs": [],
   "source": [
    "import os\n",
    "import sys\n",
    "import time\n",
    "import datetime\n",
    "import pandas as pd\n",
    "import numpy as np\n",
    "import matplotlib.pyplot as plt\n",
    "import msgpack as mp\n",
    "import msgpack_numpy as mpn\n",
    "import cv2\n",
    "sys.path.append('..')\n",
    "from support.camera_calibration import calibrate_camera_from_file"
   ]
  },
  {
   "cell_type": "code",
   "execution_count": 3,
   "metadata": {},
   "outputs": [
    {
     "data": {
      "text/plain": [
       "'c:\\\\Users\\\\CMC\\\\Documents\\\\openposelibs\\\\pose\\\\armbo\\\\recording_programs\\\\test_data\\\\single_cam_dec_14\\\\calibration_15fps_01\\\\webcam_color.msgpack'"
      ]
     },
     "execution_count": 3,
     "metadata": {},
     "output_type": "execute_result"
    }
   ],
   "source": [
    "_pth = os.getcwd()\n",
    "_pth = os.path.dirname(_pth)\n",
    "_parent_folder = \"single_cam_dec_14\"\n",
    "_folder_name = \"calibration_15fps_01\"\n",
    "\n",
    "_webcam_pth = os.path.join(_pth,\"recording_programs\",\"test_data\",_parent_folder, _folder_name,\"webcam_color.msgpack\")\n",
    "_webcam_ts = os.path.join(_pth,\"recording_programs\", \"test_data\",_parent_folder,_folder_name,\"webcam_timestamp.msgpack\")\n",
    "_webcam_pth"
   ]
  },
  {
   "cell_type": "code",
   "execution_count": 4,
   "metadata": {},
   "outputs": [
    {
     "name": "stderr",
     "output_type": "stream",
     "text": [
      "100%|██████████| 604/604 [00:07<00:00, 77.93it/s] \n"
     ]
    },
    {
     "name": "stdout",
     "output_type": "stream",
     "text": [
      "Found [ 0  1  2  3  4  5  6  7  8  9 10 11] unique markers\n",
      "corners_list:  (1793, 1, 4, 2)\n",
      "Calibrating camera .... Please wait...\n",
      " Camera matrix is \n",
      " [[884.99147698   0.         363.00325945]\n",
      " [  0.         891.12464638 284.09035143]\n",
      " [  0.           0.           1.        ]] \n",
      " And is stored in AR_CALIBRATION.msgpack file along with distortion coefficients : \n",
      " [[ 1.16282661e-01 -3.20598872e-01  1.42758962e-02  1.88740335e-04\n",
      "  -2.26061325e+00]]\n"
     ]
    }
   ],
   "source": [
    "calibrate_camera_from_file(_webcam_pth,save_to_dir = True ,img_flip = False, cvt_color=False, saving_name = \"webcam_calibration\")"
   ]
  }
 ],
 "metadata": {
  "kernelspec": {
   "display_name": "Python 3.7.13 ('gs')",
   "language": "python",
   "name": "python3"
  },
  "language_info": {
   "codemirror_mode": {
    "name": "ipython",
    "version": 3
   },
   "file_extension": ".py",
   "mimetype": "text/x-python",
   "name": "python",
   "nbconvert_exporter": "python",
   "pygments_lexer": "ipython3",
   "version": "3.7.13"
  },
  "orig_nbformat": 4,
  "vscode": {
   "interpreter": {
    "hash": "4221670f905fea9ae63d68da118e10d2cad93a36a65c3325530da287d71e9aea"
   }
  }
 },
 "nbformat": 4,
 "nbformat_minor": 2
}

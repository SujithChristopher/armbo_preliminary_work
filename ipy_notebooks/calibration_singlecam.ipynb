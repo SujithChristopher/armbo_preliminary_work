{
 "cells": [
  {
   "cell_type": "code",
   "execution_count": 4,
   "metadata": {},
   "outputs": [],
   "source": [
    "import os\n",
    "import sys\n",
    "import time\n",
    "import datetime\n",
    "import pandas as pd\n",
    "import numpy as np\n",
    "import matplotlib.pyplot as plt\n",
    "import msgpack as mp\n",
    "import msgpack_numpy as mpn\n",
    "import cv2\n",
    "sys.path.append('..')\n",
    "from support.camera_calibration import calibrate_camera_from_file"
   ]
  },
  {
   "cell_type": "code",
   "execution_count": 5,
   "metadata": {},
   "outputs": [
    {
     "data": {
      "text/plain": [
       "'c:\\\\Users\\\\CMC\\\\Documents\\\\openposelibs\\\\pose\\\\armbo\\\\recording_programs\\\\test_data\\\\single_cam_jan_5_2023_3cm\\\\calibration_60fps_00\\\\webcam_color.msgpack'"
      ]
     },
     "execution_count": 5,
     "metadata": {},
     "output_type": "execute_result"
    }
   ],
   "source": [
    "_pth = os.getcwd()\n",
    "_pth = os.path.dirname(_pth)\n",
    "_parent_folder = \"single_cam_jan_5_2023_3cm\"\n",
    "_folder_name = \"calibration_60fps_00\"\n",
    "\n",
    "_webcam_pth = os.path.join(_pth,\"recording_programs\",\"test_data\",_parent_folder, _folder_name,\"webcam_color.msgpack\")\n",
    "_webcam_ts = os.path.join(_pth,\"recording_programs\", \"test_data\",_parent_folder,_folder_name,\"webcam_timestamp.msgpack\")\n",
    "_webcam_pth"
   ]
  },
  {
   "cell_type": "code",
   "execution_count": 6,
   "metadata": {},
   "outputs": [
    {
     "name": "stderr",
     "output_type": "stream",
     "text": [
      "100%|██████████| 2897/2897 [00:01<00:00, 1861.23it/s]\n"
     ]
    },
    {
     "name": "stdout",
     "output_type": "stream",
     "text": [
      "Found [ 0  1  2  3  4  5  6  7  8  9 10 11] unique markers\n",
      "corners_list:  (1707, 1, 4, 2)\n",
      "Calibrating camera .... Please wait...\n",
      " Camera matrix is \n",
      " [[862.93861259   0.         375.7584209 ]\n",
      " [  0.         866.33629563 266.6789032 ]\n",
      " [  0.           0.           1.        ]] \n",
      " And is stored in AR_CALIBRATION.msgpack file along with distortion coefficients : \n",
      " [[ 0.11765598 -0.70192854  0.00806251  0.01021081 -0.44850904]]\n"
     ]
    }
   ],
   "source": [
    "calibrate_camera_from_file(_webcam_pth,save_to_dir = True ,img_flip = False, cvt_color=False, saving_name = \"webcam_calibration\")"
   ]
  }
 ],
 "metadata": {
  "kernelspec": {
   "display_name": "amd",
   "language": "python",
   "name": "python3"
  },
  "language_info": {
   "codemirror_mode": {
    "name": "ipython",
    "version": 3
   },
   "file_extension": ".py",
   "mimetype": "text/x-python",
   "name": "python",
   "nbconvert_exporter": "python",
   "pygments_lexer": "ipython3",
   "version": "3.7.13"
  },
  "orig_nbformat": 4,
  "vscode": {
   "interpreter": {
    "hash": "f7b5cde20a443c2b17446bd8bc340c41b205a603133068520caed36857fb2eca"
   }
  }
 },
 "nbformat": 4,
 "nbformat_minor": 2
}

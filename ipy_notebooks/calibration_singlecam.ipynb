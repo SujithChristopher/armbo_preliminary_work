{
 "cells": [
  {
   "cell_type": "code",
   "execution_count": 1,
   "metadata": {},
   "outputs": [],
   "source": [
    "import os\n",
    "import sys\n",
    "import time\n",
    "import datetime\n",
    "import pandas as pd\n",
    "import numpy as np\n",
    "import matplotlib.pyplot as plt\n",
    "import msgpack as mp\n",
    "import msgpack_numpy as mpn\n",
    "import cv2\n",
    "sys.path.append('..')\n",
    "from support.camera_calibration import calibrate_camera_from_file"
   ]
  },
  {
   "cell_type": "code",
   "execution_count": 2,
   "metadata": {},
   "outputs": [
    {
     "data": {
      "text/plain": [
       "'c:\\\\Users\\\\CMC\\\\Documents\\\\openposelibs\\\\pose\\\\armbo\\\\recording_programs\\\\test_data\\\\multi_cam_nov_11\\\\calibration2_webcam\\\\webcam_color.msgpack'"
      ]
     },
     "execution_count": 2,
     "metadata": {},
     "output_type": "execute_result"
    }
   ],
   "source": [
    "_pth = os.getcwd()\n",
    "_pth = os.path.dirname(_pth)\n",
    "\n",
    "_folder_name = \"calibration2_webcam\"\n",
    "_webcam_pth = os.path.join(_pth,\"recording_programs\",\"test_data\",\"multi_cam_nov_11\", _folder_name,\"webcam_color.msgpack\")\n",
    "_webcam_ts = os.path.join(_pth,\"recording_programs\", \"test_data\",\"multi_cam_nov_11\",_folder_name,\"webcam_timestamp.msgpack\")\n",
    "_webcam_pth"
   ]
  },
  {
   "cell_type": "code",
   "execution_count": 3,
   "metadata": {},
   "outputs": [
    {
     "name": "stderr",
     "output_type": "stream",
     "text": [
      "100%|██████████| 742/742 [00:01<00:00, 717.25it/s]\n"
     ]
    },
    {
     "name": "stdout",
     "output_type": "stream",
     "text": [
      "Found [ 0  1  2  5 10] unique markers\n",
      "corners_list:  (1550, 1, 4, 2)\n",
      "Calibrating camera .... Please wait...\n",
      " Camera matrix is \n",
      " [[792.50579482   0.         402.0548155 ]\n",
      " [  0.         800.09890063 321.88932862]\n",
      " [  0.           0.           1.        ]] \n",
      " And is stored in AR_CALIBRATION.msgpack file along with distortion coefficients : \n",
      " [[ 0.38201479 -4.83260648  0.0162865   0.02686491 13.37424455]]\n"
     ]
    }
   ],
   "source": [
    "calibrate_camera_from_file(_webcam_pth,save_to_dir = True ,img_flip = False, cvt_color=False, saving_name = \"webcam_calibration\")"
   ]
  },
  {
   "cell_type": "code",
   "execution_count": null,
   "metadata": {},
   "outputs": [],
   "source": []
  }
 ],
 "metadata": {
  "kernelspec": {
   "display_name": "Python 3.7.13 ('gs')",
   "language": "python",
   "name": "python3"
  },
  "language_info": {
   "codemirror_mode": {
    "name": "ipython",
    "version": 3
   },
   "file_extension": ".py",
   "mimetype": "text/x-python",
   "name": "python",
   "nbconvert_exporter": "python",
   "pygments_lexer": "ipython3",
   "version": "3.7.13"
  },
  "orig_nbformat": 4,
  "vscode": {
   "interpreter": {
    "hash": "4221670f905fea9ae63d68da118e10d2cad93a36a65c3325530da287d71e9aea"
   }
  }
 },
 "nbformat": 4,
 "nbformat_minor": 2
}

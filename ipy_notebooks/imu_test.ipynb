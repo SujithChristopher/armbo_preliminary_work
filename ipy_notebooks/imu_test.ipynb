{
 "cells": [
  {
   "cell_type": "code",
   "execution_count": 52,
   "metadata": {},
   "outputs": [],
   "source": [
    "from scipy.signal import savgol_filter\n",
    "import pandas as pd\n",
    "import numpy as np\n",
    "import math\n",
    "\n",
    "import matplotlib.pyplot as plt\n",
    "Q1 = []\n",
    "q4 = []"
   ]
  },
  {
   "cell_type": "code",
   "execution_count": 53,
   "metadata": {},
   "outputs": [],
   "source": [
    "df = pd.read_csv(r\"C:\\Users\\CMC\\Documents\\openposelibs\\pose\\armbo\\recording_programs\\test_data\\forward_t0\\imu01.csv\")"
   ]
  },
  {
   "cell_type": "code",
   "execution_count": 54,
   "metadata": {},
   "outputs": [],
   "source": [
    "def quaternion_multiply(quaternion1, quaternion0):\n",
    "    w0, x0, y0, z0 = quaternion0\n",
    "    w1, x1, y1, z1 = quaternion1\n",
    "    return np.array([-x1 * x0 - y1 * y0 - z1 * z0 + w1 * w0,\n",
    "                     x1 * w0 + y1 * z0 - z1 * y0 + w1 * x0,\n",
    "                     -x1 * z0 + y1 * w0 + z1 * x0 + w1 * y0,\n",
    "                     x1 * y0 - y1 * x0 + z1 * w0 + w1 * z0], dtype=np.float64)\n",
    "\n",
    "def validation(df):\n",
    "    accx1=savgol_filter(df.ax,501, 3)\n",
    "    accy1=savgol_filter(df.ay,501, 3)\n",
    "    accz1=savgol_filter(df.az,501, 3)\n",
    "    angx=np.deg2rad(df.gx - np.mean(df.gx[0:200]))\n",
    "    angy=np.deg2rad(df.gy - np.mean(df.gy[0:200]))\n",
    "    angz=np.deg2rad(df.gz - np.mean(df.gz[0:200]))\n",
    "    for j in range(len(df.gx)):\n",
    "        norm=np.linalg.norm([angx[j],angy[j],angz[j]])\n",
    "        axis_of_rot=[angx[j]/norm,angy[j]/norm,angz[j]/norm]\n",
    "        theta= 0.01*norm\n",
    "        q0=math.cos(theta/2)\n",
    "        q1=(axis_of_rot[0])*math.sin(theta/2)\n",
    "        q2=(axis_of_rot[1])*math.sin(theta/2)\n",
    "        q3=(axis_of_rot[2])*math.sin(theta/2)\n",
    "        q=[q0,q1,q2,q3]\n",
    "        Q=[0,accx1[j],accy1[j],accz1[j]]\n",
    "        Q1.append(Q)\n",
    "        q4.append(q)\n",
    "    IMU_ang=[]\n",
    "    s2=[1,0,0,0]\n",
    "    q5=[]\n",
    "    for j in range(len(q4)):\n",
    "        s2=quaternion_multiply(s2,q4[j])\n",
    "        dummy=s2\n",
    "        normq5=((dummy[0]*dummy[0])+(dummy[1]*dummy[1])+(dummy[2]*dummy[2])+(dummy[3]*dummy[3]))\n",
    "        invq51=s2/normq5\n",
    "        invq5=[invq51[0],-1*invq51[1],-1*invq51[2],-1*invq51[3]]\n",
    "        qupdat1=quaternion_multiply(s2,Q1[j])\n",
    "        qupdate=quaternion_multiply(qupdat1,invq5)\n",
    "        norm1=np.sqrt((qupdate[0]*qupdate[0])+(qupdate[1]*qupdate[1])+(qupdate[2]*qupdate[2])+(qupdate[3]*qupdate[3]))\n",
    "        init=Q1[0][1:]\n",
    "        new_qup=qupdate/norm1\n",
    "        rot_ax=np.cross(new_qup[1:],Q1[0][1:])\n",
    "        norm=np.linalg.norm(rot_ax)\n",
    "        axis_of_rot=rot_ax/norm\n",
    "        thet=np.dot(new_qup[1:],Q1[0][1:])/(np.linalg.norm(new_qup[1:])*np.linalg.norm(Q1[0][1:]))\n",
    "        theta=np.arccos(thet)\n",
    "        q0=math.cos(0.0055*theta/2)\n",
    "        q1=(axis_of_rot[0])*math.sin(0.0055*theta/2)\n",
    "        q2=(axis_of_rot[1])*math.sin(0.0055*theta/2)\n",
    "        q3=(axis_of_rot[2])*math.sin(0.0055*theta/2)\n",
    "        qt=[q0,q1,q2,q3]\n",
    "        finaltheta=np.rad2deg(2*np.arccos(s2[0]))\n",
    "        s2=quaternion_multiply(qt,s2)\n",
    "        IMU_ang.append(finaltheta)\n",
    "    IMU=IMU_ang\n",
    "    IMU=savgol_filter(IMU, 601, 3)\n",
    "    return IMU"
   ]
  },
  {
   "cell_type": "code",
   "execution_count": 55,
   "metadata": {},
   "outputs": [],
   "source": [
    "_ang = validation(df)"
   ]
  },
  {
   "cell_type": "code",
   "execution_count": 56,
   "metadata": {},
   "outputs": [
    {
     "data": {
      "text/plain": [
       "[<matplotlib.lines.Line2D at 0x2050c471548>]"
      ]
     },
     "execution_count": 56,
     "metadata": {},
     "output_type": "execute_result"
    },
    {
     "data": {
      "image/png": "[encoded data removed]",
      "text/plain": [
       "<Figure size 640x480 with 1 Axes>"
      ]
     },
     "metadata": {},
     "output_type": "display_data"
    }
   ],
   "source": [
    "plt.plot( _ang)"
   ]
  },
  {
   "cell_type": "code",
   "execution_count": null,
   "metadata": {},
   "outputs": [],
   "source": []
  }
 ],
 "metadata": {
  "kernelspec": {
   "display_name": "Python 3.7.13 ('gs')",
   "language": "python",
   "name": "python3"
  },
  "language_info": {
   "codemirror_mode": {
    "name": "ipython",
    "version": 3
   },
   "file_extension": ".py",
   "mimetype": "text/x-python",
   "name": "python",
   "nbconvert_exporter": "python",
   "pygments_lexer": "ipython3",
   "version": "3.7.13"
  },
  "orig_nbformat": 4,
  "vscode": {
   "interpreter": {
    "hash": "4221670f905fea9ae63d68da118e10d2cad93a36a65c3325530da287d71e9aea"
   }
  }
 },
 "nbformat": 4,
 "nbformat_minor": 2
}

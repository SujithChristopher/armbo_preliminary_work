{
 "cells": [
  {
   "cell_type": "code",
   "execution_count": 38,
   "metadata": {},
   "outputs": [],
   "source": [
    "import pyautogui\n",
    "import pywinauto\n",
    "import pygetwindow as gw\n",
    "from time import sleep\n",
    "def focus_to_window(window_title=None):\n",
    "    window = gw.getWindowsWithTitle(window_title)[0]\n",
    "    if window.isActive == False:\n",
    "        pywinauto.application.Application().connect(handle=window._hWnd).top_window().set_focus()"
   ]
  },
  {
   "cell_type": "code",
   "execution_count": 39,
   "metadata": {},
   "outputs": [],
   "source": [
    "screenWidth, screenHeight = pyautogui.size()\n",
    "screenWidth, screenHeight\n",
    "focus_to_window(\"Motive\")\n",
    "pyautogui.tripleClick(475, 1009)\n",
    "sleep(0.5)\n",
    "pyautogui.write('hi diwakar')\n",
    "sleep(1)\n",
    "\n",
    "pyautogui.click(879, 1009)\n",
    "sleep(10)\n",
    "pyautogui.click(879, 1009)\n"
   ]
  },
  {
   "cell_type": "code",
   "execution_count": 36,
   "metadata": {},
   "outputs": [
    {
     "data": {
      "text/plain": [
       "(879, 1009)"
      ]
     },
     "execution_count": 36,
     "metadata": {},
     "output_type": "execute_result"
    }
   ],
   "source": [
    "currentMouseX, currentMouseY = pyautogui.position()\n",
    "currentMouseX, currentMouseY"
   ]
  },
  {
   "cell_type": "code",
   "execution_count": 30,
   "metadata": {},
   "outputs": [
    {
     "data": {
      "text/plain": [
       "'OK'"
      ]
     },
     "execution_count": 30,
     "metadata": {},
     "output_type": "execute_result"
    }
   ],
   "source": [
    "pyautogui.alert('This is the message to display.')"
   ]
  },
  {
   "cell_type": "code",
   "execution_count": null,
   "metadata": {},
   "outputs": [],
   "source": []
  }
 ],
 "metadata": {
  "kernelspec": {
   "display_name": "gs",
   "language": "python",
   "name": "python3"
  },
  "language_info": {
   "codemirror_mode": {
    "name": "ipython",
    "version": 3
   },
   "file_extension": ".py",
   "mimetype": "text/x-python",
   "name": "python",
   "nbconvert_exporter": "python",
   "pygments_lexer": "ipython3",
   "version": "3.7.13"
  },
  "orig_nbformat": 4,
  "vscode": {
   "interpreter": {
    "hash": "4221670f905fea9ae63d68da118e10d2cad93a36a65c3325530da287d71e9aea"
   }
  }
 },
 "nbformat": 4,
 "nbformat_minor": 2
}

{
 "cells": [
  {
   "cell_type": "code",
   "execution_count": 1,
   "metadata": {},
   "outputs": [],
   "source": [
    "import cv2\n",
    "import numpy as np\n",
    "import msgpack as mp\n",
    "import msgpack_numpy as mpn\n",
    "import os\n",
    "import sys\n",
    "import matplotlib.pyplot as plt\n",
    "import time"
   ]
  },
  {
   "cell_type": "code",
   "execution_count": 2,
   "metadata": {},
   "outputs": [],
   "source": [
    "_pth = r\"C:\\Users\\CMC\\Documents\\openposelibs\\pose\\armbo\\recording_programs\\test_data\\multi_cam_nov_14\\sk16_15_forward_fast\"\n",
    "_video_pth = os.path.join(_pth, \"webcam_color.msgpack\")"
   ]
  },
  {
   "cell_type": "code",
   "execution_count": 3,
   "metadata": {},
   "outputs": [],
   "source": [
    "# open msgpack file\n",
    "_img = 0\n",
    "counter = 0\n",
    "with open(_video_pth, \"rb\") as _file:\n",
    "    unpacker = mp.Unpacker(_file, object_hook=mpn.decode)\n",
    "    for i in unpacker:\n",
    "    # _frame = _frame.astype(np.uint8)\n",
    "        # plt.imshow(i, cmap=\"gray\")\n",
    "        # break\n",
    "        counter += 1\n",
    "        _img = i\n",
    "\n",
    "        cv2.imshow(\"frame\", i)\n",
    "        cv2.waitKey(1)\n",
    "        time.sleep(0.01)\n",
    "\n"
   ]
  },
  {
   "cell_type": "code",
   "execution_count": 4,
   "metadata": {},
   "outputs": [],
   "source": [
    "cv2.destroyAllWindows()"
   ]
  },
  {
   "cell_type": "code",
   "execution_count": 7,
   "metadata": {},
   "outputs": [
    {
     "data": {
      "text/plain": [
       "369"
      ]
     },
     "execution_count": 7,
     "metadata": {},
     "output_type": "execute_result"
    }
   ],
   "source": [
    "counter"
   ]
  },
  {
   "cell_type": "code",
   "execution_count": 6,
   "metadata": {},
   "outputs": [],
   "source": [
    "# open msgpack file\n",
    "# save it as video\n",
    "# We need to set resolutions.\n",
    "# so, convert them from float to integer.\n",
    "h, w = _img.shape\n",
    "frame_width = int(h)\n",
    "frame_height = int(w)\n",
    "   \n",
    "size = (frame_width, frame_height)\n",
    "   \n",
    "# Below VideoWriter object will create\n",
    "# a frame of above defined The output \n",
    "# is stored in 'filename.avi' file.\n",
    "_video_pth = os.path.join(_pth, \"video.avi\")\n",
    "result = cv2.VideoWriter(_video_pth, \n",
    "                         cv2.VideoWriter_fourcc(*'MJPG'),\n",
    "                         15, size)\n",
    "counter = 0\n",
    "with open(_video_pth, \"rb\") as _file:\n",
    "    unpacker = mp.Unpacker(_file, object_hook=mpn.decode)\n",
    "    for i in unpacker:\n",
    "        counter += 1\n",
    "        # cv2.imshow(\"frame\", i)\n",
    "        # cv2.waitKey(1)\n",
    "        result.write(i)\n",
    "result.release()"
   ]
  },
  {
   "cell_type": "code",
   "execution_count": null,
   "metadata": {},
   "outputs": [],
   "source": []
  }
 ],
 "metadata": {
  "kernelspec": {
   "display_name": "Python 3.7.13 ('gs')",
   "language": "python",
   "name": "python3"
  },
  "language_info": {
   "codemirror_mode": {
    "name": "ipython",
    "version": 3
   },
   "file_extension": ".py",
   "mimetype": "text/x-python",
   "name": "python",
   "nbconvert_exporter": "python",
   "pygments_lexer": "ipython3",
   "version": "3.7.13"
  },
  "orig_nbformat": 4,
  "vscode": {
   "interpreter": {
    "hash": "4221670f905fea9ae63d68da118e10d2cad93a36a65c3325530da287d71e9aea"
   }
  }
 },
 "nbformat": 4,
 "nbformat_minor": 2
}

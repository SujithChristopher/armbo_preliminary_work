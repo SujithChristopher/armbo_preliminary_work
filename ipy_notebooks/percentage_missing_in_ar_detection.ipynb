{
 "cells": [
  {
   "cell_type": "code",
   "execution_count": 1,
   "metadata": {},
   "outputs": [],
   "source": [
    "import numpy as np\n",
    "import pandas as pd\n",
    "import matplotlib.pyplot as plt\n",
    "import os\n",
    "\n",
    "sys.path.append(os.path.join(os.getcwd(), \"..\"))\n",
    "from support.generate_ar_data import *\n",
    "from support.pd_support import *\n",
    "from support.calculations_support import *\n",
    "from support.mecanum_calculations import *\n",
    "from support.ar_calculations import *\n",
    "from tqdm import tqdm"
   ]
  },
  {
   "cell_type": "code",
   "execution_count": 2,
   "metadata": {},
   "outputs": [
    {
     "data": {
      "text/plain": [
       "'c:\\\\Users\\\\CMC\\\\Documents\\\\openposelibs\\\\pose\\\\armbo\\\\recording_programs\\\\test_data\\\\single_cam_jan_5_2023_3cm\\\\sk16_15_quad_fast'"
      ]
     },
     "execution_count": 2,
     "metadata": {},
     "output_type": "execute_result"
    }
   ],
   "source": [
    "_parent_folder = \"single_cam_jan_5_2023_3cm\"\n",
    "_folder_name = \"sk16_15_quad_fast\"\n",
    "_calib_filename = \"calibration_15fps_00\"\n",
    "\n",
    "_base_pth = os.path.dirname(os.getcwd())\n",
    "_base_pth = os.path.join(_base_pth, \"recording_programs\", \"test_data\")\n",
    "\n",
    "_pth = os.path.join(_base_pth, _parent_folder, _folder_name)\n",
    "_calib_pth = os.path.join(_base_pth, _parent_folder, _calib_filename)\n",
    "\n",
    "_video_file_name = \"webcam_calibration.msgpack\"\n",
    "_pth"
   ]
  },
  {
   "cell_type": "code",
   "execution_count": 3,
   "metadata": {},
   "outputs": [],
   "source": [
    "_recorded_folder_list = os.listdir(os.path.join(_base_pth, _parent_folder))\n",
    "_txt_pth = os.path.join(_base_pth, _parent_folder,\"00_analysis\", \"folder_list.txt\")\n",
    "# with open(_txt_pth, \"w\") as f:\n",
    "#     for i in _recorded_folder_list:\n",
    "#         f.write(i + \"\\n\")"
   ]
  },
  {
   "cell_type": "code",
   "execution_count": 4,
   "metadata": {},
   "outputs": [
    {
     "name": "stdout",
     "output_type": "stream",
     "text": [
      "camera matrix [[844.83674494   0.         365.27912269]\n",
      " [  0.         845.06800186 278.18340944]\n",
      " [  0.           0.           1.        ]]\n",
      "distortion [[ 0.10971316 -0.93022571  0.01346217  0.00527896  1.47791377]]\n"
     ]
    }
   ],
   "source": [
    "#calibration path\n",
    "_webcam_calib_pth = os.path.join(_calib_pth, _video_file_name)\n",
    "\n",
    "#open the calibration files\n",
    "with open(_webcam_calib_pth, \"rb\") as f:\n",
    "    webcam_calib = mp.Unpacker(f, object_hook=mpn.decode)\n",
    "    _temp = next(webcam_calib)\n",
    "    _webcam_cam_mat = _temp[0]\n",
    "    _webcam_dist = _temp[1]\n",
    "\n",
    "print(\"camera matrix\", _webcam_cam_mat)\n",
    "print(\"distortion\", _webcam_dist)\n"
   ]
  },
  {
   "cell_type": "code",
   "execution_count": 5,
   "metadata": {},
   "outputs": [],
   "source": [
    "def iter_analysis(_pth, _webcam_cam_mat, _webcam_dist):\n",
    "    #webcam path\n",
    "    _webcam_video_pth = os.path.join(_pth, _video_file_name.split(\"_\")[0] + \"_color.msgpack\")\n",
    "\n",
    "    #timestamp path\n",
    "    _webcam_timestamp_pth = os.path.join(_pth, _video_file_name.split(\"_\")[0] + \"_timestamp.msgpack\")\n",
    "    _w_df = get_ar_pose_data(_webcam_video_pth, _webcam_cam_mat, _webcam_dist, is_color=False, single_file=True, flip_frame=True)\n",
    "    _w_df = add_time_from_file(_w_df, _webcam_timestamp_pth)\n",
    "    # get percentage of nan values\n",
    "    percent_missing = _w_df[\"x\"].isnull().sum() * 100 / len(_w_df[\"x\"])\n",
    "    total_frames = len(_w_df[\"x\"])\n",
    "    missing_frames = _w_df[\"x\"].isnull().sum()\n",
    "    return percent_missing, total_frames, missing_frames"
   ]
  },
  {
   "cell_type": "code",
   "execution_count": 6,
   "metadata": {},
   "outputs": [
    {
     "name": "stderr",
     "output_type": "stream",
     "text": [
      "100%|██████████| 96/96 [21:16<00:00, 13.30s/it]\n"
     ]
    }
   ],
   "source": [
    "# read foldernames from txt file\n",
    "with open(_txt_pth, \"r\") as f:\n",
    "    _folder_list = f.readlines()\n",
    "_folder_list = [i.strip() for i in _folder_list]\n",
    "\n",
    "# create a dataframe to store the data\n",
    "df = pd.DataFrame(columns = [\"folder_name\", \"total_frames\", \"missing_frames\", \"percentage_missing\"])\n",
    "\n",
    "# loop through the folders\n",
    "_per_missing = []\n",
    "_total_frame_list = []\n",
    "_missing_frame_list = []\n",
    "for i in tqdm(_folder_list):\n",
    "    _tmp_pth = os.path.join(_base_pth, _parent_folder, i)\n",
    "    _p, _t, _m = iter_analysis(_tmp_pth, _webcam_cam_mat, _webcam_dist)\n",
    "    _per_missing.append(_p)\n",
    "    _total_frame_list.append(_t)\n",
    "    _missing_frame_list.append(_m)\n"
   ]
  },
  {
   "cell_type": "code",
   "execution_count": 7,
   "metadata": {},
   "outputs": [],
   "source": [
    "# check fps value\n",
    "fps_val = []\n",
    "for i in _folder_list:\n",
    "    fps_val.append(int(i.split(\"_\")[1]))\n",
    "\n",
    "# check speed of movement\n",
    "speed_val = []\n",
    "for i in _folder_list:\n",
    "    speed_val.append(i.split(\"_\")[3])\n",
    "\n",
    "# check if quad or skateboard\n",
    "quad_val = []\n",
    "for i in _folder_list:\n",
    "    if i.split(\"_\")[2] == \"quad\":\n",
    "        quad_val.append(\"quad\")\n",
    "    else:\n",
    "        quad_val.append(\"skateboard\")\n"
   ]
  },
  {
   "cell_type": "code",
   "execution_count": 8,
   "metadata": {},
   "outputs": [],
   "source": [
    "df[\"folder_name\"] = _folder_list\n",
    "df[\"total_frames\"] = _total_frame_list\n",
    "df[\"missing_frames\"] = _missing_frame_list\n",
    "df[\"percentage_missing\"] = _per_missing\n",
    "df[\"fps\"] = fps_val\n",
    "df[\"speed\"] = speed_val\n",
    "df[\"object\"] = quad_val"
   ]
  },
  {
   "cell_type": "code",
   "execution_count": 9,
   "metadata": {},
   "outputs": [],
   "source": [
    "# df to csv\n",
    "df.to_csv(os.path.join(_base_pth, _parent_folder, \"00_analysis\", \"missing_data.csv\"), index=False)"
   ]
  },
  {
   "cell_type": "code",
   "execution_count": 2,
   "metadata": {},
   "outputs": [],
   "source": [
    "# list folder names\n",
    "# read from csv file\n",
    "_temp_pth = r\"D:\\ArUco recordings\\single_cam_jan_5_2023_3cm\\00_analysis\\missing_data.csv\"\n",
    "# df = pd.read_csv(os.path.join(_base_pth, _parent_folder, \"00_analysis\", \"missing_data.csv\"))\n",
    "df = pd.read_csv(_temp_pth)"
   ]
  },
  {
   "cell_type": "code",
   "execution_count": 5,
   "metadata": {},
   "outputs": [
    {
     "data": {
      "image/png": "[encoded data removed]",
      "text/plain": [
       "<Figure size 1000x1000 with 1 Axes>"
      ]
     },
     "metadata": {},
     "output_type": "display_data"
    }
   ],
   "source": [
    "# boxplot\n",
    "import seaborn as sns\n",
    "# sns.set_theme(style=\"whitegrid\")\n",
    "fig, ax = plt.subplots(figsize=(10, 10))\n",
    "ax = sns.boxplot(x=\"fps\", y=\"percentage_missing\", hue=\"object\", data=df)\n",
    "\n",
    "ax.set_xlabel(\"FPS\", fontsize=30)\n",
    "ax.set_ylabel(\"Missing %\", fontsize=30)\n",
    "ax.legend(fontsize=20)\n",
    "ax.tick_params(axis='both', which='major', labelsize=20)\n",
    "\n",
    "plt.show()"
   ]
  },
  {
   "cell_type": "code",
   "execution_count": null,
   "metadata": {},
   "outputs": [],
   "source": []
  }
 ],
 "metadata": {
  "kernelspec": {
   "display_name": "mira",
   "language": "python",
   "name": "python3"
  },
  "language_info": {
   "codemirror_mode": {
    "name": "ipython",
    "version": 3
   },
   "file_extension": ".py",
   "mimetype": "text/x-python",
   "name": "python",
   "nbconvert_exporter": "python",
   "pygments_lexer": "ipython3",
   "version": "3.7.11"
  },
  "orig_nbformat": 4,
  "vscode": {
   "interpreter": {
    "hash": "5e150188acfe9ffecc9060698e0419ffeeaf23b924b6dc14c3c2ca6e878e68e6"
   }
  }
 },
 "nbformat": 4,
 "nbformat_minor": 2
}

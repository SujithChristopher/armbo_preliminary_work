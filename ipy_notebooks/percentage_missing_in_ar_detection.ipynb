{
 "cells": [
  {
   "cell_type": "code",
   "execution_count": 1,
   "metadata": {},
   "outputs": [],
   "source": [
    "import numpy as np\n",
    "import pandas as pd\n",
    "import matplotlib.pyplot as plt\n",
    "import os\n",
    "\n",
    "sys.path.append(os.path.join(os.getcwd(), \"..\"))\n",
    "from support.generate_ar_data import *\n",
    "from support.pd_support import *\n",
    "from support.calculations_support import *\n",
    "from support.mecanum_calculations import *\n",
    "from support.ar_calculations import *\n",
    "import multiprocessing\n",
    "from tqdm import tqdm\n",
    "from parfor import parfor"
   ]
  },
  {
   "cell_type": "code",
   "execution_count": 2,
   "metadata": {},
   "outputs": [
    {
     "data": {
      "text/plain": [
       "'c:\\\\Users\\\\CMC\\\\Documents\\\\openposelibs\\\\pose\\\\armbo\\\\recording_programs\\\\test_data\\\\single_cam_jan_5_2023_3cm\\\\calibration_15fps_00'"
      ]
     },
     "execution_count": 2,
     "metadata": {},
     "output_type": "execute_result"
    }
   ],
   "source": [
    "_parent_folder = \"single_cam_jan_5_2023_3cm\"\n",
    "_calib_filename = \"calibration_15fps_00\"\n",
    "_base_pth = os.path.dirname(os.getcwd())\n",
    "_base_pth = os.path.join(_base_pth, \"recording_programs\", \"test_data\")\n",
    "\n",
    "_calib_pth = os.path.join(_base_pth, _parent_folder, _calib_filename)\n",
    "_calib_pth"
   ]
  },
  {
   "cell_type": "code",
   "execution_count": 3,
   "metadata": {},
   "outputs": [],
   "source": [
    "_recorded_folder_list = os.listdir(os.path.join(_base_pth, _parent_folder))\n",
    "_txt_pth = os.path.join(_base_pth, _parent_folder,\"00_analysis\", \"folder_list.txt\")\n",
    "with open(_txt_pth, \"w\") as f:\n",
    "    for i in _recorded_folder_list:\n",
    "        f.write(i + \"\\n\")"
   ]
  },
  {
   "cell_type": "code",
   "execution_count": 4,
   "metadata": {},
   "outputs": [
    {
     "name": "stdout",
     "output_type": "stream",
     "text": [
      "camera matrix [[844.83674494   0.         365.27912269]\n",
      " [  0.         845.06800186 278.18340944]\n",
      " [  0.           0.           1.        ]]\n",
      "distortion [[ 0.10971316 -0.93022571  0.01346217  0.00527896  1.47791377]]\n"
     ]
    }
   ],
   "source": [
    "#calibration path\n",
    "_webcam_calib_pth = os.path.join(_calib_pth, \"webcam_calibration.msgpack\")\n",
    "\n",
    "#open the calibration files\n",
    "with open(_webcam_calib_pth, \"rb\") as f:\n",
    "    webcam_calib = mp.Unpacker(f, object_hook=mpn.decode)\n",
    "    _temp = next(webcam_calib)\n",
    "    _webcam_cam_mat = _temp[0]\n",
    "    _webcam_dist = _temp[1]\n",
    "\n",
    "print(\"camera matrix\", _webcam_cam_mat)\n",
    "print(\"distortion\", _webcam_dist)\n"
   ]
  },
  {
   "cell_type": "code",
   "execution_count": 5,
   "metadata": {},
   "outputs": [],
   "source": [
    "def iter_analysis(_pth, _webcam_cam_mat, _webcam_dist):\n",
    "    #webcam path\n",
    "    _webcam_video_pth = os.path.join(_pth, \"webcam_color.msgpack\")\n",
    "\n",
    "    #timestamp path\n",
    "    _webcam_timestamp_pth = os.path.join(_pth, \"webcam_timestamp.msgpack\")\n",
    "    _w_df = get_ar_pose_data(_webcam_video_pth, _webcam_cam_mat, _webcam_dist, is_color=False, single_file=True, flip_frame=True)\n",
    "    _w_df = add_time_from_file(_w_df, _webcam_timestamp_pth)\n",
    "    # get percentage of nan values\n",
    "    percent_missing = _w_df[\"x\"].isnull().sum() * 100 / len(_w_df[\"x\"])\n",
    "    total_frames = len(_w_df[\"x\"])\n",
    "    missing_frames = _w_df[\"x\"].isnull().sum()\n",
    "    return percent_missing, total_frames, missing_frames"
   ]
  },
  {
   "cell_type": "code",
   "execution_count": 6,
   "metadata": {},
   "outputs": [
    {
     "name": "stdout",
     "output_type": "stream",
     "text": [
      "cores 12\n"
     ]
    }
   ],
   "source": [
    "# available cores\n",
    "print(\"cores\", multiprocessing.cpu_count())\n",
    "# maximum threads\n"
   ]
  },
  {
   "cell_type": "code",
   "execution_count": null,
   "metadata": {},
   "outputs": [
    {
     "ename": "",
     "evalue": "",
     "output_type": "error",
     "traceback": [
      "\u001b[1;31mFailed to restart the Kernel. \n",
      "\u001b[1;31mUnable to start Kernel 'gs (Python 3.7.13)' due to connection timeout. \n",
      "\u001b[1;31mView Jupyter <a href='command:jupyter.viewOutput'>log</a> for further details."
     ]
    }
   ],
   "source": [
    "_txt_pth = os.path.join(_base_pth, _parent_folder,\"00_analysis\", \"folder_list.txt\")\n",
    "\n",
    "# read foldernames from txt file\n",
    "with open(_txt_pth, \"r\") as f:\n",
    "    _folder_list = f.readlines()\n",
    "_folder_list = [i.strip() for i in _folder_list]\n",
    "\n",
    "# create a dataframe to store the data\n",
    "df = pd.DataFrame(columns = [\"folder_name\", \"total_frames\", \"missing_frames\", \"percentage_missing\"])\n",
    "\n",
    "\"\"\"\n",
    "These are the list of data to accquire\n",
    "\"\"\"\n",
    "\n",
    "# loop through the folders\n",
    "_per_missing = []\n",
    "_total_frame_list = []\n",
    "_missing_frame_list = []\n",
    "fps_val = []\n",
    "speed_val = []\n",
    "quad_val = []\n",
    "\n",
    "\"\"\"\n",
    "Thread function\n",
    "\"\"\"\n",
    "@parfor(_folder_list)\n",
    "def thread_fun(_folder_name):\n",
    "    _tmp_pth = os.path.join(_base_pth, _parent_folder, _folder_name)\n",
    "    _p, _t, _m = iter_analysis(_tmp_pth, _webcam_cam_mat, _webcam_dist)\n",
    "    _per_missing.append(_p)\n",
    "    _total_frame_list.append(_t)\n",
    "    _missing_frame_list.append(_m)\n",
    "    \n",
    "    # check fps value\n",
    "    fps_val.append(int(_folder_name.split(\"_\")[1]))\n",
    "    # check speed of movement\n",
    "    speed_val.append(_folder_name.split(\"_\")[3])\n",
    "    # check if quad or skateboard\n",
    "    if _folder_name.split(\"_\")[2] == \"quad\":\n",
    "        quad_val.append(\"quad\")\n",
    "    else:\n",
    "        quad_val.append(\"skateboard\")"
   ]
  },
  {
   "cell_type": "code",
   "execution_count": null,
   "metadata": {},
   "outputs": [],
   "source": [
    "df[\"folder_name\"] = _folder_list\n",
    "df[\"total_frames\"] = _total_frame_list\n",
    "df[\"missing_frames\"] = _missing_frame_list\n",
    "df[\"percentage_missing\"] = _per_missing\n",
    "df[\"fps\"] = fps_val\n",
    "df[\"speed\"] = speed_val\n",
    "df[\"object\"] = quad_val"
   ]
  },
  {
   "cell_type": "code",
   "execution_count": null,
   "metadata": {},
   "outputs": [],
   "source": [
    "# df to csv\n",
    "df.to_csv(os.path.join(_base_pth, _parent_folder, \"00_analysis\", \"missing_data.csv\"), index=False)"
   ]
  },
  {
   "cell_type": "code",
   "execution_count": null,
   "metadata": {},
   "outputs": [],
   "source": [
    "# list folder names\n",
    "# read from csv file\n",
    "df = pd.read_csv(os.path.join(_base_pth, _parent_folder, \"00_analysis\", \"missing_data.csv\"))"
   ]
  },
  {
   "cell_type": "code",
   "execution_count": null,
   "metadata": {},
   "outputs": [],
   "source": [
    "# based on fps\n",
    "fps = 60\n",
    "_obj = \"quad\"\n",
    "print(df[(df[\"fps\"] == fps) & (df[\"object\"] == _obj)][\"percentage_missing\"].mean())\n",
    "print(df[(df[\"fps\"] == fps) & (df[\"object\"] == _obj)][\"percentage_missing\"].std())\n",
    "print(df[(df[\"fps\"] == fps) & (df[\"object\"] == _obj)][\"percentage_missing\"].max())"
   ]
  },
  {
   "cell_type": "code",
   "execution_count": null,
   "metadata": {},
   "outputs": [],
   "source": []
  },
  {
   "cell_type": "code",
   "execution_count": null,
   "metadata": {},
   "outputs": [],
   "source": [
    "# boxplot\n",
    "import seaborn as sns\n",
    "sns.set_theme(style=\"whitegrid\")\n",
    "ax = sns.boxplot(x=\"fps\", y=\"percentage_missing\", hue=\"object\", data=df)\n",
    "plt.show()"
   ]
  },
  {
   "cell_type": "code",
   "execution_count": null,
   "metadata": {},
   "outputs": [],
   "source": [
    "# based on object\n",
    "_obj = \"skateboard\"\n",
    "_speed = \"slow\"\n",
    "print(df[(df[\"speed\"] == _speed) & (df[\"object\"] == _obj)][\"percentage_missing\"].mean())\n",
    "print(df[(df[\"speed\"] == _speed) & (df[\"object\"] == _obj)][\"percentage_missing\"].std())\n",
    "print(df[(df[\"speed\"] == _speed) & (df[\"object\"] == _obj)][\"percentage_missing\"].max())"
   ]
  },
  {
   "cell_type": "code",
   "execution_count": null,
   "metadata": {},
   "outputs": [],
   "source": [
    "# based on movement speed\n",
    "_obj = \"skateboard\"\n",
    "_speed = \"fast\"\n",
    "_fps = 60\n",
    "print(df[(df[\"speed\"] == _speed) & (df[\"object\"] == _obj) & (df[\"fps\"] == _fps)][\"percentage_missing\"].mean())\n",
    "print(df[(df[\"speed\"] == _speed) & (df[\"object\"] == _obj) & (df[\"fps\"] == _fps)][\"percentage_missing\"].std())\n",
    "print(df[(df[\"speed\"] == _speed) & (df[\"object\"] == _obj) & (df[\"fps\"] == _fps)][\"percentage_missing\"].max())"
   ]
  },
  {
   "cell_type": "code",
   "execution_count": null,
   "metadata": {},
   "outputs": [],
   "source": []
  }
 ],
 "metadata": {
  "kernelspec": {
   "display_name": "gs",
   "language": "python",
   "name": "python3"
  },
  "language_info": {
   "codemirror_mode": {
    "name": "ipython",
    "version": 3
   },
   "file_extension": ".py",
   "mimetype": "text/x-python",
   "name": "python",
   "nbconvert_exporter": "python",
   "pygments_lexer": "ipython3",
   "version": "3.7.13"
  },
  "orig_nbformat": 4,
  "vscode": {
   "interpreter": {
    "hash": "4221670f905fea9ae63d68da118e10d2cad93a36a65c3325530da287d71e9aea"
   }
  }
 },
 "nbformat": 4,
 "nbformat_minor": 2
}

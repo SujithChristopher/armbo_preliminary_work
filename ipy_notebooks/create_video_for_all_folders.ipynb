{
 "cells": [
  {
   "cell_type": "code",
   "execution_count": 2,
   "metadata": {},
   "outputs": [],
   "source": [
    "import numpy as np\n",
    "import cv2\n",
    "import os\n",
    "import msgpack as mp\n",
    "import msgpack_numpy as mpn"
   ]
  },
  {
   "cell_type": "code",
   "execution_count": 3,
   "metadata": {},
   "outputs": [],
   "source": [
    "_parent_folder = \"multi_cam_nov_14\"\n",
    "\n",
    "\n",
    "_base_pth = os.path.dirname(os.getcwd())\n",
    "_base_pth = os.path.join(_base_pth, \"recording_programs\", \"test_data\")\n",
    "\n",
    "_txt_pth = os.path.join(_base_pth, _parent_folder,\"00_analysis\", \"folder_list.txt\")"
   ]
  },
  {
   "cell_type": "code",
   "execution_count": 4,
   "metadata": {},
   "outputs": [],
   "source": [
    "# read foldernames from txt file\n",
    "with open(_txt_pth, \"r\") as f:\n",
    "    _folder_list = f.readlines()\n",
    "_folder_list = [i.strip() for i in _folder_list]"
   ]
  },
  {
   "cell_type": "code",
   "execution_count": 5,
   "metadata": {},
   "outputs": [],
   "source": [
    "\n",
    "def convert_and_save(_video_pth, folder_name):\n",
    "\n",
    "    fps = folder_name.split(\"_\")[1]\n",
    "\n",
    "    h, w = 0, 0\n",
    "\n",
    "    with open(_video_pth, \"rb\") as _file:\n",
    "        unpacker = mp.Unpacker(_file, object_hook=mpn.decode)\n",
    "        for i in unpacker:\n",
    "            # this is for black and white image\n",
    "            h, w = i.shape\n",
    "            break\n",
    "\n",
    "    result = cv2.VideoWriter('video.avi', \n",
    "                            cv2.VideoWriter_fourcc(*'MJPG'),\n",
    "                            fps, (w, h))\n",
    "    \n",
    "    with open(_video_pth, \"rb\") as _file:\n",
    "        unpacker = mp.Unpacker(_file, object_hook=mpn.decode)\n",
    "        for i in unpacker:\n",
    "            # this is for black and white image\n",
    "            result.write(i)\n",
    "    result.release()"
   ]
  },
  {
   "cell_type": "code",
   "execution_count": 6,
   "metadata": {},
   "outputs": [
    {
     "data": {
      "text/plain": [
       "'sk16_15_forward_fast'"
      ]
     },
     "execution_count": 6,
     "metadata": {},
     "output_type": "execute_result"
    }
   ],
   "source": [
    "_base_pth\n",
    "_folder_list[0]\n"
   ]
  },
  {
   "cell_type": "code",
   "execution_count": 7,
   "metadata": {},
   "outputs": [
    {
     "ename": "FileNotFoundError",
     "evalue": "[Errno 2] No such file or directory: 'c:\\\\Users\\\\CMC\\\\Documents\\\\openposelibs\\\\pose\\\\armbo\\\\recording_programs\\\\test_data\\\\sk16_15_forward_fast\\\\webcam_color.mgspack'",
     "output_type": "error",
     "traceback": [
      "\u001b[1;31m---------------------------------------------------------------------------\u001b[0m",
      "\u001b[1;31mFileNotFoundError\u001b[0m                         Traceback (most recent call last)",
      "\u001b[1;32m~\\AppData\\Local\\Temp\\ipykernel_27236\\1653902395.py\u001b[0m in \u001b[0;36m<module>\u001b[1;34m\u001b[0m\n\u001b[1;32m----> 1\u001b[1;33m \u001b[0mconvert_and_save\u001b[0m\u001b[1;33m(\u001b[0m\u001b[0mos\u001b[0m\u001b[1;33m.\u001b[0m\u001b[0mpath\u001b[0m\u001b[1;33m.\u001b[0m\u001b[0mjoin\u001b[0m\u001b[1;33m(\u001b[0m\u001b[0m_base_pth\u001b[0m\u001b[1;33m,\u001b[0m \u001b[0m_folder_list\u001b[0m\u001b[1;33m[\u001b[0m\u001b[1;36m0\u001b[0m\u001b[1;33m]\u001b[0m\u001b[1;33m,\u001b[0m \u001b[1;34m\"webcam_color.mgspack\"\u001b[0m\u001b[1;33m)\u001b[0m\u001b[1;33m,\u001b[0m \u001b[0mfolder_name\u001b[0m\u001b[1;33m=\u001b[0m\u001b[0m_folder_list\u001b[0m\u001b[1;33m[\u001b[0m\u001b[1;36m0\u001b[0m\u001b[1;33m]\u001b[0m\u001b[1;33m)\u001b[0m\u001b[1;33m\u001b[0m\u001b[1;33m\u001b[0m\u001b[0m\n\u001b[0m",
      "\u001b[1;32m~\\AppData\\Local\\Temp\\ipykernel_27236\\1219231837.py\u001b[0m in \u001b[0;36mconvert_and_save\u001b[1;34m(_video_pth, folder_name)\u001b[0m\n\u001b[0;32m      5\u001b[0m     \u001b[0mh\u001b[0m\u001b[1;33m,\u001b[0m \u001b[0mw\u001b[0m \u001b[1;33m=\u001b[0m \u001b[1;36m0\u001b[0m\u001b[1;33m,\u001b[0m \u001b[1;36m0\u001b[0m\u001b[1;33m\u001b[0m\u001b[1;33m\u001b[0m\u001b[0m\n\u001b[0;32m      6\u001b[0m \u001b[1;33m\u001b[0m\u001b[0m\n\u001b[1;32m----> 7\u001b[1;33m     \u001b[1;32mwith\u001b[0m \u001b[0mopen\u001b[0m\u001b[1;33m(\u001b[0m\u001b[0m_video_pth\u001b[0m\u001b[1;33m,\u001b[0m \u001b[1;34m\"rb\"\u001b[0m\u001b[1;33m)\u001b[0m \u001b[1;32mas\u001b[0m \u001b[0m_file\u001b[0m\u001b[1;33m:\u001b[0m\u001b[1;33m\u001b[0m\u001b[1;33m\u001b[0m\u001b[0m\n\u001b[0m\u001b[0;32m      8\u001b[0m         \u001b[0munpacker\u001b[0m \u001b[1;33m=\u001b[0m \u001b[0mmp\u001b[0m\u001b[1;33m.\u001b[0m\u001b[0mUnpacker\u001b[0m\u001b[1;33m(\u001b[0m\u001b[0m_file\u001b[0m\u001b[1;33m,\u001b[0m \u001b[0mobject_hook\u001b[0m\u001b[1;33m=\u001b[0m\u001b[0mmpn\u001b[0m\u001b[1;33m.\u001b[0m\u001b[0mdecode\u001b[0m\u001b[1;33m)\u001b[0m\u001b[1;33m\u001b[0m\u001b[1;33m\u001b[0m\u001b[0m\n\u001b[0;32m      9\u001b[0m         \u001b[1;32mfor\u001b[0m \u001b[0mi\u001b[0m \u001b[1;32min\u001b[0m \u001b[0munpacker\u001b[0m\u001b[1;33m:\u001b[0m\u001b[1;33m\u001b[0m\u001b[1;33m\u001b[0m\u001b[0m\n",
      "\u001b[1;31mFileNotFoundError\u001b[0m: [Errno 2] No such file or directory: 'c:\\\\Users\\\\CMC\\\\Documents\\\\openposelibs\\\\pose\\\\armbo\\\\recording_programs\\\\test_data\\\\sk16_15_forward_fast\\\\webcam_color.mgspack'"
     ]
    }
   ],
   "source": [
    "convert_and_save(os.path.join(_base_pth, _folder_list[0], \"webcam_color.mgspack\"), folder_name=_folder_list[0])"
   ]
  },
  {
   "cell_type": "code",
   "execution_count": 31,
   "metadata": {},
   "outputs": [
    {
     "name": "stdout",
     "output_type": "stream",
     "text": [
      "608 750\n"
     ]
    }
   ],
   "source": [
    "fps = int(_folder_list[0].split(\"_\")[1])\n",
    "\n",
    "_video_pth = r\"C:\\Users\\CMC\\Documents\\openposelibs\\pose\\armbo\\recording_programs\\test_data\\multi_cam_nov_14\\sk16_15_sidways_slow\\webcam_color.msgpack\"\n",
    "\n",
    "h, w = 0, 0\n",
    "\n",
    "with open(_video_pth, \"rb\") as _file:\n",
    "    unpacker = mp.Unpacker(_file, object_hook=mpn.decode)\n",
    "    for i in unpacker:\n",
    "        h, w = i.shape\n",
    "        break\n",
    "\n",
    "result = cv2.VideoWriter('video.mp4', \n",
    "                        cv2.VideoWriter_fourcc(*'XVID'),\n",
    "                        fps, (w, h), 0)\n",
    "\n",
    "print(h, w)\n",
    "\n",
    "with open(_video_pth, \"rb\") as _file:\n",
    "    unpacker = mp.Unpacker(_file, object_hook=mpn.decode)\n",
    "    for i in unpacker:\n",
    "        # this is for black and white image\n",
    "        result.write(i)\n",
    "        # print(i)\n",
    "result.release()"
   ]
  },
  {
   "cell_type": "code",
   "execution_count": 21,
   "metadata": {},
   "outputs": [
    {
     "data": {
      "text/plain": [
       "750"
      ]
     },
     "execution_count": 21,
     "metadata": {},
     "output_type": "execute_result"
    }
   ],
   "source": [
    "w"
   ]
  },
  {
   "cell_type": "code",
   "execution_count": 12,
   "metadata": {},
   "outputs": [],
   "source": [
    "with open(_video_pth, \"rb\") as _file:\n",
    "    unpacker = mp.Unpacker(_file, object_hook=mpn.decode)\n"
   ]
  },
  {
   "cell_type": "code",
   "execution_count": null,
   "metadata": {},
   "outputs": [],
   "source": []
  }
 ],
 "metadata": {
  "kernelspec": {
   "display_name": "Python 3.7.13 ('gs')",
   "language": "python",
   "name": "python3"
  },
  "language_info": {
   "codemirror_mode": {
    "name": "ipython",
    "version": 3
   },
   "file_extension": ".py",
   "mimetype": "text/x-python",
   "name": "python",
   "nbconvert_exporter": "python",
   "pygments_lexer": "ipython3",
   "version": "3.7.13"
  },
  "orig_nbformat": 4,
  "vscode": {
   "interpreter": {
    "hash": "4221670f905fea9ae63d68da118e10d2cad93a36a65c3325530da287d71e9aea"
   }
  }
 },
 "nbformat": 4,
 "nbformat_minor": 2
}

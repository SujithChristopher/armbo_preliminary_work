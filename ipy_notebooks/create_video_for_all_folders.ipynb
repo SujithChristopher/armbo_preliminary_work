{
 "cells": [
  {
   "cell_type": "code",
   "execution_count": 1,
   "metadata": {},
   "outputs": [],
   "source": [
    "import numpy as np\n",
    "import cv2\n",
    "import os\n",
    "import msgpack as mp\n",
    "import msgpack_numpy as mpn\n",
    "from tqdm import tqdm"
   ]
  },
  {
   "cell_type": "code",
   "execution_count": 2,
   "metadata": {},
   "outputs": [],
   "source": [
    "_parent_folder = \"multi_cam_nov_14\"\n",
    "\n",
    "_base_pth = os.path.dirname(os.getcwd())\n",
    "_base_pth = os.path.join(_base_pth, \"recording_programs\", \"test_data\")\n",
    "\n",
    "_txt_pth = os.path.join(_base_pth, _parent_folder,\"00_analysis\", \"folder_list.txt\")"
   ]
  },
  {
   "cell_type": "code",
   "execution_count": 3,
   "metadata": {},
   "outputs": [],
   "source": [
    "# read foldernames from txt file\n",
    "with open(_txt_pth, \"r\") as f:\n",
    "    _folder_list = f.readlines()\n",
    "_folder_list = [i.strip() for i in _folder_list]"
   ]
  },
  {
   "cell_type": "code",
   "execution_count": 7,
   "metadata": {},
   "outputs": [],
   "source": [
    "def convert_and_save(_video_pth, folder_name):\n",
    "    fps = int(folder_name.split(\"_\")[1])\n",
    "    h, w = 0, 0\n",
    "\n",
    "    with open(_video_pth, \"rb\") as _file:\n",
    "        unpacker = mp.Unpacker(_file, object_hook=mpn.decode)\n",
    "        for i in unpacker:\n",
    "            # this is for black and white image\n",
    "            h, w = i.shape\n",
    "            break\n",
    "    _video_save_pth = os.path.join(_base_pth, _parent_folder, folder_name, \"video.avi\")\n",
    "    result = cv2.VideoWriter(_video_save_pth, \n",
    "                            cv2.VideoWriter_fourcc(*'MJPG'),\n",
    "                            fps, (w, h), 0)\n",
    "    \n",
    "    with open(_video_pth, \"rb\") as _file:\n",
    "        unpacker = mp.Unpacker(_file, object_hook=mpn.decode)\n",
    "        for i in unpacker:\n",
    "            # this is for black and white image\n",
    "            result.write(i)\n",
    "    result.release()"
   ]
  },
  {
   "cell_type": "code",
   "execution_count": 8,
   "metadata": {},
   "outputs": [
    {
     "name": "stderr",
     "output_type": "stream",
     "text": [
      "100%|██████████| 89/89 [07:23<00:00,  4.98s/it]\n"
     ]
    }
   ],
   "source": [
    "for i in tqdm(_folder_list):\n",
    "    convert_and_save(os.path.join(_base_pth, _parent_folder,i, \"webcam_color.msgpack\"), folder_name=i)"
   ]
  },
  {
   "cell_type": "code",
   "execution_count": 6,
   "metadata": {},
   "outputs": [
    {
     "name": "stderr",
     "output_type": "stream",
     "text": [
      "100%|██████████| 89/89 [00:01<00:00, 82.06it/s] \n"
     ]
    }
   ],
   "source": [
    "def remove_video_files(_video_pth):\n",
    "    os.remove(_video_pth)\n",
    "\n",
    "for i in tqdm(_folder_list):\n",
    "    remove_video_files(os.path.join(_base_pth, _parent_folder,i, i + \".avi\"))"
   ]
  }
 ],
 "metadata": {
  "kernelspec": {
   "display_name": "Python 3.7.13 ('gs')",
   "language": "python",
   "name": "python3"
  },
  "language_info": {
   "codemirror_mode": {
    "name": "ipython",
    "version": 3
   },
   "file_extension": ".py",
   "mimetype": "text/x-python",
   "name": "python",
   "nbconvert_exporter": "python",
   "pygments_lexer": "ipython3",
   "version": "3.7.13"
  },
  "orig_nbformat": 4,
  "vscode": {
   "interpreter": {
    "hash": "4221670f905fea9ae63d68da118e10d2cad93a36a65c3325530da287d71e9aea"
   }
  }
 },
 "nbformat": 4,
 "nbformat_minor": 2
}

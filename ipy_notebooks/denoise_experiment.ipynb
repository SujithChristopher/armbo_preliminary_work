{
 "cells": [
  {
   "cell_type": "code",
   "execution_count": 3,
   "metadata": {},
   "outputs": [],
   "source": [
    "import numpy as np\n",
    "import matplotlib.pyplot as plt\n",
    "import cv2\n",
    "import os\n",
    "import sys\n",
    "import msgpack as mp\n",
    "import msgpack_numpy as mpn\n",
    "sys.path.append(os.path.join(os.getcwd(), \"..\"))\n",
    "from support.generate_ar_data import *\n",
    "from support.pd_support import *\n",
    "from support.calculations_support import *\n",
    "from support.mecanum_calculations import *\n",
    "from support.ar_calculations import *"
   ]
  },
  {
   "cell_type": "code",
   "execution_count": 4,
   "metadata": {},
   "outputs": [
    {
     "name": "stdout",
     "output_type": "stream",
     "text": [
      "camera matrix [[868.26070009   0.         372.25985418]\n",
      " [  0.         874.44598128 238.35209445]\n",
      " [  0.           0.           1.        ]]\n",
      "distortion [[ 7.07394532e-02 -3.42419375e-02 -1.86205766e-03  8.20734788e-04\n",
      "  -4.82051694e+00]]\n"
     ]
    }
   ],
   "source": [
    "_parent_folder = \"multi_cam_nov_14\"\n",
    "_folder_name = \"sk16_15_sideways_fast\"\n",
    "_calib_filename = \"calibration_15fps_quad\"\n",
    "\n",
    "_base_pth = os.path.dirname(os.getcwd())\n",
    "_base_pth = os.path.join(_base_pth, \"recording_programs\", \"test_data\")\n",
    "\n",
    "_pth = os.path.join(_base_pth, _parent_folder, _folder_name)\n",
    "_calib_pth = os.path.join(_base_pth, _parent_folder, _calib_filename)\n",
    "\n",
    "#calibration path\n",
    "_webcam_calib_pth = os.path.join(_calib_pth, \"webcam_calibration.msgpack\")\n",
    "\n",
    "#open the calibration files\n",
    "with open(_webcam_calib_pth, \"rb\") as f:\n",
    "    webcam_calib = mp.Unpacker(f, object_hook=mpn.decode)\n",
    "    _temp = next(webcam_calib)\n",
    "    _webcam_cam_mat = _temp[0]\n",
    "    _webcam_dist = _temp[1]\n",
    "_webcam_video_pth = os.path.join(_pth, \"webcam_color.msgpack\")\n",
    "print(\"camera matrix\", _webcam_cam_mat)\n",
    "print(\"distortion\", _webcam_dist)"
   ]
  },
  {
   "cell_type": "code",
   "execution_count": 5,
   "metadata": {},
   "outputs": [],
   "source": [
    "def calculate_rotmat_from_3markers(corners, ids, camera_matrix, dist_coeffs, marker_length = 0.05):\n",
    "\n",
    "    rotation_vector, translation_vector, _ = cv2.aruco.estimatePoseSingleMarkers(corners, marker_length, camera_matrix, dist_coeffs)\n",
    "\n",
    "    ids = list(ids)\n",
    "\n",
    "    z_inx = ids.index(8)\n",
    "    org_inx = ids.index(2)\n",
    "    x_inx = ids.index(1)\n",
    "\n",
    "    zvec = translation_vector[z_inx][0]\n",
    "    zvec = np.reshape(zvec, (3, 1))\n",
    "    org = translation_vector[org_inx][0] \n",
    "    org = np.reshape(org, (3, 1))\n",
    "    xvec = translation_vector[x_inx][0]\n",
    "    xvec = np.reshape(xvec, (3, 1))\n",
    "    rotMat = calculate_rotmat(xvec, zvec, org)\n",
    "\n",
    "    t_zvec = zvec - org \n",
    "    t_xvec = xvec - org\n",
    "\n",
    "    print(rotMat.T@t_xvec) \n",
    "    print(rotMat.T@t_zvec)\n",
    "\n",
    "    return rotMat, org"
   ]
  },
  {
   "cell_type": "code",
   "execution_count": 119,
   "metadata": {},
   "outputs": [],
   "source": [
    "def detect_aruco(img):\n",
    "    \"\"\"\n",
    "    Detects the lframe from the image\n",
    "\n",
    "    Idx: 6 - zvector\n",
    "    Idx: 9 - orgin\n",
    "    Idx: 10 - xvector\n",
    "    \"\"\"\n",
    "    aruco_dict = aruco.getPredefinedDictionary(aruco.DICT_ARUCO_ORIGINAL)\n",
    "    arucoParams = aruco.DetectorParameters_create()\n",
    "    arucoParams.cornerRefinementMethod = aruco.CORNER_REFINE_CONTOUR   \n",
    "    arucoParams.cornerRefinementWinSize = 5\n",
    "    arucoParams.cornerRefinementMinAccuracy = 0.01\n",
    "    arucoParams.cornerRefinementMaxIterations = 1000\n",
    "    arucoParams.adaptiveThreshWinSizeMin = 10\n",
    "    arucoParams.adaptiveThreshWinSizeMax = 50\n",
    "    arucoParams.adaptiveThreshWinSizeStep = 10\n",
    "    # arucoParams.adaptiveThreshConstant = 7\n",
    "    # arucoParams.minMarkerPerimeterRate = 0.03\n",
    "    # arucoParams.maxMarkerPerimeterRate = 4\n",
    "    arucoParams.polygonalApproxAccuracyRate = 0.03\n",
    "    # arucoParams.minCornerDistanceRate = 0.05\n",
    "    # arucoParams.minDistanceToBorder = 3\n",
    "    # arucoParams.minMarkerDistanceRate = 0.05\n",
    "    arucoParams.aprilTagQuadSigma = 0.8\n",
    "    corners, ids, rejectedImgPoints = aruco.detectMarkers(img, aruco_dict, parameters=arucoParams)\n",
    "\n",
    "    return corners, ids, rejectedImgPoints"
   ]
  },
  {
   "cell_type": "code",
   "execution_count": 88,
   "metadata": {},
   "outputs": [],
   "source": [
    "# open image file from msgpack\n",
    "\"\"\"L frame orthogonalization\"\"\"\n",
    "with open(os.path.join(_calib_pth, \"webcam_frame.msgpack\"), \"rb\") as f:\n",
    "    webcam_video = mp.Unpacker(f, object_hook=mpn.decode)\n",
    "\n",
    "    for i in webcam_video:\n",
    "        _webcam_img = i\n",
    "        break"
   ]
  },
  {
   "cell_type": "code",
   "execution_count": 89,
   "metadata": {},
   "outputs": [
    {
     "name": "stdout",
     "output_type": "stream",
     "text": [
      "[[0.15652663]\n",
      " [0.        ]\n",
      " [0.        ]]\n",
      "[[-1.70042205e-02]\n",
      " [-3.46944695e-18]\n",
      " [ 2.02218154e-01]]\n"
     ]
    }
   ],
   "source": [
    "corners, ids, _ = detect_aruco(_webcam_img)\n",
    "# print(corners)\n",
    "w_rotmat, w_org = calculate_rotmat_from_3markers(corners, ids, marker_length=0.05, camera_matrix=_webcam_cam_mat, dist_coeffs=_webcam_dist)"
   ]
  },
  {
   "cell_type": "code",
   "execution_count": 120,
   "metadata": {},
   "outputs": [
    {
     "name": "stdout",
     "output_type": "stream",
     "text": [
      "448\n"
     ]
    }
   ],
   "source": [
    "\"\"\"open video from msgpack\"\"\"\n",
    "with open(_webcam_video_pth, \"rb\") as f:\n",
    "    webcam_video = mp.Unpacker(f, object_hook=mpn.decode)\n",
    "    counter = 0\n",
    "    for i in webcam_video:\n",
    "        _webcam_img = i\n",
    "        corners, ids, _ = detect_aruco(_webcam_img)\n",
    "        if ids is not None:\n",
    "            counter += 1\n",
    "print(counter)\n",
    "        "
   ]
  },
  {
   "cell_type": "code",
   "execution_count": null,
   "metadata": {},
   "outputs": [],
   "source": []
  }
 ],
 "metadata": {
  "kernelspec": {
   "display_name": "Python 3.7.13 ('gs')",
   "language": "python",
   "name": "python3"
  },
  "language_info": {
   "codemirror_mode": {
    "name": "ipython",
    "version": 3
   },
   "file_extension": ".py",
   "mimetype": "text/x-python",
   "name": "python",
   "nbconvert_exporter": "python",
   "pygments_lexer": "ipython3",
   "version": "3.7.13"
  },
  "orig_nbformat": 4,
  "vscode": {
   "interpreter": {
    "hash": "4221670f905fea9ae63d68da118e10d2cad93a36a65c3325530da287d71e9aea"
   }
  }
 },
 "nbformat": 4,
 "nbformat_minor": 2
}

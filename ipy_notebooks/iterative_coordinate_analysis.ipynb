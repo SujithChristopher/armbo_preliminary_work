{
 "cells": [
  {
   "cell_type": "code",
   "execution_count": 3,
   "metadata": {},
   "outputs": [],
   "source": [
    "import numpy as np\n",
    "import matplotlib.pyplot as plt\n",
    "import cv2\n",
    "import os\n",
    "import sys\n",
    "import msgpack as mp\n",
    "import msgpack_numpy as mpn\n",
    "sys.path.append(os.path.join(os.getcwd(), \"..\"))\n",
    "from support.generate_ar_data import *\n",
    "from support.pd_support import *\n",
    "from support.calculations_support import *\n",
    "from support.mecanum_calculations import *\n",
    "from support.ar_calculations import *\n",
    "import pandas as pd"
   ]
  },
  {
   "cell_type": "code",
   "execution_count": 2,
   "metadata": {},
   "outputs": [
    {
     "data": {
      "text/plain": [
       "'c:\\\\Users\\\\CMC\\\\Documents\\\\openposelibs\\\\pose\\\\armbo\\\\recording_programs\\\\test_data\\\\multi_cam_nov_14'"
      ]
     },
     "execution_count": 2,
     "metadata": {},
     "output_type": "execute_result"
    }
   ],
   "source": [
    "_parent_folder = \"multi_cam_nov_14\"\n",
    "_base_pth = os.path.dirname(os.getcwd())\n",
    "_base_pth = os.path.join(_base_pth, \"recording_programs\", \"test_data\", _parent_folder)\n",
    "_base_pth"
   ]
  },
  {
   "cell_type": "code",
   "execution_count": 6,
   "metadata": {},
   "outputs": [
    {
     "data": {
      "text/html": [
       "<div>\n",
       "<style scoped>\n",
       "    .dataframe tbody tr th:only-of-type {\n",
       "        vertical-align: middle;\n",
       "    }\n",
       "\n",
       "    .dataframe tbody tr th {\n",
       "        vertical-align: top;\n",
       "    }\n",
       "\n",
       "    .dataframe thead th {\n",
       "        text-align: right;\n",
       "    }\n",
       "</style>\n",
       "<table border=\"1\" class=\"dataframe\">\n",
       "  <thead>\n",
       "    <tr style=\"text-align: right;\">\n",
       "      <th></th>\n",
       "      <th>folder_name</th>\n",
       "      <th>calibration_folder</th>\n",
       "      <th>flip</th>\n",
       "    </tr>\n",
       "  </thead>\n",
       "  <tbody>\n",
       "    <tr>\n",
       "      <th>0</th>\n",
       "      <td>sk16_15_forward_fast</td>\n",
       "      <td>calibration_15fps_sk</td>\n",
       "      <td>False</td>\n",
       "    </tr>\n",
       "    <tr>\n",
       "      <th>1</th>\n",
       "      <td>sk16_15_forward_fast_2</td>\n",
       "      <td>calibration_15fps_sk</td>\n",
       "      <td>False</td>\n",
       "    </tr>\n",
       "    <tr>\n",
       "      <th>2</th>\n",
       "      <td>sk16_15_forward_medium</td>\n",
       "      <td>calibration_15fps_sk</td>\n",
       "      <td>False</td>\n",
       "    </tr>\n",
       "    <tr>\n",
       "      <th>3</th>\n",
       "      <td>sk16_15_forward_medium_2</td>\n",
       "      <td>calibration_15fps_sk</td>\n",
       "      <td>False</td>\n",
       "    </tr>\n",
       "    <tr>\n",
       "      <th>4</th>\n",
       "      <td>sk16_15_forward_slow</td>\n",
       "      <td>calibration_15fps_sk</td>\n",
       "      <td>False</td>\n",
       "    </tr>\n",
       "    <tr>\n",
       "      <th>...</th>\n",
       "      <td>...</td>\n",
       "      <td>...</td>\n",
       "      <td>...</td>\n",
       "    </tr>\n",
       "    <tr>\n",
       "      <th>84</th>\n",
       "      <td>sk16_60_sideways_fast_2</td>\n",
       "      <td>calibration_60fps_quad_sk_3</td>\n",
       "      <td>False</td>\n",
       "    </tr>\n",
       "    <tr>\n",
       "      <th>85</th>\n",
       "      <td>sk16_60_sideways_medium</td>\n",
       "      <td>calibration_60fps_quad_sk_3</td>\n",
       "      <td>False</td>\n",
       "    </tr>\n",
       "    <tr>\n",
       "      <th>86</th>\n",
       "      <td>sk16_60_sideways_medium_2</td>\n",
       "      <td>calibration_60fps_quad_sk_3</td>\n",
       "      <td>False</td>\n",
       "    </tr>\n",
       "    <tr>\n",
       "      <th>87</th>\n",
       "      <td>sk16_60_sideways_slow</td>\n",
       "      <td>calibration_60fps_quad_sk_3</td>\n",
       "      <td>False</td>\n",
       "    </tr>\n",
       "    <tr>\n",
       "      <th>88</th>\n",
       "      <td>sk16_60_sideways_slow_2</td>\n",
       "      <td>calibration_60fps_quad_sk_3</td>\n",
       "      <td>False</td>\n",
       "    </tr>\n",
       "  </tbody>\n",
       "</table>\n",
       "<p>89 rows × 3 columns</p>\n",
       "</div>"
      ],
      "text/plain": [
       "                  folder_name           calibration_folder   flip\n",
       "0        sk16_15_forward_fast         calibration_15fps_sk  False\n",
       "1      sk16_15_forward_fast_2         calibration_15fps_sk  False\n",
       "2      sk16_15_forward_medium         calibration_15fps_sk  False\n",
       "3    sk16_15_forward_medium_2         calibration_15fps_sk  False\n",
       "4        sk16_15_forward_slow         calibration_15fps_sk  False\n",
       "..                        ...                          ...    ...\n",
       "84    sk16_60_sideways_fast_2  calibration_60fps_quad_sk_3  False\n",
       "85    sk16_60_sideways_medium  calibration_60fps_quad_sk_3  False\n",
       "86  sk16_60_sideways_medium_2  calibration_60fps_quad_sk_3  False\n",
       "87      sk16_60_sideways_slow  calibration_60fps_quad_sk_3  False\n",
       "88    sk16_60_sideways_slow_2  calibration_60fps_quad_sk_3  False\n",
       "\n",
       "[89 rows x 3 columns]"
      ]
     },
     "execution_count": 6,
     "metadata": {},
     "output_type": "execute_result"
    }
   ],
   "source": [
    "\"\"\" read excel sheet\"\"\"\n",
    "folder_df = pd.read_excel(os.path.join(_base_pth, \"00_analysis\", \"calibration_files.xlsx\"))\n",
    "folder_df"
   ]
  },
  {
   "cell_type": "code",
   "execution_count": 50,
   "metadata": {},
   "outputs": [
    {
     "name": "stdout",
     "output_type": "stream",
     "text": [
      "camera matrix [[874.59046783   0.         366.44018221]\n",
      " [  0.         881.45673935 268.42500753]\n",
      " [  0.           0.           1.        ]]\n",
      "distortion [[ 1.29040791e-01 -1.00989575e-01  8.05214561e-03  2.63742822e-03\n",
      "  -5.99529755e+00]]\n"
     ]
    }
   ],
   "source": [
    "#open the calibration files\n",
    "_pth = folder_df.folder_name[0]\n",
    "_pth = os.path.join(_base_pth, _pth)\n",
    "\n",
    "#read the calibration file\n",
    "_webcam_calib_folder = folder_df.calibration_folder[0]\n",
    "_webcam_calib_folder = os.path.join(_base_pth, _webcam_calib_folder)\n",
    "_webcam_calib_pth = os.path.join(_base_pth, _webcam_calib_folder, \"webcam_calibration.msgpack\")\n",
    "\n",
    "\n",
    "with open(_webcam_calib_pth, \"rb\") as f:\n",
    "    webcam_calib = mp.Unpacker(f, object_hook=mpn.decode)\n",
    "    _temp = next(webcam_calib)\n",
    "    _webcam_cam_mat = _temp[0]\n",
    "    _webcam_dist = _temp[1]\n",
    "_webcam_video_pth = os.path.join(_pth, \"webcam_color.msgpack\")\n",
    "_webcam_timestamp_pth = os.path.join(_pth, \"webcam_timestamp.msgpack\")\n",
    "\n",
    "\n",
    "with open(os.path.join(_webcam_calib_folder, \"webcam_rotmat.msgpack\"), \"rb\") as f:\n",
    "    webcam_rotmat = mp.Unpacker(f, object_hook=mpn.decode)\n",
    "    _webcam_rot = next(webcam_rotmat)\n",
    "    _webcam_org = next(webcam_rotmat)\n",
    "print(\"camera matrix\", _webcam_cam_mat)\n",
    "print(\"distortion\", _webcam_dist)"
   ]
  },
  {
   "cell_type": "code",
   "execution_count": 59,
   "metadata": {},
   "outputs": [
    {
     "name": "stdout",
     "output_type": "stream",
     "text": [
      "returning dataframe\n"
     ]
    }
   ],
   "source": [
    "_w_df = get_ar_pose_data(_webcam_video_pth, _webcam_cam_mat, _webcam_dist, is_color=False, single_file=True, flip_frame=True)\n",
    "\n",
    "_w_df = add_time_from_file(_w_df, _webcam_timestamp_pth)\n"
   ]
  },
  {
   "cell_type": "code",
   "execution_count": 46,
   "metadata": {},
   "outputs": [],
   "source": [
    "def transform_coordinates_1(df, rotmat, org):\n",
    "    df1 = df.copy( deep=True)\n",
    "    for i in range(len(df)):\n",
    "        val = df[[\"x\", \"y\", \"z\"]].loc[i].values\n",
    "        val = np.reshape(val, (3,1))\n",
    "        _temp = val - org\n",
    "        translation_correction = np.array([0.045, -0.05, 0.045]).reshape(3, 1)\n",
    "        _val = rotmat.T @ _temp\n",
    "        _val = _val - translation_correction\n",
    "        \n",
    "        df1[\"x\"].replace({df1[\"x\"].loc[i]: _val[0]}, inplace=True)\n",
    "        df1[\"y\"].replace({df1[\"y\"].loc[i]: _val[1]}, inplace=True)\n",
    "        df1[\"z\"].replace({df1[\"z\"].loc[i]: _val[2]}, inplace=True)\n",
    "\n",
    "    return df1"
   ]
  },
  {
   "cell_type": "code",
   "execution_count": 61,
   "metadata": {},
   "outputs": [],
   "source": [
    "w_df = transform_coordinates_1(_w_df, _webcam_rot, _webcam_org)"
   ]
  },
  {
   "cell_type": "code",
   "execution_count": 22,
   "metadata": {},
   "outputs": [],
   "source": [
    "mc_df_pth = os.path.join(_base_pth, folder_df.folder_name[0].split(\"_\")[0], folder_df.folder_name[0]+ \".csv\")\n",
    "_m_df, st_time = read_df_csv(mc_df_pth)"
   ]
  },
  {
   "cell_type": "code",
   "execution_count": 23,
   "metadata": {},
   "outputs": [],
   "source": [
    "_m_df[\"x\"] = _m_df[\"lb_x\"] + _m_df[\"rb_x\"] + _m_df[\"lt_x\"] + _m_df[\"rt_x\"]\n",
    "_m_df[\"y\"] = _m_df[\"lb_y\"] + _m_df[\"rb_y\"] + _m_df[\"lt_y\"] + _m_df[\"rt_y\"]\n",
    "_m_df[\"z\"] = _m_df[\"lb_z\"] + _m_df[\"rb_z\"] + _m_df[\"lt_z\"] + _m_df[\"rt_z\"]\n",
    "\n",
    "_m_df[\"x\"] = _m_df[\"x\"] / 4\n",
    "_m_df[\"y\"] = _m_df[\"y\"] / 4\n",
    "_m_df[\"z\"] = _m_df[\"z\"] / 4\n",
    "\n",
    "_m_df = add_datetime_col(_m_df, st_time,_name=\"seconds\")"
   ]
  },
  {
   "cell_type": "code",
   "execution_count": 62,
   "metadata": {},
   "outputs": [
    {
     "name": "stdout",
     "output_type": "stream",
     "text": [
      "webcam\n",
      "2.135321\n"
     ]
    },
    {
     "data": {
      "image/png": "[encoded data removed]",
      "text/plain": [
       "<Figure size 640x480 with 1 Axes>"
      ]
     },
     "metadata": {},
     "output_type": "display_data"
    }
   ],
   "source": [
    "# which starts earlier\n",
    "\n",
    "if _w_df[\"time\"].iloc[0] > _m_df[\"time\"].iloc[0]:\n",
    "    _start_time = _m_df[\"time\"].iloc[0]\n",
    "\n",
    "    # time difference\n",
    "    _time_diff = _w_df[\"time\"].iloc[0] - _m_df[\"time\"].iloc[0]\n",
    "    print(\"mc\")\n",
    "else:\n",
    "    _start_time = _w_df[\"time\"].iloc[0]\n",
    "    _time_diff = _m_df[\"time\"].iloc[0] - _w_df[\"time\"].iloc[0]\n",
    "    print(\"webcam\")\n",
    "\n",
    "plt.plot(_m_df[\"time\"], _m_df[\"x\"], label=\"mc\")\n",
    "plt.plot(_w_df[\"time\"], w_df[\"x\"], label=\"webcam\")\n",
    "plt.legend()\n",
    "print(_time_diff.total_seconds())"
   ]
  },
  {
   "cell_type": "code",
   "execution_count": null,
   "metadata": {},
   "outputs": [],
   "source": []
  }
 ],
 "metadata": {
  "kernelspec": {
   "display_name": "Python 3.7.13 ('gs')",
   "language": "python",
   "name": "python3"
  },
  "language_info": {
   "codemirror_mode": {
    "name": "ipython",
    "version": 3
   },
   "file_extension": ".py",
   "mimetype": "text/x-python",
   "name": "python",
   "nbconvert_exporter": "python",
   "pygments_lexer": "ipython3",
   "version": "3.7.13"
  },
  "orig_nbformat": 4,
  "vscode": {
   "interpreter": {
    "hash": "4221670f905fea9ae63d68da118e10d2cad93a36a65c3325530da287d71e9aea"
   }
  }
 },
 "nbformat": 4,
 "nbformat_minor": 2
}

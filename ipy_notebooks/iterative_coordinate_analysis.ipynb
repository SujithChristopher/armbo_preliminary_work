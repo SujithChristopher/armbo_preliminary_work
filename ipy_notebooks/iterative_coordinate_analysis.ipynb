{
 "cells": [
  {
   "cell_type": "code",
   "execution_count": 1,
   "metadata": {},
   "outputs": [
    {
     "ename": "KeyboardInterrupt",
     "evalue": "",
     "output_type": "error",
     "traceback": [
      "\u001b[1;31m---------------------------------------------------------------------------\u001b[0m",
      "\u001b[1;31mKeyboardInterrupt\u001b[0m                         Traceback (most recent call last)",
      "\u001b[1;32m~\\AppData\\Local\\Temp\\ipykernel_3356\\1070064166.py\u001b[0m in \u001b[0;36m<module>\u001b[1;34m\u001b[0m\n\u001b[0;32m     13\u001b[0m \u001b[1;32mfrom\u001b[0m \u001b[0msupport\u001b[0m\u001b[1;33m.\u001b[0m\u001b[0mar_calculations\u001b[0m \u001b[1;32mimport\u001b[0m \u001b[1;33m*\u001b[0m\u001b[1;33m\u001b[0m\u001b[1;33m\u001b[0m\u001b[0m\n\u001b[0;32m     14\u001b[0m \u001b[1;32mimport\u001b[0m \u001b[0mpandas\u001b[0m \u001b[1;32mas\u001b[0m \u001b[0mpd\u001b[0m\u001b[1;33m\u001b[0m\u001b[1;33m\u001b[0m\u001b[0m\n\u001b[1;32m---> 15\u001b[1;33m \u001b[1;32mfrom\u001b[0m \u001b[0mscipy\u001b[0m\u001b[1;33m.\u001b[0m\u001b[0msignal\u001b[0m \u001b[1;32mimport\u001b[0m \u001b[0msavgol_filter\u001b[0m\u001b[1;33m\u001b[0m\u001b[1;33m\u001b[0m\u001b[0m\n\u001b[0m\u001b[0;32m     16\u001b[0m \u001b[1;32mfrom\u001b[0m \u001b[0mscipy\u001b[0m\u001b[1;33m.\u001b[0m\u001b[0minterpolate\u001b[0m \u001b[1;32mimport\u001b[0m \u001b[0minterp1d\u001b[0m\u001b[1;33m\u001b[0m\u001b[1;33m\u001b[0m\u001b[0m\n",
      "\u001b[1;32mc:\\Users\\Sujith\\anaconda3\\envs\\mira\\lib\\site-packages\\scipy\\signal\\__init__.py\u001b[0m in \u001b[0;36m<module>\u001b[1;34m\u001b[0m\n\u001b[0;32m    308\u001b[0m \u001b[1;32mfrom\u001b[0m \u001b[1;33m.\u001b[0m\u001b[0mspectral\u001b[0m \u001b[1;32mimport\u001b[0m \u001b[1;33m*\u001b[0m\u001b[1;33m\u001b[0m\u001b[1;33m\u001b[0m\u001b[0m\n\u001b[0;32m    309\u001b[0m \u001b[1;32mfrom\u001b[0m \u001b[1;33m.\u001b[0m\u001b[0mwavelets\u001b[0m \u001b[1;32mimport\u001b[0m \u001b[1;33m*\u001b[0m\u001b[1;33m\u001b[0m\u001b[1;33m\u001b[0m\u001b[0m\n\u001b[1;32m--> 310\u001b[1;33m \u001b[1;32mfrom\u001b[0m \u001b[1;33m.\u001b[0m\u001b[0m_peak_finding\u001b[0m \u001b[1;32mimport\u001b[0m \u001b[1;33m*\u001b[0m\u001b[1;33m\u001b[0m\u001b[1;33m\u001b[0m\u001b[0m\n\u001b[0m\u001b[0;32m    311\u001b[0m \u001b[1;32mfrom\u001b[0m \u001b[1;33m.\u001b[0m\u001b[0mwindows\u001b[0m \u001b[1;32mimport\u001b[0m \u001b[0mget_window\u001b[0m  \u001b[1;31m# keep this one in signal namespace\u001b[0m\u001b[1;33m\u001b[0m\u001b[1;33m\u001b[0m\u001b[0m\n\u001b[0;32m    312\u001b[0m \u001b[1;33m\u001b[0m\u001b[0m\n",
      "\u001b[1;32mc:\\Users\\Sujith\\anaconda3\\envs\\mira\\lib\\site-packages\\scipy\\signal\\_peak_finding.py\u001b[0m in \u001b[0;36m<module>\u001b[1;34m\u001b[0m\n\u001b[0;32m      6\u001b[0m \u001b[1;33m\u001b[0m\u001b[0m\n\u001b[0;32m      7\u001b[0m \u001b[1;32mfrom\u001b[0m \u001b[0mscipy\u001b[0m\u001b[1;33m.\u001b[0m\u001b[0msignal\u001b[0m\u001b[1;33m.\u001b[0m\u001b[0mwavelets\u001b[0m \u001b[1;32mimport\u001b[0m \u001b[0mcwt\u001b[0m\u001b[1;33m,\u001b[0m \u001b[0mricker\u001b[0m\u001b[1;33m\u001b[0m\u001b[1;33m\u001b[0m\u001b[0m\n\u001b[1;32m----> 8\u001b[1;33m \u001b[1;32mfrom\u001b[0m \u001b[0mscipy\u001b[0m\u001b[1;33m.\u001b[0m\u001b[0mstats\u001b[0m \u001b[1;32mimport\u001b[0m \u001b[0mscoreatpercentile\u001b[0m\u001b[1;33m\u001b[0m\u001b[1;33m\u001b[0m\u001b[0m\n\u001b[0m\u001b[0;32m      9\u001b[0m \u001b[1;33m\u001b[0m\u001b[0m\n\u001b[0;32m     10\u001b[0m from ._peak_finding_utils import (\n",
      "\u001b[1;32mc:\\Users\\Sujith\\anaconda3\\envs\\mira\\lib\\site-packages\\scipy\\stats\\__init__.py\u001b[0m in \u001b[0;36m<module>\u001b[1;34m\u001b[0m\n\u001b[0;32m    446\u001b[0m \u001b[1;32mfrom\u001b[0m \u001b[1;33m.\u001b[0m\u001b[0mkde\u001b[0m \u001b[1;32mimport\u001b[0m \u001b[0mgaussian_kde\u001b[0m\u001b[1;33m\u001b[0m\u001b[1;33m\u001b[0m\u001b[0m\n\u001b[0;32m    447\u001b[0m \u001b[1;32mfrom\u001b[0m \u001b[1;33m.\u001b[0m \u001b[1;32mimport\u001b[0m \u001b[0mmstats\u001b[0m\u001b[1;33m\u001b[0m\u001b[1;33m\u001b[0m\u001b[0m\n\u001b[1;32m--> 448\u001b[1;33m \u001b[1;32mfrom\u001b[0m \u001b[1;33m.\u001b[0m \u001b[1;32mimport\u001b[0m \u001b[0mqmc\u001b[0m\u001b[1;33m\u001b[0m\u001b[1;33m\u001b[0m\u001b[0m\n\u001b[0m\u001b[0;32m    449\u001b[0m \u001b[1;32mfrom\u001b[0m \u001b[1;33m.\u001b[0m\u001b[0m_multivariate\u001b[0m \u001b[1;32mimport\u001b[0m \u001b[1;33m*\u001b[0m\u001b[1;33m\u001b[0m\u001b[1;33m\u001b[0m\u001b[0m\n\u001b[0;32m    450\u001b[0m \u001b[1;32mfrom\u001b[0m \u001b[1;33m.\u001b[0m \u001b[1;32mimport\u001b[0m \u001b[0mcontingency\u001b[0m\u001b[1;33m\u001b[0m\u001b[1;33m\u001b[0m\u001b[0m\n",
      "\u001b[1;32mc:\\Users\\Sujith\\anaconda3\\envs\\mira\\lib\\site-packages\\scipy\\stats\\qmc.py\u001b[0m in \u001b[0;36m<module>\u001b[1;34m\u001b[0m\n\u001b[0;32m    232\u001b[0m \u001b[1;33m\u001b[0m\u001b[0m\n\u001b[0;32m    233\u001b[0m \"\"\"\n\u001b[1;32m--> 234\u001b[1;33m \u001b[1;32mfrom\u001b[0m \u001b[1;33m.\u001b[0m\u001b[0m_qmc\u001b[0m \u001b[1;32mimport\u001b[0m \u001b[1;33m*\u001b[0m\u001b[1;33m\u001b[0m\u001b[1;33m\u001b[0m\u001b[0m\n\u001b[0m",
      "\u001b[1;32mc:\\Users\\Sujith\\anaconda3\\envs\\mira\\lib\\site-packages\\scipy\\stats\\_qmc.py\u001b[0m in \u001b[0;36m<module>\u001b[1;34m\u001b[0m\n\u001b[0;32m     28\u001b[0m \u001b[1;32mimport\u001b[0m \u001b[0mscipy\u001b[0m\u001b[1;33m.\u001b[0m\u001b[0mstats\u001b[0m \u001b[1;32mas\u001b[0m \u001b[0mstats\u001b[0m\u001b[1;33m\u001b[0m\u001b[1;33m\u001b[0m\u001b[0m\n\u001b[0;32m     29\u001b[0m \u001b[1;32mfrom\u001b[0m \u001b[0mscipy\u001b[0m\u001b[1;33m.\u001b[0m\u001b[0m_lib\u001b[0m\u001b[1;33m.\u001b[0m\u001b[0m_util\u001b[0m \u001b[1;32mimport\u001b[0m \u001b[0mrng_integers\u001b[0m\u001b[1;33m\u001b[0m\u001b[1;33m\u001b[0m\u001b[0m\n\u001b[1;32m---> 30\u001b[1;33m from scipy.stats._sobol import (\n\u001b[0m\u001b[0;32m     31\u001b[0m     \u001b[0minitialize_v\u001b[0m\u001b[1;33m,\u001b[0m \u001b[0m_cscramble\u001b[0m\u001b[1;33m,\u001b[0m \u001b[0m_fill_p_cumulative\u001b[0m\u001b[1;33m,\u001b[0m \u001b[0m_draw\u001b[0m\u001b[1;33m,\u001b[0m \u001b[0m_fast_forward\u001b[0m\u001b[1;33m,\u001b[0m\u001b[1;33m\u001b[0m\u001b[1;33m\u001b[0m\u001b[0m\n\u001b[0;32m     32\u001b[0m     \u001b[0m_categorize\u001b[0m\u001b[1;33m,\u001b[0m \u001b[0minitialize_direction_numbers\u001b[0m\u001b[1;33m,\u001b[0m \u001b[0m_MAXDIM\u001b[0m\u001b[1;33m,\u001b[0m \u001b[0m_MAXBIT\u001b[0m\u001b[1;33m\u001b[0m\u001b[1;33m\u001b[0m\u001b[0m\n",
      "\u001b[1;32mc:\\Users\\Sujith\\anaconda3\\envs\\mira\\lib\\importlib\\_bootstrap.py\u001b[0m in \u001b[0;36m_find_and_load\u001b[1;34m(name, import_)\u001b[0m\n",
      "\u001b[1;32mc:\\Users\\Sujith\\anaconda3\\envs\\mira\\lib\\importlib\\_bootstrap.py\u001b[0m in \u001b[0;36m_find_and_load_unlocked\u001b[1;34m(name, import_)\u001b[0m\n",
      "\u001b[1;32mc:\\Users\\Sujith\\anaconda3\\envs\\mira\\lib\\importlib\\_bootstrap.py\u001b[0m in \u001b[0;36m_find_spec\u001b[1;34m(name, path, target)\u001b[0m\n",
      "\u001b[1;32mc:\\Users\\Sujith\\anaconda3\\envs\\mira\\lib\\importlib\\_bootstrap_external.py\u001b[0m in \u001b[0;36mfind_spec\u001b[1;34m(cls, fullname, path, target)\u001b[0m\n",
      "\u001b[1;32mc:\\Users\\Sujith\\anaconda3\\envs\\mira\\lib\\importlib\\_bootstrap_external.py\u001b[0m in \u001b[0;36m_get_spec\u001b[1;34m(cls, fullname, path, target)\u001b[0m\n",
      "\u001b[1;32mc:\\Users\\Sujith\\anaconda3\\envs\\mira\\lib\\importlib\\_bootstrap_external.py\u001b[0m in \u001b[0;36mfind_spec\u001b[1;34m(self, fullname, target)\u001b[0m\n",
      "\u001b[1;32mc:\\Users\\Sujith\\anaconda3\\envs\\mira\\lib\\importlib\\_bootstrap_external.py\u001b[0m in \u001b[0;36m_path_isfile\u001b[1;34m(path)\u001b[0m\n",
      "\u001b[1;32mc:\\Users\\Sujith\\anaconda3\\envs\\mira\\lib\\importlib\\_bootstrap_external.py\u001b[0m in \u001b[0;36m_path_is_mode_type\u001b[1;34m(path, mode)\u001b[0m\n",
      "\u001b[1;32mc:\\Users\\Sujith\\anaconda3\\envs\\mira\\lib\\importlib\\_bootstrap_external.py\u001b[0m in \u001b[0;36m_path_stat\u001b[1;34m(path)\u001b[0m\n",
      "\u001b[1;31mKeyboardInterrupt\u001b[0m: "
     ]
    }
   ],
   "source": [
    "import numpy as np\n",
    "import matplotlib.pyplot as plt\n",
    "import cv2\n",
    "import os\n",
    "import sys\n",
    "import msgpack as mp\n",
    "import msgpack_numpy as mpn\n",
    "sys.path.append(os.path.join(os.getcwd(), \"..\"))\n",
    "from support.generate_ar_data import *\n",
    "from support.pd_support import *\n",
    "from support.calculations_support import *\n",
    "from support.mecanum_calculations import *\n",
    "from support.ar_calculations import *\n",
    "import pandas as pd\n",
    "from scipy.signal import savgol_filter\n",
    "from scipy.interpolate import interp1d"
   ]
  },
  {
   "cell_type": "code",
   "execution_count": null,
   "metadata": {},
   "outputs": [],
   "source": [
    "_parent_folder = \"multi_cam_nov_14\"\n",
    "_base_pth = os.path.dirname(os.getcwd())\n",
    "_base_pth = os.path.join(_base_pth, \"recording_programs\", \"test_data\", _parent_folder)\n",
    "_base_pth"
   ]
  },
  {
   "cell_type": "code",
   "execution_count": null,
   "metadata": {},
   "outputs": [],
   "source": [
    "\"\"\" read excel sheet\"\"\"\n",
    "folder_df = pd.read_excel(os.path.join(_base_pth, \"00_analysis\", \"calibration_files.xlsx\"))\n",
    "folder_df"
   ]
  },
  {
   "cell_type": "code",
   "execution_count": null,
   "metadata": {},
   "outputs": [],
   "source": [
    "\n",
    "def transform_coordinates_1(df, rotmat, org):\n",
    "    df1 = df.copy( deep=True)\n",
    "    for i in range(len(df)):\n",
    "        val = df[[\"x\", \"y\", \"z\"]].loc[i].values\n",
    "        val = np.reshape(val, (3,1))\n",
    "        _temp = val - org\n",
    "        translation_correction = np.array([0.045, -0.05, 0.045]).reshape(3, 1)\n",
    "        _val = rotmat.T @ _temp\n",
    "        _val = _val - translation_correction\n",
    "        \n",
    "        df1[\"x\"].replace({df1[\"x\"].loc[i]: _val[0]}, inplace=True)\n",
    "        df1[\"y\"].replace({df1[\"y\"].loc[i]: _val[1]}, inplace=True)\n",
    "        df1[\"z\"].replace({df1[\"z\"].loc[i]: _val[2]}, inplace=True)\n",
    "\n",
    "    return df1"
   ]
  },
  {
   "cell_type": "code",
   "execution_count": null,
   "metadata": {},
   "outputs": [],
   "source": [
    "mean_err_df = pd.DataFrame(columns=[\"folder_name\", \"err_x\", \"err_y\", \"err_z\", \"max_err_x\", \"max_err_y\", \"max_err_z\", \"std_err_x\", \"std_err_y\", \"std_err_z\"])"
   ]
  },
  {
   "cell_type": "code",
   "execution_count": null,
   "metadata": {},
   "outputs": [],
   "source": [
    "for i in range(len(folder_df)):\n",
    "    folder_no = i\n",
    "    #open the calibration files\n",
    "    _pth = folder_df.folder_name[folder_no]\n",
    "    _pth = os.path.join(_base_pth, _pth)\n",
    "\n",
    "    #read the calibration file\n",
    "    _webcam_calib_folder = folder_df.calibration_folder[folder_no]\n",
    "    _webcam_calib_folder = os.path.join(_base_pth, _webcam_calib_folder)\n",
    "    _webcam_calib_pth = os.path.join(_base_pth, _webcam_calib_folder, \"webcam_calibration.msgpack\")\n",
    "\n",
    "\n",
    "    with open(_webcam_calib_pth, \"rb\") as f:\n",
    "        webcam_calib = mp.Unpacker(f, object_hook=mpn.decode)\n",
    "        _temp = next(webcam_calib)\n",
    "        _webcam_cam_mat = _temp[0]\n",
    "        _webcam_dist = _temp[1]\n",
    "    _webcam_video_pth = os.path.join(_pth, \"webcam_color.msgpack\")\n",
    "    _webcam_timestamp_pth = os.path.join(_pth, \"webcam_timestamp.msgpack\")\n",
    "\n",
    "\n",
    "    with open(os.path.join(_webcam_calib_folder, \"webcam_rotmat.msgpack\"), \"rb\") as f:\n",
    "        webcam_rotmat = mp.Unpacker(f, object_hook=mpn.decode)\n",
    "        _webcam_rot = next(webcam_rotmat)\n",
    "        _webcam_org = next(webcam_rotmat)\n",
    "\n",
    "    \n",
    "    _w_df = get_ar_pose_data(_webcam_video_pth, _webcam_cam_mat, _webcam_dist, is_color=False, single_file=True, flip_frame=False)\n",
    "\n",
    "    _w_df = add_time_from_file(_w_df, _webcam_timestamp_pth)\n",
    "    w_df = transform_coordinates_1(_w_df, _webcam_rot, _webcam_org)\n",
    "\n",
    "    mc_df_pth = os.path.join(_base_pth, folder_df.folder_name[folder_no].split(\"_\")[0], folder_df.folder_name[folder_no]+ \".csv\")\n",
    "    _m_df, st_time = read_df_csv(mc_df_pth)\n",
    "    _m_df = add_datetime_col(_m_df, st_time, _name=\"seconds\")\n",
    "\n",
    "\n",
    "    _m_df[\"x\"] = _m_df[\"lb_x\"] + _m_df[\"rb_x\"] + _m_df[\"lt_x\"] + _m_df[\"rt_x\"]\n",
    "    _m_df[\"y\"] = _m_df[\"lb_y\"] + _m_df[\"rb_y\"] + _m_df[\"lt_y\"] + _m_df[\"rt_y\"]\n",
    "    _m_df[\"z\"] = _m_df[\"lb_z\"] + _m_df[\"rb_z\"] + _m_df[\"lt_z\"] + _m_df[\"rt_z\"]\n",
    "\n",
    "    _m_df[\"x\"] = _m_df[\"x\"] / 4\n",
    "    _m_df[\"y\"] = _m_df[\"y\"] / 4\n",
    "    _m_df[\"z\"] = _m_df[\"z\"] / 4\n",
    "\n",
    "    w_df, _m_df = trunkate_dfs(w_df, _m_df)\n",
    "\n",
    "    w_df = interpolate_target_df(w_df, _m_df)\n",
    "\n",
    "    error_df = pd.DataFrame()\n",
    "    error_df[\"time\"] = _m_df[\"time\"]\n",
    "    error_df[\"x\"] = _m_df[\"x\"] - w_df[\"x\"]\n",
    "    error_df[\"y\"] = _m_df[\"y\"] - w_df[\"y\"]\n",
    "    error_df[\"z\"] = _m_df[\"z\"] - w_df[\"z\"]\n",
    "\n",
    "    mean_err_df = mean_err_df.append({\"folder_name\": folder_df.folder_name[folder_no], \"err_x\": error_df[\"x\"].mean(), \"err_y\": error_df[\"y\"].mean(), \"err_z\": error_df[\"z\"].mean(), \n",
    "                                      \"max_err_x\": error_df[\"x\"].max(), \"max_err_y\": error_df[\"y\"].max(), \"max_err_z\": error_df[\"z\"].max(), \n",
    "                                      \"std_err_x\": error_df[\"x\"].std(), \"std_err_y\": error_df[\"y\"].std(), \"std_err_z\": error_df[\"z\"].std()}, ignore_index=True)\n",
    "    \n",
    "    print(\"processed\", i)"
   ]
  },
  {
   "cell_type": "code",
   "execution_count": null,
   "metadata": {},
   "outputs": [],
   "source": [
    "_w_df"
   ]
  },
  {
   "cell_type": "code",
   "execution_count": null,
   "metadata": {},
   "outputs": [],
   "source": [
    "plt.plot(_m_df[\"time\"], _m_df[\"z\"], label=\"mc\")\n",
    "# plt.plot(_w_df[\"time\"], _w_df[\"z\"].rolling(13).median()*-1  +1.5, label=\"webcam\")\n",
    "plt.plot(w_df[\"time\"], savgol_filter(w_df[\"z\"].values, 51, 1, mode='nearest') + 0.045, label=\"webcam\")\n",
    "plt.legend()"
   ]
  },
  {
   "cell_type": "code",
   "execution_count": null,
   "metadata": {},
   "outputs": [],
   "source": [
    "# find error between x , y, z and yaw, pitch, roll\n",
    "error_df = pd.DataFrame()\n",
    "error_df[\"time\"] = _m_df[\"time\"]\n",
    "error_df[\"x\"] = _m_df[\"x\"] - w_df[\"x\"]\n",
    "error_df[\"y\"] = _m_df[\"y\"] - w_df[\"y\"]\n",
    "error_df[\"z\"] = _m_df[\"z\"] - w_df[\"z\"]"
   ]
  },
  {
   "cell_type": "code",
   "execution_count": null,
   "metadata": {},
   "outputs": [],
   "source": [
    "print(error_df.x.mean())\n",
    "print(error_df.y.mean())\n",
    "print(error_df.z.mean())"
   ]
  },
  {
   "cell_type": "code",
   "execution_count": null,
   "metadata": {},
   "outputs": [],
   "source": []
  }
 ],
 "metadata": {
  "kernelspec": {
   "display_name": "Python 3.7.11 ('mira')",
   "language": "python",
   "name": "python3"
  },
  "language_info": {
   "codemirror_mode": {
    "name": "ipython",
    "version": 3
   },
   "file_extension": ".py",
   "mimetype": "text/x-python",
   "name": "python",
   "nbconvert_exporter": "python",
   "pygments_lexer": "ipython3",
   "version": "3.7.11"
  },
  "orig_nbformat": 4,
  "vscode": {
   "interpreter": {
    "hash": "5e150188acfe9ffecc9060698e0419ffeeaf23b924b6dc14c3c2ca6e878e68e6"
   }
  }
 },
 "nbformat": 4,
 "nbformat_minor": 2
}

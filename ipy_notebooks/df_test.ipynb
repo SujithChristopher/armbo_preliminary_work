{
 "cells": [
  {
   "cell_type": "code",
   "execution_count": 35,
   "metadata": {},
   "outputs": [],
   "source": [
    "from scipy.signal import savgol_filter\n",
    "import numpy as np\n",
    "import pandas as pd\n",
    "from more_itertools import locate\n"
   ]
  },
  {
   "cell_type": "code",
   "execution_count": 36,
   "metadata": {},
   "outputs": [],
   "source": [
    "def read_rigid_body_csv(_pth):\n",
    "    \"\"\"\n",
    "    _pth: path to the rigid body file\n",
    "    \"\"\"\n",
    "    pass"
   ]
  },
  {
   "cell_type": "code",
   "execution_count": 37,
   "metadata": {},
   "outputs": [],
   "source": [
    "_pth = r\"C:\\Users\\CMC\\Documents\\openposelibs\\pose\\armbo\\recording_programs\\test_data\\sensor_jan_13_2023\\sk21\\sk21_forward_t0.csv\""
   ]
  },
  {
   "cell_type": "code",
   "execution_count": 68,
   "metadata": {},
   "outputs": [
    {
     "ename": "SyntaxError",
     "evalue": "invalid syntax (3306770285.py, line 26)",
     "output_type": "error",
     "traceback": [
      "\u001b[1;36m  File \u001b[1;32m\"C:\\Users\\CMC\\AppData\\Local\\Temp\\ipykernel_24312\\3306770285.py\"\u001b[1;36m, line \u001b[1;32m26\u001b[0m\n\u001b[1;33m    _rb_pos_idx = [x for x in _rotation_ids _rb_pos_idx.remove(x)]\u001b[0m\n\u001b[1;37m                                                      ^\u001b[0m\n\u001b[1;31mSyntaxError\u001b[0m\u001b[1;31m:\u001b[0m invalid syntax\n"
     ]
    }
   ],
   "source": [
    "df = pd.read_csv(_pth, skiprows=2, header=None)\n",
    "_marker_type = []\n",
    "for idx in df.columns:\n",
    "    _marker_type.append(df[idx][0])\n",
    "\n",
    "def find_indices(list_to_check, item_to_find):\n",
    "    indices = locate(list_to_check, lambda x: x == item_to_find)\n",
    "    return list(indices)\n",
    "    \n",
    "_rb_idx = find_indices(_marker_type, \"Rigid Body\")\n",
    "_rb_marker_idx = find_indices(_marker_type, \"Rigid Body Marker\")\n",
    "_marker_idx = find_indices(_marker_type, \"Marker\")\n",
    "\n",
    "_rb_idx.sort()\n",
    "_rb_marker_idx.sort()\n",
    "_marker_idx.sort()\n",
    "\n",
    "_rb_df = df.copy(deep=True)\n",
    "_rb_df = df[1:]\n",
    "_analysis_type = list(_rb_df.iloc[2].values)\n",
    "\n",
    "_rotation_ids = find_indices(_analysis_type, \"Rotation\")\n",
    "_rotation_ids.sort()\n",
    "\n",
    "_rb_pos_idx = _rb_idx\n",
    "# _rb_pos_idx = [x for x in _rotation_ids _rb_pos_idx.remove(x)]\n",
    "\n",
    "\n",
    "_rb_pos_idx\n"
   ]
  },
  {
   "cell_type": "code",
   "execution_count": null,
   "metadata": {},
   "outputs": [],
   "source": []
  }
 ],
 "metadata": {
  "kernelspec": {
   "display_name": "gs",
   "language": "python",
   "name": "python3"
  },
  "language_info": {
   "codemirror_mode": {
    "name": "ipython",
    "version": 3
   },
   "file_extension": ".py",
   "mimetype": "text/x-python",
   "name": "python",
   "nbconvert_exporter": "python",
   "pygments_lexer": "ipython3",
   "version": "3.7.13"
  },
  "orig_nbformat": 4,
  "vscode": {
   "interpreter": {
    "hash": "4221670f905fea9ae63d68da118e10d2cad93a36a65c3325530da287d71e9aea"
   }
  }
 },
 "nbformat": 4,
 "nbformat_minor": 2
}

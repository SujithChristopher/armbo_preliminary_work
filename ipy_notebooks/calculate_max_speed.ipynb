{
 "cells": [
  {
   "cell_type": "code",
   "execution_count": 8,
   "metadata": {},
   "outputs": [],
   "source": [
    "import pandas as pd\n",
    "import matplotlib.pyplot as plt\n",
    "import numpy as np\n",
    "import seaborn as sns\n",
    "import os\n",
    "sys.path.append(os.path.join(os.getcwd(), \"..\"))\n",
    "from support.generate_ar_data import *\n",
    "from support.pd_support import *\n",
    "from support.calculations_support import *\n",
    "from support.mecanum_calculations import *\n",
    "from support.ar_calculations import *\n",
    "import pandas as pd\n",
    "from tqdm import tqdm"
   ]
  },
  {
   "cell_type": "code",
   "execution_count": 24,
   "metadata": {},
   "outputs": [
    {
     "data": {
      "text/plain": [
       "'c:\\\\Users\\\\Sujith\\\\Documents\\\\Projects\\\\armbo\\\\recording_programs\\\\test_data\\\\single_cam_jan_5_2023_3cm'"
      ]
     },
     "execution_count": 24,
     "metadata": {},
     "output_type": "execute_result"
    }
   ],
   "source": [
    "_parent_folder = \"single_cam_jan_5_2023_3cm\"\n",
    "_base_pth = os.path.dirname(os.getcwd())\n",
    "_base_pth = os.path.join(_base_pth, \"recording_programs\", \"test_data\", _parent_folder)\n",
    "_base_pth"
   ]
  },
  {
   "cell_type": "code",
   "execution_count": 25,
   "metadata": {},
   "outputs": [
    {
     "data": {
      "text/plain": [
       "'D:\\\\ArUco recordings\\\\single_cam_jan_5_2023_3cm'"
      ]
     },
     "execution_count": 25,
     "metadata": {},
     "output_type": "execute_result"
    }
   ],
   "source": [
    "\"\"\"path based on text file\"\"\"\n",
    "data_pth_file = open(os.path.join(os.path.dirname(os.getcwd()), \"src\", \"data_path.txt\"), \"r+\")\n",
    "_base_pth = data_pth_file.read()\n",
    "_base_pth = os.path.join(_base_pth, _parent_folder)\n",
    "_base_pth"
   ]
  },
  {
   "cell_type": "code",
   "execution_count": 27,
   "metadata": {},
   "outputs": [
    {
     "data": {
      "text/html": [
       "<div>\n",
       "<style scoped>\n",
       "    .dataframe tbody tr th:only-of-type {\n",
       "        vertical-align: middle;\n",
       "    }\n",
       "\n",
       "    .dataframe tbody tr th {\n",
       "        vertical-align: top;\n",
       "    }\n",
       "\n",
       "    .dataframe thead th {\n",
       "        text-align: right;\n",
       "    }\n",
       "</style>\n",
       "<table border=\"1\" class=\"dataframe\">\n",
       "  <thead>\n",
       "    <tr style=\"text-align: right;\">\n",
       "      <th></th>\n",
       "      <th>folder_name</th>\n",
       "      <th>calibration_folder</th>\n",
       "      <th>flip</th>\n",
       "    </tr>\n",
       "  </thead>\n",
       "  <tbody>\n",
       "    <tr>\n",
       "      <th>0</th>\n",
       "      <td>sk20_15_forward_fast</td>\n",
       "      <td>calibration_15fps_00</td>\n",
       "      <td>False</td>\n",
       "    </tr>\n",
       "    <tr>\n",
       "      <th>1</th>\n",
       "      <td>sk20_15_forward_fast_2</td>\n",
       "      <td>calibration_15fps_00</td>\n",
       "      <td>False</td>\n",
       "    </tr>\n",
       "    <tr>\n",
       "      <th>2</th>\n",
       "      <td>sk20_15_forward_medium</td>\n",
       "      <td>calibration_15fps_00</td>\n",
       "      <td>False</td>\n",
       "    </tr>\n",
       "    <tr>\n",
       "      <th>3</th>\n",
       "      <td>sk20_15_forward_medium_2</td>\n",
       "      <td>calibration_15fps_00</td>\n",
       "      <td>False</td>\n",
       "    </tr>\n",
       "    <tr>\n",
       "      <th>4</th>\n",
       "      <td>sk20_15_forward_slow</td>\n",
       "      <td>calibration_15fps_00</td>\n",
       "      <td>False</td>\n",
       "    </tr>\n",
       "    <tr>\n",
       "      <th>...</th>\n",
       "      <td>...</td>\n",
       "      <td>...</td>\n",
       "      <td>...</td>\n",
       "    </tr>\n",
       "    <tr>\n",
       "      <th>91</th>\n",
       "      <td>sk20_60_sideways_fast_2</td>\n",
       "      <td>calibration_60fps_00</td>\n",
       "      <td>False</td>\n",
       "    </tr>\n",
       "    <tr>\n",
       "      <th>92</th>\n",
       "      <td>sk20_60_sideways_medium</td>\n",
       "      <td>calibration_60fps_00</td>\n",
       "      <td>False</td>\n",
       "    </tr>\n",
       "    <tr>\n",
       "      <th>93</th>\n",
       "      <td>sk20_60_sideways_medium_2</td>\n",
       "      <td>calibration_60fps_00</td>\n",
       "      <td>False</td>\n",
       "    </tr>\n",
       "    <tr>\n",
       "      <th>94</th>\n",
       "      <td>sk20_60_sideways_slow</td>\n",
       "      <td>calibration_60fps_00</td>\n",
       "      <td>False</td>\n",
       "    </tr>\n",
       "    <tr>\n",
       "      <th>95</th>\n",
       "      <td>sk20_60_sideways_slow_2</td>\n",
       "      <td>calibration_60fps_00</td>\n",
       "      <td>False</td>\n",
       "    </tr>\n",
       "  </tbody>\n",
       "</table>\n",
       "<p>96 rows × 3 columns</p>\n",
       "</div>"
      ],
      "text/plain": [
       "                  folder_name    calibration_folder   flip\n",
       "0        sk20_15_forward_fast  calibration_15fps_00  False\n",
       "1      sk20_15_forward_fast_2  calibration_15fps_00  False\n",
       "2      sk20_15_forward_medium  calibration_15fps_00  False\n",
       "3    sk20_15_forward_medium_2  calibration_15fps_00  False\n",
       "4        sk20_15_forward_slow  calibration_15fps_00  False\n",
       "..                        ...                   ...    ...\n",
       "91    sk20_60_sideways_fast_2  calibration_60fps_00  False\n",
       "92    sk20_60_sideways_medium  calibration_60fps_00  False\n",
       "93  sk20_60_sideways_medium_2  calibration_60fps_00  False\n",
       "94      sk20_60_sideways_slow  calibration_60fps_00  False\n",
       "95    sk20_60_sideways_slow_2  calibration_60fps_00  False\n",
       "\n",
       "[96 rows x 3 columns]"
      ]
     },
     "execution_count": 27,
     "metadata": {},
     "output_type": "execute_result"
    }
   ],
   "source": [
    "\"\"\" read excel sheet\"\"\"\n",
    "folder_df = pd.read_excel(os.path.join(_base_pth, \"00_analysis\", \"calibration_files.xlsx\"))\n",
    "_analysis_pth = os.path.join(_base_pth, \"00_analysis\")\n",
    "folder_df"
   ]
  },
  {
   "cell_type": "code",
   "execution_count": 28,
   "metadata": {},
   "outputs": [],
   "source": [
    "# calculate maximum velocity\n",
    "# \"movement_type\" is speed of movement using metronome\n",
    "movement_speed_df = pd.DataFrame(columns=[\"folder_name\", \"velocity_x\", \"velocity_y\", \"velocity_z\", \"velocity\", \"object\", \"fps\", \"movement_type\"])"
   ]
  },
  {
   "cell_type": "code",
   "execution_count": 30,
   "metadata": {},
   "outputs": [
    {
     "name": "stderr",
     "output_type": "stream",
     "text": [
      "100%|██████████| 96/96 [00:07<00:00, 12.86it/s]\n"
     ]
    }
   ],
   "source": [
    "scaler = 100\n",
    "del_t = 1/100\n",
    "\n",
    "for idx, _folder_name in enumerate(tqdm(folder_df.folder_name)):\n",
    "    \n",
    "    _mc_folder = os.path.join(_analysis_pth, \"coordinates_mc\", _folder_name + \".csv\")\n",
    "    df = pd.read_csv(_mc_folder)\n",
    "    sx = np.abs(df.x.diff()).mean() * scaler / del_t\n",
    "    sy = np.abs(df.y.diff()).mean() * scaler / del_t\n",
    "    sz = np.abs(df.z.diff()).mean() * scaler / del_t\n",
    "    \n",
    "    if _folder_name.split(\"_\")[2] == \"quad\":\n",
    "        _object = \"quad\"\n",
    "    else:\n",
    "        _object = \"skateboard\"\n",
    "        \n",
    "    fps = int(_folder_name.split(\"_\")[1])\n",
    "    movement_speed = _folder_name.split(\"_\")[3]\n",
    "    movement_speed_df.loc[idx] = [_folder_name,sx, sy, sz, np.sqrt(sx**2 + sy**2 + sz**2), _object, fps, movement_speed]\n",
    "    "
   ]
  },
  {
   "cell_type": "code",
   "execution_count": 13,
   "metadata": {},
   "outputs": [
    {
     "name": "stdout",
     "output_type": "stream",
     "text": [
      "X: 12.08 cm/s\n",
      "Y: 0.90 cm/s\n",
      "Z: 1.47 cm/s\n",
      "Total: 12.20 cm/s\n"
     ]
    }
   ],
   "source": [
    "scaler = 100\n",
    "del_t = 1/100\n",
    "\n",
    "sx = np.abs(df.x.diff()).mean() * scaler / del_t\n",
    "sy = np.abs(df.y.diff()).mean() * scaler / del_t\n",
    "sz = np.abs(df.z.diff()).mean() * scaler / del_t\n",
    "\n",
    "print(f\"X: {sx:.2f} cm/s\")\n",
    "print(f\"Y: {sy:.2f} cm/s\")\n",
    "print(f\"Z: {sz:.2f} cm/s\")\n",
    "\n",
    "velocity = np.sqrt(sx**2 + sy**2 + sz**2)\n",
    "print(f\"Total: {velocity:.2f} cm/s\")"
   ]
  },
  {
   "cell_type": "code",
   "execution_count": 15,
   "metadata": {},
   "outputs": [
    {
     "data": {
      "text/html": [
       "<div>\n",
       "<style scoped>\n",
       "    .dataframe tbody tr th:only-of-type {\n",
       "        vertical-align: middle;\n",
       "    }\n",
       "\n",
       "    .dataframe tbody tr th {\n",
       "        vertical-align: top;\n",
       "    }\n",
       "\n",
       "    .dataframe thead th {\n",
       "        text-align: right;\n",
       "    }\n",
       "</style>\n",
       "<table border=\"1\" class=\"dataframe\">\n",
       "  <thead>\n",
       "    <tr style=\"text-align: right;\">\n",
       "      <th></th>\n",
       "      <th>folder_name</th>\n",
       "      <th>velocity_x</th>\n",
       "      <th>velocity_y</th>\n",
       "      <th>velocity_z</th>\n",
       "      <th>velocity</th>\n",
       "      <th>object</th>\n",
       "      <th>fps</th>\n",
       "      <th>movement_type</th>\n",
       "    </tr>\n",
       "  </thead>\n",
       "  <tbody>\n",
       "    <tr>\n",
       "      <th>0</th>\n",
       "      <td>sk16_15_forward_fast</td>\n",
       "      <td>1.080699</td>\n",
       "      <td>1.171006</td>\n",
       "      <td>16.828587</td>\n",
       "      <td>16.903860</td>\n",
       "      <td>skateboard</td>\n",
       "      <td>15</td>\n",
       "      <td>fast</td>\n",
       "    </tr>\n",
       "    <tr>\n",
       "      <th>1</th>\n",
       "      <td>sk16_15_forward_fast_2</td>\n",
       "      <td>1.365928</td>\n",
       "      <td>1.217664</td>\n",
       "      <td>17.787366</td>\n",
       "      <td>17.881243</td>\n",
       "      <td>skateboard</td>\n",
       "      <td>15</td>\n",
       "      <td>fast</td>\n",
       "    </tr>\n",
       "    <tr>\n",
       "      <th>2</th>\n",
       "      <td>sk16_15_forward_medium</td>\n",
       "      <td>1.103234</td>\n",
       "      <td>0.945980</td>\n",
       "      <td>14.204725</td>\n",
       "      <td>14.278874</td>\n",
       "      <td>skateboard</td>\n",
       "      <td>15</td>\n",
       "      <td>medium</td>\n",
       "    </tr>\n",
       "    <tr>\n",
       "      <th>3</th>\n",
       "      <td>sk16_15_forward_medium_2</td>\n",
       "      <td>1.242891</td>\n",
       "      <td>0.938812</td>\n",
       "      <td>13.089950</td>\n",
       "      <td>13.182296</td>\n",
       "      <td>skateboard</td>\n",
       "      <td>15</td>\n",
       "      <td>medium</td>\n",
       "    </tr>\n",
       "    <tr>\n",
       "      <th>4</th>\n",
       "      <td>sk16_15_forward_slow</td>\n",
       "      <td>1.032439</td>\n",
       "      <td>0.659898</td>\n",
       "      <td>9.396589</td>\n",
       "      <td>9.476142</td>\n",
       "      <td>skateboard</td>\n",
       "      <td>15</td>\n",
       "      <td>slow</td>\n",
       "    </tr>\n",
       "    <tr>\n",
       "      <th>...</th>\n",
       "      <td>...</td>\n",
       "      <td>...</td>\n",
       "      <td>...</td>\n",
       "      <td>...</td>\n",
       "      <td>...</td>\n",
       "      <td>...</td>\n",
       "      <td>...</td>\n",
       "      <td>...</td>\n",
       "    </tr>\n",
       "    <tr>\n",
       "      <th>84</th>\n",
       "      <td>sk16_60_sideways_fast_2</td>\n",
       "      <td>21.943099</td>\n",
       "      <td>1.581302</td>\n",
       "      <td>2.308786</td>\n",
       "      <td>22.120818</td>\n",
       "      <td>skateboard</td>\n",
       "      <td>60</td>\n",
       "      <td>fast</td>\n",
       "    </tr>\n",
       "    <tr>\n",
       "      <th>85</th>\n",
       "      <td>sk16_60_sideways_medium</td>\n",
       "      <td>18.774007</td>\n",
       "      <td>1.263315</td>\n",
       "      <td>2.440544</td>\n",
       "      <td>18.974076</td>\n",
       "      <td>skateboard</td>\n",
       "      <td>60</td>\n",
       "      <td>medium</td>\n",
       "    </tr>\n",
       "    <tr>\n",
       "      <th>86</th>\n",
       "      <td>sk16_60_sideways_medium_2</td>\n",
       "      <td>18.560534</td>\n",
       "      <td>1.302685</td>\n",
       "      <td>2.098780</td>\n",
       "      <td>18.724190</td>\n",
       "      <td>skateboard</td>\n",
       "      <td>60</td>\n",
       "      <td>medium</td>\n",
       "    </tr>\n",
       "    <tr>\n",
       "      <th>87</th>\n",
       "      <td>sk16_60_sideways_slow</td>\n",
       "      <td>10.141891</td>\n",
       "      <td>0.790857</td>\n",
       "      <td>1.584803</td>\n",
       "      <td>10.295388</td>\n",
       "      <td>skateboard</td>\n",
       "      <td>60</td>\n",
       "      <td>slow</td>\n",
       "    </tr>\n",
       "    <tr>\n",
       "      <th>88</th>\n",
       "      <td>sk16_60_sideways_slow_2</td>\n",
       "      <td>12.079455</td>\n",
       "      <td>0.904293</td>\n",
       "      <td>1.474202</td>\n",
       "      <td>12.202633</td>\n",
       "      <td>skateboard</td>\n",
       "      <td>60</td>\n",
       "      <td>slow</td>\n",
       "    </tr>\n",
       "  </tbody>\n",
       "</table>\n",
       "<p>89 rows × 8 columns</p>\n",
       "</div>"
      ],
      "text/plain": [
       "                  folder_name  velocity_x  velocity_y  velocity_z   velocity  \\\n",
       "0        sk16_15_forward_fast    1.080699    1.171006   16.828587  16.903860   \n",
       "1      sk16_15_forward_fast_2    1.365928    1.217664   17.787366  17.881243   \n",
       "2      sk16_15_forward_medium    1.103234    0.945980   14.204725  14.278874   \n",
       "3    sk16_15_forward_medium_2    1.242891    0.938812   13.089950  13.182296   \n",
       "4        sk16_15_forward_slow    1.032439    0.659898    9.396589   9.476142   \n",
       "..                        ...         ...         ...         ...        ...   \n",
       "84    sk16_60_sideways_fast_2   21.943099    1.581302    2.308786  22.120818   \n",
       "85    sk16_60_sideways_medium   18.774007    1.263315    2.440544  18.974076   \n",
       "86  sk16_60_sideways_medium_2   18.560534    1.302685    2.098780  18.724190   \n",
       "87      sk16_60_sideways_slow   10.141891    0.790857    1.584803  10.295388   \n",
       "88    sk16_60_sideways_slow_2   12.079455    0.904293    1.474202  12.202633   \n",
       "\n",
       "        object fps movement_type  \n",
       "0   skateboard  15          fast  \n",
       "1   skateboard  15          fast  \n",
       "2   skateboard  15        medium  \n",
       "3   skateboard  15        medium  \n",
       "4   skateboard  15          slow  \n",
       "..         ...  ..           ...  \n",
       "84  skateboard  60          fast  \n",
       "85  skateboard  60        medium  \n",
       "86  skateboard  60        medium  \n",
       "87  skateboard  60          slow  \n",
       "88  skateboard  60          slow  \n",
       "\n",
       "[89 rows x 8 columns]"
      ]
     },
     "execution_count": 15,
     "metadata": {},
     "output_type": "execute_result"
    }
   ],
   "source": [
    "# movement_speed_df.to_csv(os.path.join(_analysis_pth, \"movement_speed.csv\"), index=False)\n",
    "movement_speed_df"
   ]
  },
  {
   "cell_type": "code",
   "execution_count": 31,
   "metadata": {},
   "outputs": [
    {
     "data": {
      "image/png": "[encoded data removed]",
      "text/plain": [
       "<Figure size 1000x1000 with 1 Axes>"
      ]
     },
     "metadata": {},
     "output_type": "display_data"
    }
   ],
   "source": [
    "# box plot based on fps\n",
    "fig, ax = plt.subplots(figsize=(10, 10))\n",
    "\n",
    "sns.boxplot(x=\"movement_type\", y=\"velocity\", hue=\"object\", \n",
    "            data=movement_speed_df, ax=ax,\n",
    "            order = [\"slow\", \"medium\", \"fast\"])\n",
    "\n",
    "# label\n",
    "ax.set_xlabel(\"movement type\", fontsize=30)\n",
    "ax.set_ylabel(\"maximum speed cm/s \", fontsize=30)\n",
    "ax.legend(fontsize=20)\n",
    "ax.tick_params(axis='both', which='major', labelsize=20)\n",
    "plt.show()"
   ]
  },
  {
   "cell_type": "code",
   "execution_count": null,
   "metadata": {},
   "outputs": [],
   "source": []
  }
 ],
 "metadata": {
  "kernelspec": {
   "display_name": "Python 3.7.11 ('mira')",
   "language": "python",
   "name": "python3"
  },
  "language_info": {
   "codemirror_mode": {
    "name": "ipython",
    "version": 3
   },
   "file_extension": ".py",
   "mimetype": "text/x-python",
   "name": "python",
   "nbconvert_exporter": "python",
   "pygments_lexer": "ipython3",
   "version": "3.7.11"
  },
  "orig_nbformat": 4,
  "vscode": {
   "interpreter": {
    "hash": "5e150188acfe9ffecc9060698e0419ffeeaf23b924b6dc14c3c2ca6e878e68e6"
   }
  }
 },
 "nbformat": 4,
 "nbformat_minor": 2
}

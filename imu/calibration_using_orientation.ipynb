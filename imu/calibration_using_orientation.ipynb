{
 "cells": [
  {
   "cell_type": "code",
   "execution_count": 89,
   "metadata": {},
   "outputs": [],
   "source": [
    "import numpy as np\n",
    "import matplotlib.pyplot as plt\n",
    "import sys\n",
    "import os\n",
    "from tqdm import tqdm\n",
    "sys.path.append(os.path.join(os.getcwd(), \"..\"))\n",
    "# from support.omniwheel_calculation_pd import *\n",
    "from support.omniwheel_calculation import *\n",
    "from datetime import datetime\n",
    "from support.pd_support import *\n",
    "from support.calculations_support import *\n",
    "from support.ar_calculations import *\n",
    "from numba import njit\n",
    "import polars as pl\n",
    "from support.imu_calculations import *\n",
    "from scipy import integrate\n",
    "import csv\n"
   ]
  },
  {
   "cell_type": "code",
   "execution_count": 90,
   "metadata": {},
   "outputs": [
    {
     "data": {
      "text/plain": [
       "'c:\\\\Users\\\\CMC\\\\Documents\\\\openposelibs\\\\pose\\\\armbo\\\\recording_programs\\\\test_data\\\\imu_calib_raw_april_27_2023'"
      ]
     },
     "execution_count": 90,
     "metadata": {},
     "output_type": "execute_result"
    }
   ],
   "source": [
    "_parent_folder = \"imu_calib_raw_april_27_2023\"\n",
    "_base_pth = os.path.dirname(os.getcwd())\n",
    "# _base_pth = os.path.dirname(_base_pth)\n",
    "_base_pth = os.path.join(_base_pth,\"recording_programs\", \"test_data\", _parent_folder)\n",
    "_file_names = os.listdir(_base_pth)\n",
    "_base_pth"
   ]
  },
  {
   "cell_type": "code",
   "execution_count": 91,
   "metadata": {},
   "outputs": [],
   "source": [
    "_base_save_pth = os.path.join(os.getcwd(), \"data\")\n",
    "\n",
    "#check if folder exists\n",
    "if not os.path.exists(_base_save_pth):\n",
    "    os.mkdir(_base_save_pth)\n",
    "\n",
    "_save_pth = os.path.join(_base_save_pth, \"calib1.txt\")\n",
    "_save_file = open(_save_pth, \"w\", newline='')\n",
    "_csv_writer = csv.writer(_save_file, delimiter=\" \")"
   ]
  },
  {
   "cell_type": "code",
   "execution_count": 92,
   "metadata": {},
   "outputs": [],
   "source": [
    "for i in _file_names:\n",
    "    _csv_file_pth = os.path.join(_base_pth, i)\n",
    "    df = pd.read_csv(_csv_file_pth)\n",
    "    df = pl.from_pandas(df)\n",
    "    _data = df[[\"ax\", \"ay\", \"az\"]].median().to_numpy()[0]\n",
    "    _csv_writer.writerow(_data)"
   ]
  },
  {
   "cell_type": "code",
   "execution_count": 93,
   "metadata": {},
   "outputs": [],
   "source": [
    "_save_file.close()"
   ]
  }
 ],
 "metadata": {
  "kernelspec": {
   "display_name": "py310",
   "language": "python",
   "name": "python3"
  },
  "language_info": {
   "codemirror_mode": {
    "name": "ipython",
    "version": 3
   },
   "file_extension": ".py",
   "mimetype": "text/x-python",
   "name": "python",
   "nbconvert_exporter": "python",
   "pygments_lexer": "ipython3",
   "version": "3.10.11"
  },
  "orig_nbformat": 4
 },
 "nbformat": 4,
 "nbformat_minor": 2
}

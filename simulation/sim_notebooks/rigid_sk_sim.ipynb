{
 "cells": [
  {
   "cell_type": "code",
   "execution_count": 4,
   "metadata": {},
   "outputs": [],
   "source": [
    "import sys\n",
    "import os\n",
    "sys.path.append(os.path.join(os.getcwd(), \"..\", \"..\"))\n",
    "from support.omniwheel_calculation_pd import *\n",
    "from support.pd_support import *\n",
    "from support.calculations_support import *\n",
    "from support.ar_calculations import *\n",
    "from support.imu_calculations import *\n",
    "from tqdm import tqdm\n",
    "import matplotlib.pyplot as plt\n",
    "from scipy import integrate\n",
    "import numpy as np\n",
    "\n",
    "sys.path.append(os.path.join(os.getcwd(), \"..\", \"..\"))\n",
    "# from support.omniwheel_calculation import *\n",
    "import numpy as np"
   ]
  },
  {
   "cell_type": "code",
   "execution_count": 2,
   "metadata": {},
   "outputs": [],
   "source": [
    "wheel_radius = 0.05\n",
    "wheel_coor_x = 1\n",
    "wheel_coor_y = 1\n",
    "\n",
    "# encoder values\n",
    "# et = encoder values for the top wheel\n",
    "# err = encoder values for the right rear wheel\n",
    "# erl = encoder values for the left rear wheel\n",
    "\n",
    "encoder_values = {\"et\":[], \"err\":[], \"erl\":[]} # encoder values\n"
   ]
  },
  {
   "cell_type": "code",
   "execution_count": 5,
   "metadata": {},
   "outputs": [],
   "source": [
    "# some default values\n",
    "w1 = np.zeros(10000)\n",
    "w2 = np.arange(0, 10000, 1)\n",
    "w3 = np.arange(0, 10000, 1)\n",
    "\n",
    "temp = np.full(10000, 10000)\n",
    "w1 = np.append(w1, w2)\n",
    "w2 = np.append(w2, temp)\n",
    "w3 = np.append(w3, temp)"
   ]
  },
  {
   "cell_type": "code",
   "execution_count": 6,
   "metadata": {},
   "outputs": [],
   "source": [
    "encoder_values[\"et\"] = w1\n",
    "encoder_values[\"err\"] = w2\n",
    "encoder_values[\"erl\"] = w3"
   ]
  },
  {
   "cell_type": "code",
   "execution_count": 7,
   "metadata": {},
   "outputs": [],
   "source": [
    "w1 = np.zeros(10000)\n",
    "w2 = np.zeros(10000)\n",
    "w2 = np.arange(0, 10000, 1)\n",
    "\n",
    "# this is the value that will be used for the simulation\n",
    "\n",
    "encoder_values[\"et\"] = w1\n",
    "encoder_values[\"err\"] = w2\n",
    "encoder_values[\"erl\"] = w3"
   ]
  },
  {
   "cell_type": "code",
   "execution_count": null,
   "metadata": {},
   "outputs": [],
   "source": []
  }
 ],
 "metadata": {
  "kernelspec": {
   "display_name": "gs",
   "language": "python",
   "name": "python3"
  },
  "language_info": {
   "codemirror_mode": {
    "name": "ipython",
    "version": 3
   },
   "file_extension": ".py",
   "mimetype": "text/x-python",
   "name": "python",
   "nbconvert_exporter": "python",
   "pygments_lexer": "ipython3",
   "version": "3.7.13"
  },
  "orig_nbformat": 4
 },
 "nbformat": 4,
 "nbformat_minor": 2
}

{
 "cells": [
  {
   "cell_type": "code",
   "execution_count": 169,
   "metadata": {},
   "outputs": [],
   "source": [
    "import numpy as np\n",
    "import matplotlib.pyplot as plt\n",
    "import pandas as pd\n",
    "import math\n",
    "import time\n",
    "import sys\n",
    "import os\n",
    "from scipy.signal import savgol_filter\n",
    "from scipy.interpolate import interp1d\n",
    "from tqdm import tqdm\n",
    "sys.path.append(os.path.join(os.getcwd(), \"..\", \"..\"))\n",
    "from support.omniwheel_calculation import *\n",
    "from datetime import datetime\n",
    "from support.pd_support import *\n",
    "from support.calculations_support import *\n",
    "from support.ar_calculations import *\n",
    "from numba import njit\n",
    "import polars as pl\n",
    "from scipy.signal import find_peaks\n",
    "from scipy.signal import peak_widths\n",
    "from scipy.signal import peak_prominences\n",
    "from support.imu_calculations import *"
   ]
  },
  {
   "cell_type": "code",
   "execution_count": 170,
   "metadata": {},
   "outputs": [
    {
     "data": {
      "text/plain": [
       "'c:\\\\Users\\\\CMC\\\\Documents\\\\openposelibs\\\\pose\\\\armbo\\\\simulation\\\\..\\\\recording_programs\\\\test_data\\\\encoder_validation'"
      ]
     },
     "execution_count": 170,
     "metadata": {},
     "output_type": "execute_result"
    }
   ],
   "source": [
    "_parent_folder = \"encoder_validation\"\n",
    "_folder_name = \"sk28_et_orange_t0\"\n",
    "_base_pth = os.path.dirname(os.getcwd())\n",
    "_base_pth = os.path.join(_base_pth, \"..\",\"recording_programs\", \"test_data\", _parent_folder)\n",
    "_base_pth"
   ]
  },
  {
   "cell_type": "code",
   "execution_count": 171,
   "metadata": {},
   "outputs": [
    {
     "data": {
      "text/html": [
       "<div>\n",
       "<style scoped>\n",
       "    .dataframe tbody tr th:only-of-type {\n",
       "        vertical-align: middle;\n",
       "    }\n",
       "\n",
       "    .dataframe tbody tr th {\n",
       "        vertical-align: top;\n",
       "    }\n",
       "\n",
       "    .dataframe thead th {\n",
       "        text-align: right;\n",
       "    }\n",
       "</style>\n",
       "<table border=\"1\" class=\"dataframe\">\n",
       "  <thead>\n",
       "    <tr style=\"text-align: right;\">\n",
       "      <th></th>\n",
       "      <th>sys_time</th>\n",
       "      <th>time</th>\n",
       "      <th>e_t</th>\n",
       "      <th>e_fl</th>\n",
       "      <th>e_rr</th>\n",
       "      <th>e_rl</th>\n",
       "      <th>rtc</th>\n",
       "      <th>mils</th>\n",
       "      <th>sync</th>\n",
       "      <th>ax</th>\n",
       "      <th>ay</th>\n",
       "      <th>az</th>\n",
       "      <th>gx</th>\n",
       "      <th>gy</th>\n",
       "      <th>gz</th>\n",
       "      <th>mx</th>\n",
       "      <th>my</th>\n",
       "      <th>mz</th>\n",
       "    </tr>\n",
       "  </thead>\n",
       "  <tbody>\n",
       "    <tr>\n",
       "      <th>0</th>\n",
       "      <td>2023-03-16 12:12:39.805231</td>\n",
       "      <td>2023-03-16 12:12:39.805260</td>\n",
       "      <td>0</td>\n",
       "      <td>0</td>\n",
       "      <td>0</td>\n",
       "      <td>0</td>\n",
       "      <td>2019-01-01 05.31.07.000000 AM</td>\n",
       "      <td>68097</td>\n",
       "      <td>0</td>\n",
       "      <td>-0.428869</td>\n",
       "      <td>0.264977</td>\n",
       "      <td>10.048802</td>\n",
       "      <td>-0.060976</td>\n",
       "      <td>-0.007622</td>\n",
       "      <td>0.022866</td>\n",
       "      <td>-4.500000</td>\n",
       "      <td>9.900001</td>\n",
       "      <td>-30.300001</td>\n",
       "    </tr>\n",
       "    <tr>\n",
       "      <th>1</th>\n",
       "      <td>2023-03-16 12:12:39.976381</td>\n",
       "      <td>2023-03-16 12:12:39.976475</td>\n",
       "      <td>0</td>\n",
       "      <td>0</td>\n",
       "      <td>0</td>\n",
       "      <td>0</td>\n",
       "      <td>2019-01-01 05.31.07.000000 AM</td>\n",
       "      <td>68110</td>\n",
       "      <td>0</td>\n",
       "      <td>-0.413915</td>\n",
       "      <td>0.260192</td>\n",
       "      <td>10.048203</td>\n",
       "      <td>-0.060976</td>\n",
       "      <td>-0.007622</td>\n",
       "      <td>0.030488</td>\n",
       "      <td>0.300000</td>\n",
       "      <td>9.900001</td>\n",
       "      <td>-38.100002</td>\n",
       "    </tr>\n",
       "    <tr>\n",
       "      <th>2</th>\n",
       "      <td>2023-03-16 12:12:39.976381</td>\n",
       "      <td>2023-03-16 12:12:39.976760</td>\n",
       "      <td>0</td>\n",
       "      <td>0</td>\n",
       "      <td>0</td>\n",
       "      <td>0</td>\n",
       "      <td>2019-01-01 05.31.07.000000 AM</td>\n",
       "      <td>68123</td>\n",
       "      <td>0</td>\n",
       "      <td>-0.436644</td>\n",
       "      <td>0.248827</td>\n",
       "      <td>10.058970</td>\n",
       "      <td>-0.068598</td>\n",
       "      <td>-0.015244</td>\n",
       "      <td>0.022866</td>\n",
       "      <td>2.700000</td>\n",
       "      <td>5.100000</td>\n",
       "      <td>-33.900002</td>\n",
       "    </tr>\n",
       "    <tr>\n",
       "      <th>3</th>\n",
       "      <td>2023-03-16 12:12:39.976877</td>\n",
       "      <td>2023-03-16 12:12:39.977056</td>\n",
       "      <td>0</td>\n",
       "      <td>0</td>\n",
       "      <td>0</td>\n",
       "      <td>0</td>\n",
       "      <td>2019-01-01 05.31.07.000000 AM</td>\n",
       "      <td>68135</td>\n",
       "      <td>0</td>\n",
       "      <td>-0.440831</td>\n",
       "      <td>0.240453</td>\n",
       "      <td>10.030858</td>\n",
       "      <td>-0.045732</td>\n",
       "      <td>-0.007622</td>\n",
       "      <td>0.015244</td>\n",
       "      <td>-11.700001</td>\n",
       "      <td>9.900001</td>\n",
       "      <td>-37.500000</td>\n",
       "    </tr>\n",
       "    <tr>\n",
       "      <th>4</th>\n",
       "      <td>2023-03-16 12:12:39.976877</td>\n",
       "      <td>2023-03-16 12:12:39.977323</td>\n",
       "      <td>0</td>\n",
       "      <td>0</td>\n",
       "      <td>0</td>\n",
       "      <td>0</td>\n",
       "      <td>2019-01-01 05.31.07.000000 AM</td>\n",
       "      <td>68148</td>\n",
       "      <td>0</td>\n",
       "      <td>-0.427074</td>\n",
       "      <td>0.252416</td>\n",
       "      <td>10.049998</td>\n",
       "      <td>-0.060976</td>\n",
       "      <td>-0.015244</td>\n",
       "      <td>0.022866</td>\n",
       "      <td>-2.100000</td>\n",
       "      <td>21.900002</td>\n",
       "      <td>-36.300003</td>\n",
       "    </tr>\n",
       "    <tr>\n",
       "      <th>...</th>\n",
       "      <td>...</td>\n",
       "      <td>...</td>\n",
       "      <td>...</td>\n",
       "      <td>...</td>\n",
       "      <td>...</td>\n",
       "      <td>...</td>\n",
       "      <td>...</td>\n",
       "      <td>...</td>\n",
       "      <td>...</td>\n",
       "      <td>...</td>\n",
       "      <td>...</td>\n",
       "      <td>...</td>\n",
       "      <td>...</td>\n",
       "      <td>...</td>\n",
       "      <td>...</td>\n",
       "      <td>...</td>\n",
       "      <td>...</td>\n",
       "      <td>...</td>\n",
       "    </tr>\n",
       "    <tr>\n",
       "      <th>3007</th>\n",
       "      <td>2023-03-16 12:13:17.740283</td>\n",
       "      <td>2023-03-16 12:13:17.740670</td>\n",
       "      <td>21349</td>\n",
       "      <td>0</td>\n",
       "      <td>0</td>\n",
       "      <td>0</td>\n",
       "      <td>2019-01-01 05.31.45.000000 AM</td>\n",
       "      <td>106044</td>\n",
       "      <td>0</td>\n",
       "      <td>-0.439037</td>\n",
       "      <td>0.244042</td>\n",
       "      <td>10.036839</td>\n",
       "      <td>-0.060976</td>\n",
       "      <td>-0.015244</td>\n",
       "      <td>0.007622</td>\n",
       "      <td>-4.500000</td>\n",
       "      <td>12.300000</td>\n",
       "      <td>-35.100002</td>\n",
       "    </tr>\n",
       "    <tr>\n",
       "      <th>3008</th>\n",
       "      <td>2023-03-16 12:13:17.753143</td>\n",
       "      <td>2023-03-16 12:13:17.753328</td>\n",
       "      <td>21349</td>\n",
       "      <td>0</td>\n",
       "      <td>0</td>\n",
       "      <td>0</td>\n",
       "      <td>2019-01-01 05.31.45.000000 AM</td>\n",
       "      <td>106057</td>\n",
       "      <td>0</td>\n",
       "      <td>-0.441430</td>\n",
       "      <td>0.230883</td>\n",
       "      <td>10.054784</td>\n",
       "      <td>-0.060976</td>\n",
       "      <td>-0.015244</td>\n",
       "      <td>0.038110</td>\n",
       "      <td>-9.300000</td>\n",
       "      <td>14.700001</td>\n",
       "      <td>-35.700001</td>\n",
       "    </tr>\n",
       "    <tr>\n",
       "      <th>3009</th>\n",
       "      <td>2023-03-16 12:13:17.765544</td>\n",
       "      <td>2023-03-16 12:13:17.766005</td>\n",
       "      <td>21349</td>\n",
       "      <td>0</td>\n",
       "      <td>0</td>\n",
       "      <td>0</td>\n",
       "      <td>2019-01-01 05.31.45.000000 AM</td>\n",
       "      <td>106070</td>\n",
       "      <td>0</td>\n",
       "      <td>-0.437841</td>\n",
       "      <td>0.263183</td>\n",
       "      <td>10.050596</td>\n",
       "      <td>-0.068598</td>\n",
       "      <td>-0.007622</td>\n",
       "      <td>0.015244</td>\n",
       "      <td>-11.700001</td>\n",
       "      <td>7.500000</td>\n",
       "      <td>-36.900002</td>\n",
       "    </tr>\n",
       "    <tr>\n",
       "      <th>3010</th>\n",
       "      <td>2023-03-16 12:13:17.778439</td>\n",
       "      <td>2023-03-16 12:13:17.778684</td>\n",
       "      <td>21349</td>\n",
       "      <td>0</td>\n",
       "      <td>0</td>\n",
       "      <td>0</td>\n",
       "      <td>2019-01-01 05.31.45.000000 AM</td>\n",
       "      <td>106082</td>\n",
       "      <td>0</td>\n",
       "      <td>-0.433056</td>\n",
       "      <td>0.255407</td>\n",
       "      <td>10.069736</td>\n",
       "      <td>-0.060976</td>\n",
       "      <td>-0.015244</td>\n",
       "      <td>0.030488</td>\n",
       "      <td>-11.700001</td>\n",
       "      <td>-6.900000</td>\n",
       "      <td>-30.900002</td>\n",
       "    </tr>\n",
       "    <tr>\n",
       "      <th>3011</th>\n",
       "      <td>2023-03-16 12:13:17.790870</td>\n",
       "      <td>2023-03-16 12:13:17.791192</td>\n",
       "      <td>21349</td>\n",
       "      <td>0</td>\n",
       "      <td>0</td>\n",
       "      <td>0</td>\n",
       "      <td>2019-01-01 05.31.45.000000 AM</td>\n",
       "      <td>106095</td>\n",
       "      <td>0</td>\n",
       "      <td>-0.436644</td>\n",
       "      <td>0.235668</td>\n",
       "      <td>10.054784</td>\n",
       "      <td>-0.060976</td>\n",
       "      <td>-0.015244</td>\n",
       "      <td>0.022866</td>\n",
       "      <td>-6.900000</td>\n",
       "      <td>14.700001</td>\n",
       "      <td>-40.500000</td>\n",
       "    </tr>\n",
       "  </tbody>\n",
       "</table>\n",
       "<p>3012 rows × 18 columns</p>\n",
       "</div>"
      ],
      "text/plain": [
       "                        sys_time                       time    e_t  e_fl  \\\n",
       "0     2023-03-16 12:12:39.805231 2023-03-16 12:12:39.805260      0     0   \n",
       "1     2023-03-16 12:12:39.976381 2023-03-16 12:12:39.976475      0     0   \n",
       "2     2023-03-16 12:12:39.976381 2023-03-16 12:12:39.976760      0     0   \n",
       "3     2023-03-16 12:12:39.976877 2023-03-16 12:12:39.977056      0     0   \n",
       "4     2023-03-16 12:12:39.976877 2023-03-16 12:12:39.977323      0     0   \n",
       "...                          ...                        ...    ...   ...   \n",
       "3007  2023-03-16 12:13:17.740283 2023-03-16 12:13:17.740670  21349     0   \n",
       "3008  2023-03-16 12:13:17.753143 2023-03-16 12:13:17.753328  21349     0   \n",
       "3009  2023-03-16 12:13:17.765544 2023-03-16 12:13:17.766005  21349     0   \n",
       "3010  2023-03-16 12:13:17.778439 2023-03-16 12:13:17.778684  21349     0   \n",
       "3011  2023-03-16 12:13:17.790870 2023-03-16 12:13:17.791192  21349     0   \n",
       "\n",
       "      e_rr  e_rl                            rtc    mils  sync        ax  \\\n",
       "0        0     0  2019-01-01 05.31.07.000000 AM   68097     0 -0.428869   \n",
       "1        0     0  2019-01-01 05.31.07.000000 AM   68110     0 -0.413915   \n",
       "2        0     0  2019-01-01 05.31.07.000000 AM   68123     0 -0.436644   \n",
       "3        0     0  2019-01-01 05.31.07.000000 AM   68135     0 -0.440831   \n",
       "4        0     0  2019-01-01 05.31.07.000000 AM   68148     0 -0.427074   \n",
       "...    ...   ...                            ...     ...   ...       ...   \n",
       "3007     0     0  2019-01-01 05.31.45.000000 AM  106044     0 -0.439037   \n",
       "3008     0     0  2019-01-01 05.31.45.000000 AM  106057     0 -0.441430   \n",
       "3009     0     0  2019-01-01 05.31.45.000000 AM  106070     0 -0.437841   \n",
       "3010     0     0  2019-01-01 05.31.45.000000 AM  106082     0 -0.433056   \n",
       "3011     0     0  2019-01-01 05.31.45.000000 AM  106095     0 -0.436644   \n",
       "\n",
       "            ay         az        gx        gy        gz         mx         my  \\\n",
       "0     0.264977  10.048802 -0.060976 -0.007622  0.022866  -4.500000   9.900001   \n",
       "1     0.260192  10.048203 -0.060976 -0.007622  0.030488   0.300000   9.900001   \n",
       "2     0.248827  10.058970 -0.068598 -0.015244  0.022866   2.700000   5.100000   \n",
       "3     0.240453  10.030858 -0.045732 -0.007622  0.015244 -11.700001   9.900001   \n",
       "4     0.252416  10.049998 -0.060976 -0.015244  0.022866  -2.100000  21.900002   \n",
       "...        ...        ...       ...       ...       ...        ...        ...   \n",
       "3007  0.244042  10.036839 -0.060976 -0.015244  0.007622  -4.500000  12.300000   \n",
       "3008  0.230883  10.054784 -0.060976 -0.015244  0.038110  -9.300000  14.700001   \n",
       "3009  0.263183  10.050596 -0.068598 -0.007622  0.015244 -11.700001   7.500000   \n",
       "3010  0.255407  10.069736 -0.060976 -0.015244  0.030488 -11.700001  -6.900000   \n",
       "3011  0.235668  10.054784 -0.060976 -0.015244  0.022866  -6.900000  14.700001   \n",
       "\n",
       "             mz  \n",
       "0    -30.300001  \n",
       "1    -38.100002  \n",
       "2    -33.900002  \n",
       "3    -37.500000  \n",
       "4    -36.300003  \n",
       "...         ...  \n",
       "3007 -35.100002  \n",
       "3008 -35.700001  \n",
       "3009 -36.900002  \n",
       "3010 -30.900002  \n",
       "3011 -40.500000  \n",
       "\n",
       "[3012 rows x 18 columns]"
      ]
     },
     "execution_count": 171,
     "metadata": {},
     "output_type": "execute_result"
    }
   ],
   "source": [
    "_sk_df = pd.read_csv(os.path.join(_base_pth, _folder_name, \"imu01.csv\"))\n",
    "_sk_df[\"rust_time\"] = _sk_df[\"rust_time\"].apply(lambda x: datetime.fromtimestamp(x))\n",
    "# set zero\n",
    "_sk_df.rename(columns={\"rust_time\": \"time\", \"e_fr\":\"e_t\"}, inplace=True)\n",
    "\n",
    "_sk_df = set_zero(_sk_df, column_name = [\"e_t\", \"e_rr\", \"e_rl\"])\n",
    "# rename columns\n",
    "_sk_df[\"e_t\"] =  -_sk_df[\"e_t\"]\n",
    "\n",
    "_sk_df"
   ]
  },
  {
   "cell_type": "code",
   "execution_count": 184,
   "metadata": {},
   "outputs": [],
   "source": [
    "# type in marker details\n",
    "_xm = get_rb_marker_name(2)\n",
    "_zm = get_rb_marker_name(1)\n",
    "_om = get_rb_marker_name(3)"
   ]
  },
  {
   "cell_type": "code",
   "execution_count": 185,
   "metadata": {},
   "outputs": [],
   "source": [
    "_mocap_df, st_time = read_rigid_body_csv(os.path.join(_base_pth, _folder_name.split(\"_\")[0] ,_folder_name + \".csv\"))\n",
    "_mocap_df = add_datetime_col(_mocap_df, st_time, \"seconds\")\n",
    "# _mocap_df.rb_marker_m3_x"
   ]
  },
  {
   "cell_type": "code",
   "execution_count": 186,
   "metadata": {},
   "outputs": [
    {
     "name": "stderr",
     "output_type": "stream",
     "text": [
      "100%|██████████| 2749/2749 [00:01<00:00, 1832.18it/s]\n",
      "100%|██████████| 2749/2749 [00:00<00:00, 395830.33it/s]\n",
      "100%|██████████| 2749/2749 [00:00<00:00, 128897.53it/s]\n"
     ]
    }
   ],
   "source": [
    "# This cell is optimized to run faster using polars\n",
    "\n",
    "# calculate rotation matrix from xvec, zvec, org\n",
    "_m_df = _mocap_df.copy()\n",
    "_m_df = pl.from_pandas(_m_df)\n",
    "\n",
    "_rotmat_i = []\n",
    "for i in tqdm(range(len(_m_df))):\n",
    "    \n",
    "    _x_vec = _m_df[[_xm[\"x\"], _xm[\"y\"], _xm[\"z\"]]][i, :].to_numpy().T\n",
    "    _z_vec = _m_df[[_zm[\"x\"], _zm[\"y\"], _zm[\"z\"]]][i, :].to_numpy().T\n",
    "    _org = _m_df[[_om[\"x\"], _om[\"y\"], _om[\"z\"]]][i, :].to_numpy().T\n",
    "\n",
    "    _rotmat_i.append(calculate_rotmat(_x_vec, _z_vec, _org))\n",
    "# calculating del rotmat for mc\n",
    "_del_r = []\n",
    "for i in tqdm(range(len(_rotmat_i))):\n",
    "    _del_r.append(_rotmat_i[i].T@_rotmat_i[0])\n",
    "\n",
    "# calculating angle for mc\n",
    "_theta_x = []\n",
    "_theta_y = []\n",
    "_theta_z = []\n",
    "\n",
    "for i in tqdm(_del_r):\n",
    "    _theta_x.append(np.arctan2(i[2,1], i[2,2]))\n",
    "    _theta_y.append(np.arctan2(-i[2,0], np.sqrt(i[2,1]**2 + i[2,2]**2)))\n",
    "    _theta_z.append(np.arctan2(i[1,0], i[0,0]))\n",
    "    \n",
    "_theta_x = np.array(_theta_x)\n",
    "_theta_y = np.array(_theta_y)\n",
    "_theta_z = np.array(_theta_z)\n",
    "\n",
    "# converting them to degrees\n",
    "_theta_x = np.rad2deg(_theta_x)\n",
    "_theta_y = np.rad2deg(_theta_y)\n",
    "_theta_z = np.rad2deg(_theta_z)\n"
   ]
  },
  {
   "cell_type": "code",
   "execution_count": 187,
   "metadata": {},
   "outputs": [
    {
     "data": {
      "text/plain": [
       "<matplotlib.legend.Legend at 0x1ed5ace4dc8>"
      ]
     },
     "execution_count": 187,
     "metadata": {},
     "output_type": "execute_result"
    },
    {
     "data": {
      "image/png": "[encoded data removed]",
      "text/plain": [
       "<Figure size 640x480 with 1 Axes>"
      ]
     },
     "metadata": {},
     "output_type": "display_data"
    }
   ],
   "source": [
    "# plt.plot(_m_df[\"time\"][1000:2000], _theta_x[1000:2000], label=\"x\")\n",
    "\n",
    "plt.plot(_m_df[\"time\"], _theta_y, label=\"y\")\n",
    "# plt.plot(_m_df[\"time\"][1000:2000], _theta_z[1000:2000], label=\"z\")\n",
    "# change angle to 0 to 360\n",
    "plt.legend()\n",
    "# max(_theta_z)"
   ]
  },
  {
   "cell_type": "code",
   "execution_count": 188,
   "metadata": {},
   "outputs": [],
   "source": [
    "theta_df = pd.DataFrame({\"time\": _m_df[\"time\"], \"theta_y\": _theta_y})\n",
    "theta_df[\"diff\"] = abs(theta_df[\"theta_y\"].diff())\n",
    "# replace nan with 0\n",
    "theta_df[\"diff\"].fillna(0, inplace=True)\n",
    "# integrate angle\n",
    "df, _ = get_orientation(theta_df, \"diff\")\n"
   ]
  },
  {
   "cell_type": "code",
   "execution_count": 189,
   "metadata": {},
   "outputs": [
    {
     "data": {
      "text/plain": [
       "[<matplotlib.lines.Line2D at 0x1ed60e48d48>]"
      ]
     },
     "execution_count": 189,
     "metadata": {},
     "output_type": "execute_result"
    },
    {
     "data": {
      "image/png": "[encoded data removed]",
      "text/plain": [
       "<Figure size 640x480 with 1 Axes>"
      ]
     },
     "metadata": {},
     "output_type": "display_data"
    }
   ],
   "source": [
    "plt.plot(df[\"time\"], df[\"theta\"], label=\"y\")"
   ]
  },
  {
   "cell_type": "code",
   "execution_count": 190,
   "metadata": {},
   "outputs": [],
   "source": [
    "_ang_df = _sk_df[['time', 'e_t']].copy()"
   ]
  },
  {
   "cell_type": "code",
   "execution_count": 191,
   "metadata": {},
   "outputs": [
    {
     "data": {
      "text/html": [
       "<div>\n",
       "<style scoped>\n",
       "    .dataframe tbody tr th:only-of-type {\n",
       "        vertical-align: middle;\n",
       "    }\n",
       "\n",
       "    .dataframe tbody tr th {\n",
       "        vertical-align: top;\n",
       "    }\n",
       "\n",
       "    .dataframe thead th {\n",
       "        text-align: right;\n",
       "    }\n",
       "</style>\n",
       "<table border=\"1\" class=\"dataframe\">\n",
       "  <thead>\n",
       "    <tr style=\"text-align: right;\">\n",
       "      <th></th>\n",
       "      <th>time</th>\n",
       "      <th>e_t</th>\n",
       "      <th>ang_y</th>\n",
       "      <th>diff</th>\n",
       "      <th>theta</th>\n",
       "    </tr>\n",
       "  </thead>\n",
       "  <tbody>\n",
       "    <tr>\n",
       "      <th>0</th>\n",
       "      <td>2023-03-16 12:12:39.805260</td>\n",
       "      <td>0</td>\n",
       "      <td>0.000</td>\n",
       "      <td>0.0</td>\n",
       "      <td>0.00000</td>\n",
       "    </tr>\n",
       "    <tr>\n",
       "      <th>1</th>\n",
       "      <td>2023-03-16 12:12:39.976475</td>\n",
       "      <td>0</td>\n",
       "      <td>0.000</td>\n",
       "      <td>0.0</td>\n",
       "      <td>0.00000</td>\n",
       "    </tr>\n",
       "    <tr>\n",
       "      <th>2</th>\n",
       "      <td>2023-03-16 12:12:39.976760</td>\n",
       "      <td>0</td>\n",
       "      <td>0.000</td>\n",
       "      <td>0.0</td>\n",
       "      <td>0.00000</td>\n",
       "    </tr>\n",
       "    <tr>\n",
       "      <th>3</th>\n",
       "      <td>2023-03-16 12:12:39.977056</td>\n",
       "      <td>0</td>\n",
       "      <td>0.000</td>\n",
       "      <td>0.0</td>\n",
       "      <td>0.00000</td>\n",
       "    </tr>\n",
       "    <tr>\n",
       "      <th>4</th>\n",
       "      <td>2023-03-16 12:12:39.977323</td>\n",
       "      <td>0</td>\n",
       "      <td>0.000</td>\n",
       "      <td>0.0</td>\n",
       "      <td>0.00000</td>\n",
       "    </tr>\n",
       "    <tr>\n",
       "      <th>...</th>\n",
       "      <td>...</td>\n",
       "      <td>...</td>\n",
       "      <td>...</td>\n",
       "      <td>...</td>\n",
       "      <td>...</td>\n",
       "    </tr>\n",
       "    <tr>\n",
       "      <th>3007</th>\n",
       "      <td>2023-03-16 12:13:17.740670</td>\n",
       "      <td>21349</td>\n",
       "      <td>3138.303</td>\n",
       "      <td>0.0</td>\n",
       "      <td>62.80722</td>\n",
       "    </tr>\n",
       "    <tr>\n",
       "      <th>3008</th>\n",
       "      <td>2023-03-16 12:13:17.753328</td>\n",
       "      <td>21349</td>\n",
       "      <td>3138.303</td>\n",
       "      <td>0.0</td>\n",
       "      <td>62.80722</td>\n",
       "    </tr>\n",
       "    <tr>\n",
       "      <th>3009</th>\n",
       "      <td>2023-03-16 12:13:17.766005</td>\n",
       "      <td>21349</td>\n",
       "      <td>3138.303</td>\n",
       "      <td>0.0</td>\n",
       "      <td>62.80722</td>\n",
       "    </tr>\n",
       "    <tr>\n",
       "      <th>3010</th>\n",
       "      <td>2023-03-16 12:13:17.778684</td>\n",
       "      <td>21349</td>\n",
       "      <td>3138.303</td>\n",
       "      <td>0.0</td>\n",
       "      <td>62.80722</td>\n",
       "    </tr>\n",
       "    <tr>\n",
       "      <th>3011</th>\n",
       "      <td>2023-03-16 12:13:17.791192</td>\n",
       "      <td>21349</td>\n",
       "      <td>3138.303</td>\n",
       "      <td>0.0</td>\n",
       "      <td>62.80722</td>\n",
       "    </tr>\n",
       "  </tbody>\n",
       "</table>\n",
       "<p>3012 rows × 5 columns</p>\n",
       "</div>"
      ],
      "text/plain": [
       "                           time    e_t     ang_y  diff     theta\n",
       "0    2023-03-16 12:12:39.805260      0     0.000   0.0   0.00000\n",
       "1    2023-03-16 12:12:39.976475      0     0.000   0.0   0.00000\n",
       "2    2023-03-16 12:12:39.976760      0     0.000   0.0   0.00000\n",
       "3    2023-03-16 12:12:39.977056      0     0.000   0.0   0.00000\n",
       "4    2023-03-16 12:12:39.977323      0     0.000   0.0   0.00000\n",
       "...                         ...    ...       ...   ...       ...\n",
       "3007 2023-03-16 12:13:17.740670  21349  3138.303   0.0  62.80722\n",
       "3008 2023-03-16 12:13:17.753328  21349  3138.303   0.0  62.80722\n",
       "3009 2023-03-16 12:13:17.766005  21349  3138.303   0.0  62.80722\n",
       "3010 2023-03-16 12:13:17.778684  21349  3138.303   0.0  62.80722\n",
       "3011 2023-03-16 12:13:17.791192  21349  3138.303   0.0  62.80722\n",
       "\n",
       "[3012 rows x 5 columns]"
      ]
     },
     "execution_count": 191,
     "metadata": {},
     "output_type": "execute_result"
    }
   ],
   "source": [
    "_ang_df[\"ang_y\"] = _ang_df[\"e_t\"].apply(lambda x: x*0.147)\n",
    "_ang_df[\"diff\"] = abs(_ang_df[\"ang_y\"].diff())\n",
    "# replace nan with 0\n",
    "_ang_df[\"diff\"].fillna(0, inplace=True)\n",
    "# integrate angle\n",
    "_new_ang_df, _ = get_orientation(_ang_df, \"diff\")\n",
    "_new_ang_df"
   ]
  },
  {
   "cell_type": "code",
   "execution_count": 192,
   "metadata": {},
   "outputs": [
    {
     "data": {
      "text/plain": [
       "[<matplotlib.lines.Line2D at 0x1ed59d63888>]"
      ]
     },
     "execution_count": 192,
     "metadata": {},
     "output_type": "execute_result"
    },
    {
     "data": {
      "image/png": "[encoded data removed]",
      "text/plain": [
       "<Figure size 640x480 with 1 Axes>"
      ]
     },
     "metadata": {},
     "output_type": "display_data"
    }
   ],
   "source": [
    "plt.plot(_ang_df[\"ang_y\"].diff())"
   ]
  },
  {
   "cell_type": "code",
   "execution_count": 193,
   "metadata": {},
   "outputs": [
    {
     "data": {
      "text/plain": [
       "<matplotlib.legend.Legend at 0x1ed5ab95b88>"
      ]
     },
     "execution_count": 193,
     "metadata": {},
     "output_type": "execute_result"
    },
    {
     "data": {
      "image/png": "[encoded data removed]",
      "text/plain": [
       "<Figure size 640x480 with 1 Axes>"
      ]
     },
     "metadata": {},
     "output_type": "display_data"
    }
   ],
   "source": [
    "plt.plot(_ang_df[\"time\"], _new_ang_df[\"ang_y\"], label=\"y skateboard\")\n",
    "# plt.plot(_ang_df[\"time\"], _ang_df[\"ang_y\"], label=\"y skateboard wo fileter\")\n",
    "plt.plot(df[\"time\"], df[\"theta\"]*50, label=\"y mocap\")\n",
    "plt.legend()"
   ]
  },
  {
   "cell_type": "code",
   "execution_count": 194,
   "metadata": {},
   "outputs": [
    {
     "data": {
      "text/plain": [
       "<matplotlib.legend.Legend at 0x1ed5ab89ac8>"
      ]
     },
     "execution_count": 194,
     "metadata": {},
     "output_type": "execute_result"
    },
    {
     "data": {
      "image/png": "[encoded data removed]",
      "text/plain": [
       "<Figure size 640x480 with 1 Axes>"
      ]
     },
     "metadata": {},
     "output_type": "display_data"
    }
   ],
   "source": [
    "plt.plot(_ang_df[\"time\"][-500:], _new_ang_df[\"ang_y\"][-500:], label=\"y skateboard\")\n",
    "# plt.plot(_ang_df[\"time\"][-500:], _ang_df[\"ang_y\"][-500:], label=\"y skateboard wo filter\")\n",
    "plt.plot(df[\"time\"][-500:], df[\"theta\"][-500:]*50, label=\"y mocap\")\n",
    "plt.legend()"
   ]
  },
  {
   "cell_type": "code",
   "execution_count": null,
   "metadata": {},
   "outputs": [],
   "source": []
  },
  {
   "cell_type": "code",
   "execution_count": null,
   "metadata": {},
   "outputs": [],
   "source": []
  }
 ],
 "metadata": {
  "kernelspec": {
   "display_name": "gs",
   "language": "python",
   "name": "python3"
  },
  "language_info": {
   "codemirror_mode": {
    "name": "ipython",
    "version": 3
   },
   "file_extension": ".py",
   "mimetype": "text/x-python",
   "name": "python",
   "nbconvert_exporter": "python",
   "pygments_lexer": "ipython3",
   "version": "3.7.13"
  },
  "orig_nbformat": 4
 },
 "nbformat": 4,
 "nbformat_minor": 2
}

{
 "cells": [
  {
   "cell_type": "code",
   "execution_count": 1,
   "metadata": {},
   "outputs": [],
   "source": [
    "from ahrs.filters import EKF\n",
    "from scipy.spatial.transform import Rotation as R\n",
    "from scipy import integrate\n",
    "import sys\n",
    "import os\n",
    "\n",
    "import numpy as np # linear algebra\n",
    "import pandas as pd # data processing, CSV file I/O (e.g. pd.read_csv)\n",
    "import matplotlib.pyplot as plt\n",
    "\n",
    "sys.path.append(os.path.join(os.getcwd(), \"..\", \"..\"))\n",
    "\n",
    "from support.imu_calculations import *"
   ]
  },
  {
   "cell_type": "code",
   "execution_count": 2,
   "metadata": {},
   "outputs": [
    {
     "data": {
      "text/plain": [
       "'c:\\\\Users\\\\CMC\\\\Documents\\\\openposelibs\\\\pose\\\\armbo\\\\simulation\\\\..\\\\recording_programs\\\\test_data\\\\omni_9dof_feb_28_2023'"
      ]
     },
     "execution_count": 2,
     "metadata": {},
     "output_type": "execute_result"
    }
   ],
   "source": [
    "_parent_folder = \"omni_9dof_feb_28_2023\"\n",
    "_folder_name = \"sk27_00_random_slow\"\n",
    "_base_pth = os.path.dirname(os.getcwd())\n",
    "_base_pth = os.path.join(_base_pth, \"..\",\"recording_programs\", \"test_data\", _parent_folder)\n",
    "_base_pth"
   ]
  },
  {
   "cell_type": "code",
   "execution_count": 3,
   "metadata": {},
   "outputs": [],
   "source": [
    "_sk_df = pd.read_csv(os.path.join(_base_pth, _folder_name, \"imu_df.csv\"))\n",
    "# _sk_df[\"rust_time\"] = _sk_df[\"rust_time\"].apply(lambda x: datetime.fromtimestamp(x))\n",
    "# rename columns\n",
    "# _sk_df.rename(columns={\"rust_time\": \"time\", \"e_fr\":\"e_t\"}, inplace=True)"
   ]
  },
  {
   "cell_type": "code",
   "execution_count": 6,
   "metadata": {},
   "outputs": [],
   "source": [
    "import numpy as np\n",
    "from scipy.signal import filtfilt, butter\n",
    "\n",
    "from pyquaternion import Quaternion\n",
    "# from quaternion import quaternion, from_rotation_vector, rotate_vectors\n",
    "\n",
    "\n",
    "def estimate_orientation(a, w, t, alpha=0.9, g_ref=(0., 0., 1.),\n",
    "                         theta_min=1e-6, highpass=.01, lowpass=.05):\n",
    "    \"\"\" Estimate orientation with a complementary filter.\n",
    "\n",
    "    Fuse linear acceleration and angular velocity measurements to obtain an\n",
    "    estimate of orientation using a complementary filter as described in\n",
    "    `Wetzstein 2017: 3-DOF Orientation Tracking with IMUs`_\n",
    "\n",
    "    .. _Wetzstein 2017: 3-DOF Orientation Tracking with IMUs:\n",
    "    https://pdfs.semanticscholar.org/5568/e2100cab0b573599accd2c77debd05ccf3b1.pdf\n",
    "\n",
    "    Parameters\n",
    "    ----------\n",
    "    a : array-like, shape (N, 3)\n",
    "        Acceleration measurements (in arbitrary units).\n",
    "\n",
    "    w : array-like, shape (N, 3)\n",
    "        Angular velocity measurements (in rad/s).\n",
    "\n",
    "    t : array-like, shape (N,)\n",
    "        Timestamps of the measurements (in s).\n",
    "\n",
    "    alpha : float, default 0.9\n",
    "        Weight of the angular velocity measurements in the estimate.\n",
    "\n",
    "    g_ref : tuple, len 3, default (0., 0., 1.)\n",
    "        Unit vector denoting direction of gravity.\n",
    "\n",
    "    theta_min : float, default 1e-6\n",
    "        Minimal angular velocity after filtering. Values smaller than this\n",
    "        will be considered noise and are not used for the estimate.\n",
    "\n",
    "    highpass : float, default .01\n",
    "        Cutoff frequency of the high-pass filter for the angular velocity as\n",
    "        fraction of Nyquist frequency.\n",
    "\n",
    "    lowpass : float, default .05\n",
    "        Cutoff frequency of the low-pass filter for the linear acceleration as\n",
    "        fraction of Nyquist frequency.\n",
    "\n",
    "    Returns\n",
    "    -------\n",
    "    q : array of quaternions, shape (N,)\n",
    "        The estimated orientation for each measurement.\n",
    "    \"\"\"\n",
    "\n",
    "    # initialize some things\n",
    "    N = len(t)\n",
    "    dt = np.diff(t)\n",
    "    g_ref = np.array(g_ref)\n",
    "    q = np.ones(N, dtype=Quaternion)\n",
    "\n",
    "    # get high-passed angular velocity\n",
    "    w = filtfilt(*butter(5, highpass, btype='high'), w, axis=0)\n",
    "    w[np.linalg.norm(w, axis=1) < theta_min] = 0\n",
    "    q_delta = from_rotation_vector(w[1:] * dt[:, None])\n",
    "\n",
    "    # get low-passed linear acceleration\n",
    "    a = filtfilt(*butter(5, lowpass, btype='low'), a, axis=0)\n",
    "\n",
    "    for i in range(1, N):\n",
    "\n",
    "        # get rotation estimate from gyroscope\n",
    "        q_w = q[i - 1] * q_delta[i - 1]\n",
    "\n",
    "        # get rotation estimate from accelerometer\n",
    "        v_world = rotate_vectors(q_w, a[i])\n",
    "        n = np.cross(v_world, g_ref)\n",
    "        phi = np.arccos(np.dot(v_world / np.linalg.norm(v_world), g_ref))\n",
    "        q_a = from_rotation_vector(\n",
    "            (1 - alpha) * phi * n[None, :] / np.linalg.norm(n))[0]\n",
    "\n",
    "        # fuse both estimates\n",
    "        q[i] = q_a * q_w\n",
    "\n",
    "    return q"
   ]
  },
  {
   "cell_type": "code",
   "execution_count": null,
   "metadata": {},
   "outputs": [],
   "source": []
  }
 ],
 "metadata": {
  "kernelspec": {
   "display_name": "gs",
   "language": "python",
   "name": "python3"
  },
  "language_info": {
   "codemirror_mode": {
    "name": "ipython",
    "version": 3
   },
   "file_extension": ".py",
   "mimetype": "text/x-python",
   "name": "python",
   "nbconvert_exporter": "python",
   "pygments_lexer": "ipython3",
   "version": "3.7.13"
  },
  "orig_nbformat": 4
 },
 "nbformat": 4,
 "nbformat_minor": 2
}

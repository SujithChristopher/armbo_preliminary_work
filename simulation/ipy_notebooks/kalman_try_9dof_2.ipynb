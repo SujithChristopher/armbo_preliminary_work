{
 "cells": [
  {
   "cell_type": "code",
   "execution_count": 1,
   "metadata": {},
   "outputs": [],
   "source": [
    "\n",
    "from ahrs.filters import EKF\n",
    "from scipy.spatial.transform import Rotation as R\n",
    "from scipy import integrate\n",
    "import sys\n",
    "import os\n",
    "\n",
    "import numpy as np # linear algebra\n",
    "import pandas as pd # data processing, CSV file I/O (e.g. pd.read_csv)\n",
    "import matplotlib.pyplot as plt\n",
    "\n",
    "sys.path.append(os.path.join(os.getcwd(), \"..\", \"..\"))\n",
    "\n",
    "from support.imu_calculations import *"
   ]
  },
  {
   "cell_type": "code",
   "execution_count": 2,
   "metadata": {},
   "outputs": [
    {
     "data": {
      "text/plain": [
       "'c:\\\\Users\\\\CMC\\\\Documents\\\\openposelibs\\\\pose\\\\armbo\\\\simulation\\\\..\\\\recording_programs\\\\test_data\\\\omni_9dof_feb_28_2023'"
      ]
     },
     "execution_count": 2,
     "metadata": {},
     "output_type": "execute_result"
    }
   ],
   "source": [
    "_parent_folder = \"omni_9dof_feb_28_2023\"\n",
    "_folder_name = \"sk27_00_random_slow\"\n",
    "_base_pth = os.path.dirname(os.getcwd())\n",
    "_base_pth = os.path.join(_base_pth, \"..\",\"recording_programs\", \"test_data\", _parent_folder)\n",
    "_base_pth"
   ]
  },
  {
   "cell_type": "code",
   "execution_count": 3,
   "metadata": {},
   "outputs": [],
   "source": [
    "_sk_df = pd.read_csv(os.path.join(_base_pth, _folder_name, \"imu01.csv\"))\n",
    "# _sk_df[\"rust_time\"] = _sk_df[\"rust_time\"].apply(lambda x: datetime.fromtimestamp(x))\n",
    "# rename columns\n",
    "_sk_df.rename(columns={\"rust_time\": \"time\", \"e_fr\":\"e_t\"}, inplace=True)"
   ]
  },
  {
   "cell_type": "code",
   "execution_count": 9,
   "metadata": {},
   "outputs": [
    {
     "data": {
      "text/html": [
       "<div>\n",
       "<style scoped>\n",
       "    .dataframe tbody tr th:only-of-type {\n",
       "        vertical-align: middle;\n",
       "    }\n",
       "\n",
       "    .dataframe tbody tr th {\n",
       "        vertical-align: top;\n",
       "    }\n",
       "\n",
       "    .dataframe thead th {\n",
       "        text-align: right;\n",
       "    }\n",
       "</style>\n",
       "<table border=\"1\" class=\"dataframe\">\n",
       "  <thead>\n",
       "    <tr style=\"text-align: right;\">\n",
       "      <th></th>\n",
       "      <th>time</th>\n",
       "      <th>ax</th>\n",
       "      <th>ay</th>\n",
       "      <th>az</th>\n",
       "      <th>gx</th>\n",
       "      <th>gy</th>\n",
       "      <th>gz</th>\n",
       "      <th>mx</th>\n",
       "      <th>my</th>\n",
       "      <th>mz</th>\n",
       "      <th>vel_x</th>\n",
       "      <th>vel_y</th>\n",
       "      <th>vel_z</th>\n",
       "    </tr>\n",
       "  </thead>\n",
       "  <tbody>\n",
       "    <tr>\n",
       "      <th>0</th>\n",
       "      <td>1.677583e+09</td>\n",
       "      <td>0.097656</td>\n",
       "      <td>0.067383</td>\n",
       "      <td>-1.143066</td>\n",
       "      <td>0.061035</td>\n",
       "      <td>0.061035</td>\n",
       "      <td>0.854492</td>\n",
       "      <td>131.261017</td>\n",
       "      <td>-318.713989</td>\n",
       "      <td>80.931892</td>\n",
       "      <td>0.000000</td>\n",
       "      <td>0.000000</td>\n",
       "      <td>0.000000</td>\n",
       "    </tr>\n",
       "    <tr>\n",
       "      <th>1</th>\n",
       "      <td>1.677583e+09</td>\n",
       "      <td>0.097168</td>\n",
       "      <td>0.067383</td>\n",
       "      <td>-1.141113</td>\n",
       "      <td>0.061035</td>\n",
       "      <td>0.000000</td>\n",
       "      <td>0.854492</td>\n",
       "      <td>134.857208</td>\n",
       "      <td>-332.958191</td>\n",
       "      <td>94.707535</td>\n",
       "      <td>0.000002</td>\n",
       "      <td>-0.000005</td>\n",
       "      <td>-0.000046</td>\n",
       "    </tr>\n",
       "    <tr>\n",
       "      <th>2</th>\n",
       "      <td>1.677583e+09</td>\n",
       "      <td>0.098633</td>\n",
       "      <td>0.067871</td>\n",
       "      <td>-1.139160</td>\n",
       "      <td>0.061035</td>\n",
       "      <td>-0.061035</td>\n",
       "      <td>0.854492</td>\n",
       "      <td>133.059113</td>\n",
       "      <td>-327.616608</td>\n",
       "      <td>86.097755</td>\n",
       "      <td>0.000018</td>\n",
       "      <td>-0.000005</td>\n",
       "      <td>-0.000073</td>\n",
       "    </tr>\n",
       "    <tr>\n",
       "      <th>3</th>\n",
       "      <td>1.677583e+09</td>\n",
       "      <td>0.099609</td>\n",
       "      <td>0.067871</td>\n",
       "      <td>-1.140625</td>\n",
       "      <td>0.061035</td>\n",
       "      <td>0.000000</td>\n",
       "      <td>0.793457</td>\n",
       "      <td>136.655304</td>\n",
       "      <td>-327.616608</td>\n",
       "      <td>92.985580</td>\n",
       "      <td>0.000044</td>\n",
       "      <td>-0.000005</td>\n",
       "      <td>-0.000115</td>\n",
       "    </tr>\n",
       "    <tr>\n",
       "      <th>4</th>\n",
       "      <td>1.677583e+09</td>\n",
       "      <td>0.095703</td>\n",
       "      <td>0.067871</td>\n",
       "      <td>-1.141113</td>\n",
       "      <td>0.122070</td>\n",
       "      <td>-0.061035</td>\n",
       "      <td>0.915527</td>\n",
       "      <td>145.645782</td>\n",
       "      <td>-315.152924</td>\n",
       "      <td>87.819710</td>\n",
       "      <td>0.000031</td>\n",
       "      <td>-0.000006</td>\n",
       "      <td>-0.000161</td>\n",
       "    </tr>\n",
       "  </tbody>\n",
       "</table>\n",
       "</div>"
      ],
      "text/plain": [
       "           time        ax        ay        az        gx        gy        gz  \\\n",
       "0  1.677583e+09  0.097656  0.067383 -1.143066  0.061035  0.061035  0.854492   \n",
       "1  1.677583e+09  0.097168  0.067383 -1.141113  0.061035  0.000000  0.854492   \n",
       "2  1.677583e+09  0.098633  0.067871 -1.139160  0.061035 -0.061035  0.854492   \n",
       "3  1.677583e+09  0.099609  0.067871 -1.140625  0.061035  0.000000  0.793457   \n",
       "4  1.677583e+09  0.095703  0.067871 -1.141113  0.122070 -0.061035  0.915527   \n",
       "\n",
       "           mx          my         mz     vel_x     vel_y     vel_z  \n",
       "0  131.261017 -318.713989  80.931892  0.000000  0.000000  0.000000  \n",
       "1  134.857208 -332.958191  94.707535  0.000002 -0.000005 -0.000046  \n",
       "2  133.059113 -327.616608  86.097755  0.000018 -0.000005 -0.000073  \n",
       "3  136.655304 -327.616608  92.985580  0.000044 -0.000005 -0.000115  \n",
       "4  145.645782 -315.152924  87.819710  0.000031 -0.000006 -0.000161  "
      ]
     },
     "execution_count": 9,
     "metadata": {},
     "output_type": "execute_result"
    }
   ],
   "source": [
    "_imu_df = _sk_df[['time', \"ax\", \"ay\", \"az\", \"gx\", \"gy\", \"gz\", \"mx\", \"my\", \"mz\"]]\n",
    "\n",
    "# _imu_df.to_csv(os.path.join(_base_pth, _folder_name, \"imu_df.csv\"), index=False)\n",
    "\n",
    "_vel_df = calculate_imu_velocity(_imu_df, filter_size=51, filter_order=1, zero_drift=300)\n",
    "_vel_df.head()"
   ]
  },
  {
   "cell_type": "code",
   "execution_count": 5,
   "metadata": {},
   "outputs": [],
   "source": [
    "time_ = _imu_df.time\n",
    "\n",
    "vel_x = integrate.cumtrapz(_imu_df.ax, _imu_df.time, initial=0)\n",
    "vel_y = integrate.cumtrapz(_imu_df.ay, _imu_df.time, initial=0)\n",
    "vel_z = integrate.cumtrapz(_imu_df.az, _imu_df.time, initial=0)\n",
    "\n",
    "pos_x = integrate.cumtrapz(vel_x, _imu_df.time, initial=0)\n",
    "pos_y = integrate.cumtrapz(vel_y, _imu_df.time, initial=0)\n",
    "pos_z = integrate.cumtrapz(vel_z, _imu_df.time, initial=0)"
   ]
  },
  {
   "cell_type": "code",
   "execution_count": 6,
   "metadata": {},
   "outputs": [
    {
     "data": {
      "text/plain": [
       "[<matplotlib.lines.Line2D at 0x1bdd0f23408>]"
      ]
     },
     "execution_count": 6,
     "metadata": {},
     "output_type": "execute_result"
    },
    {
     "data": {
      "image/png": "[encoded data removed]",
      "text/plain": [
       "<Figure size 640x480 with 1 Axes>"
      ]
     },
     "metadata": {},
     "output_type": "display_data"
    }
   ],
   "source": [
    "plt.plot(_imu_df.time, vel_x, label=\"ax\")"
   ]
  },
  {
   "cell_type": "code",
   "execution_count": 7,
   "metadata": {},
   "outputs": [],
   "source": [
    "gyro = _imu_df[[\"gx\", \"gy\", \"gz\"]].values\n",
    "acce = _imu_df[[\"ax\", \"ay\", \"az\"]].values\n",
    "magn = _imu_df[[\"mx\", \"my\", \"mz\"]].values\n",
    "\n",
    "\n",
    "ekf_estimator = EKF(gyr=gyro, acc=acce, mag=magn, frequency=50.0)\n",
    "# Initializing the class with the sensor data generates our Quaternion in the Q Variable\n",
    "\n",
    "Q = ekf_estimator.Q\n",
    "n_samples = acce.shape[0]\n",
    "new_acce = np.zeros((n_samples, 3))\n",
    "# Initializing Array to hold the Linear acceleration Vector\n",
    "\n",
    "for t in range(n_samples):\n",
    "    r = R.from_quat(Q[t])\n",
    "    # Getting a Rotation Matrix from the Quaternions\n",
    "    new_acce[t] = np.matmul(r.as_matrix().T,acce[t])\n",
    "    # matmul Rotation Matrix Transpose to orignal Acceleration to produce the clean linear acceleration"
   ]
  }
 ],
 "metadata": {
  "kernelspec": {
   "display_name": "gs",
   "language": "python",
   "name": "python3"
  },
  "language_info": {
   "codemirror_mode": {
    "name": "ipython",
    "version": 3
   },
   "file_extension": ".py",
   "mimetype": "text/x-python",
   "name": "python",
   "nbconvert_exporter": "python",
   "pygments_lexer": "ipython3",
   "version": "3.7.13"
  },
  "orig_nbformat": 4
 },
 "nbformat": 4,
 "nbformat_minor": 2
}

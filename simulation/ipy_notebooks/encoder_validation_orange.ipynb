{
 "cells": [
  {
   "cell_type": "code",
   "execution_count": 8,
   "metadata": {},
   "outputs": [],
   "source": [
    "import numpy as np\n",
    "import matplotlib.pyplot as plt\n",
    "import pandas as pd\n",
    "import math\n",
    "import time\n",
    "import sys\n",
    "import os\n",
    "from scipy.signal import savgol_filter\n",
    "from scipy.interpolate import interp1d\n",
    "from tqdm import tqdm\n",
    "sys.path.append(os.path.join(os.getcwd(), \"..\", \"..\"))\n",
    "from support.omniwheel_calculation import *\n",
    "from datetime import datetime\n",
    "from support.pd_support import *\n",
    "from support.calculations_support import *\n",
    "from support.ar_calculations import *\n",
    "from numba import njit\n",
    "import polars as pl\n",
    "from scipy.signal import find_peaks\n",
    "from scipy.signal import peak_widths\n",
    "from scipy.signal import peak_prominences\n",
    "from support.imu_calculations import *"
   ]
  },
  {
   "cell_type": "code",
   "execution_count": 11,
   "metadata": {},
   "outputs": [],
   "source": [
    "_txt_pth = r\"C:\\Users\\CMC\\Documents\\openposelibs\\pose\\armbo\\simulation\\ipy_notebooks\\encoder_data\\orange_2500ppr\\e_t0.txt\"\n",
    "_mocap_pth = r\"C:\\Users\\CMC\\Documents\\openposelibs\\pose\\armbo\\simulation\\ipy_notebooks\\encoder_data\\mocap_data\\orange_et0.csv\""
   ]
  },
  {
   "cell_type": "code",
   "execution_count": 31,
   "metadata": {},
   "outputs": [],
   "source": [
    "sk_df = pd.read_csv(_txt_pth, names=[\"micros\",'enc','cycle','nothing'], sep=' ')\n",
    "_mocap_df, st_time = read_rigid_body_csv(_mocap_pth)\n",
    "_mocap_df = add_datetime_col(_mocap_df, st_time, \"seconds\")\n",
    "\n",
    "# type in marker details\n",
    "_xm = get_rb_marker_name(4)\n",
    "_zm = get_rb_marker_name(1)\n",
    "_om = get_rb_marker_name(3)\n",
    "\n",
    "\"\"\"set zero\"\"\"\n",
    "\n",
    "sk_df = set_zero(sk_df, column_name = [\"enc\", \"cycle\", \"micros\"])\n",
    "\n",
    "\n",
    "\"\"\"change micros to seconds\"\"\"\n",
    "sk_df[\"seconds\"] = sk_df[\"micros\"] / 1000000\n",
    "# _mocap_df"
   ]
  },
  {
   "cell_type": "code",
   "execution_count": 32,
   "metadata": {},
   "outputs": [
    {
     "data": {
      "text/html": [
       "<div>\n",
       "<style scoped>\n",
       "    .dataframe tbody tr th:only-of-type {\n",
       "        vertical-align: middle;\n",
       "    }\n",
       "\n",
       "    .dataframe tbody tr th {\n",
       "        vertical-align: top;\n",
       "    }\n",
       "\n",
       "    .dataframe thead th {\n",
       "        text-align: right;\n",
       "    }\n",
       "</style>\n",
       "<table border=\"1\" class=\"dataframe\">\n",
       "  <thead>\n",
       "    <tr style=\"text-align: right;\">\n",
       "      <th></th>\n",
       "      <th>micros</th>\n",
       "      <th>enc</th>\n",
       "      <th>cycle</th>\n",
       "      <th>nothing</th>\n",
       "      <th>seconds</th>\n",
       "      <th>ang_y</th>\n",
       "      <th>diff</th>\n",
       "      <th>theta</th>\n",
       "    </tr>\n",
       "  </thead>\n",
       "  <tbody>\n",
       "    <tr>\n",
       "      <th>0</th>\n",
       "      <td>0</td>\n",
       "      <td>0</td>\n",
       "      <td>0</td>\n",
       "      <td>1</td>\n",
       "      <td>0.000000</td>\n",
       "      <td>0.000</td>\n",
       "      <td>0.000</td>\n",
       "      <td>0.00000</td>\n",
       "    </tr>\n",
       "    <tr>\n",
       "      <th>1</th>\n",
       "      <td>46340</td>\n",
       "      <td>-1</td>\n",
       "      <td>0</td>\n",
       "      <td>-1</td>\n",
       "      <td>0.046340</td>\n",
       "      <td>-0.036</td>\n",
       "      <td>0.036</td>\n",
       "      <td>0.00036</td>\n",
       "    </tr>\n",
       "    <tr>\n",
       "      <th>2</th>\n",
       "      <td>200208</td>\n",
       "      <td>0</td>\n",
       "      <td>0</td>\n",
       "      <td>1</td>\n",
       "      <td>0.200208</td>\n",
       "      <td>0.000</td>\n",
       "      <td>0.036</td>\n",
       "      <td>0.00108</td>\n",
       "    </tr>\n",
       "    <tr>\n",
       "      <th>3</th>\n",
       "      <td>282890</td>\n",
       "      <td>1</td>\n",
       "      <td>0</td>\n",
       "      <td>1</td>\n",
       "      <td>0.282890</td>\n",
       "      <td>0.036</td>\n",
       "      <td>0.036</td>\n",
       "      <td>0.00180</td>\n",
       "    </tr>\n",
       "    <tr>\n",
       "      <th>4</th>\n",
       "      <td>300236</td>\n",
       "      <td>2</td>\n",
       "      <td>0</td>\n",
       "      <td>1</td>\n",
       "      <td>0.300236</td>\n",
       "      <td>0.072</td>\n",
       "      <td>0.036</td>\n",
       "      <td>0.00252</td>\n",
       "    </tr>\n",
       "    <tr>\n",
       "      <th>...</th>\n",
       "      <td>...</td>\n",
       "      <td>...</td>\n",
       "      <td>...</td>\n",
       "      <td>...</td>\n",
       "      <td>...</td>\n",
       "      <td>...</td>\n",
       "      <td>...</td>\n",
       "      <td>...</td>\n",
       "    </tr>\n",
       "    <tr>\n",
       "      <th>121084</th>\n",
       "      <td>26919990</td>\n",
       "      <td>133273</td>\n",
       "      <td>14</td>\n",
       "      <td>-1</td>\n",
       "      <td>26.919990</td>\n",
       "      <td>4797.828</td>\n",
       "      <td>0.036</td>\n",
       "      <td>96.17508</td>\n",
       "    </tr>\n",
       "    <tr>\n",
       "      <th>121085</th>\n",
       "      <td>26919993</td>\n",
       "      <td>133274</td>\n",
       "      <td>14</td>\n",
       "      <td>1</td>\n",
       "      <td>26.919993</td>\n",
       "      <td>4797.864</td>\n",
       "      <td>0.036</td>\n",
       "      <td>96.17580</td>\n",
       "    </tr>\n",
       "    <tr>\n",
       "      <th>121086</th>\n",
       "      <td>26919996</td>\n",
       "      <td>133273</td>\n",
       "      <td>14</td>\n",
       "      <td>-1</td>\n",
       "      <td>26.919996</td>\n",
       "      <td>4797.828</td>\n",
       "      <td>0.036</td>\n",
       "      <td>96.17652</td>\n",
       "    </tr>\n",
       "    <tr>\n",
       "      <th>121087</th>\n",
       "      <td>26920015</td>\n",
       "      <td>133274</td>\n",
       "      <td>14</td>\n",
       "      <td>1</td>\n",
       "      <td>26.920015</td>\n",
       "      <td>4797.864</td>\n",
       "      <td>0.036</td>\n",
       "      <td>96.17724</td>\n",
       "    </tr>\n",
       "    <tr>\n",
       "      <th>121088</th>\n",
       "      <td>26920018</td>\n",
       "      <td>133273</td>\n",
       "      <td>14</td>\n",
       "      <td>-1</td>\n",
       "      <td>26.920018</td>\n",
       "      <td>4797.828</td>\n",
       "      <td>0.036</td>\n",
       "      <td>96.17796</td>\n",
       "    </tr>\n",
       "  </tbody>\n",
       "</table>\n",
       "<p>121089 rows × 8 columns</p>\n",
       "</div>"
      ],
      "text/plain": [
       "          micros     enc  cycle  nothing    seconds     ang_y   diff     theta\n",
       "0              0       0      0        1   0.000000     0.000  0.000   0.00000\n",
       "1          46340      -1      0       -1   0.046340    -0.036  0.036   0.00036\n",
       "2         200208       0      0        1   0.200208     0.000  0.036   0.00108\n",
       "3         282890       1      0        1   0.282890     0.036  0.036   0.00180\n",
       "4         300236       2      0        1   0.300236     0.072  0.036   0.00252\n",
       "...          ...     ...    ...      ...        ...       ...    ...       ...\n",
       "121084  26919990  133273     14       -1  26.919990  4797.828  0.036  96.17508\n",
       "121085  26919993  133274     14        1  26.919993  4797.864  0.036  96.17580\n",
       "121086  26919996  133273     14       -1  26.919996  4797.828  0.036  96.17652\n",
       "121087  26920015  133274     14        1  26.920015  4797.864  0.036  96.17724\n",
       "121088  26920018  133273     14       -1  26.920018  4797.828  0.036  96.17796\n",
       "\n",
       "[121089 rows x 8 columns]"
      ]
     },
     "execution_count": 32,
     "metadata": {},
     "output_type": "execute_result"
    }
   ],
   "source": [
    "\"\"\"getting angle from non-syncronized data from skateboard df\"\"\"\n",
    "sk_df[\"ang_y\"] = sk_df[\"enc\"].apply(lambda x: x*0.036)\n",
    "sk_df[\"diff\"] = abs(sk_df[\"ang_y\"].diff())\n",
    "# replace nan with 0\n",
    "sk_df[\"diff\"].fillna(0, inplace=True)\n",
    "# integrate angle\n",
    "_new_ang_df, _ = get_orientation(sk_df, \"diff\")\n",
    "_new_ang_df"
   ]
  },
  {
   "attachments": {},
   "cell_type": "markdown",
   "metadata": {},
   "source": [
    "This is to check the Z pulse from encoder"
   ]
  },
  {
   "cell_type": "code",
   "execution_count": null,
   "metadata": {},
   "outputs": [],
   "source": [
    "seperated = sk_df.groupby(sk_df.cycle)\n",
    "\n",
    "val = [1, 2, 3, 4, 5, 6, 7, 8, 9, 10, 11, 12, 13, 14, 15, 16, 17, 18, 19]\n",
    "\n",
    "for val in val:\n",
    "\n",
    "    print(seperated.get_group(val).enc.iloc[0] - seperated.get_group(val).enc.iloc[-1])"
   ]
  },
  {
   "cell_type": "code",
   "execution_count": 14,
   "metadata": {},
   "outputs": [
    {
     "name": "stderr",
     "output_type": "stream",
     "text": [
      "100%|██████████| 3323/3323 [00:02<00:00, 1587.96it/s]\n",
      "100%|██████████| 3323/3323 [00:00<00:00, 84808.43it/s]\n",
      "100%|██████████| 3323/3323 [00:00<00:00, 80720.89it/s]\n"
     ]
    }
   ],
   "source": [
    "# This cell is optimized to run faster using polars\n",
    "\n",
    "# calculate rotation matrix from xvec, zvec, org\n",
    "_m_df = _mocap_df.copy()\n",
    "_m_df = pl.from_pandas(_m_df)\n",
    "\n",
    "_rotmat_i = []\n",
    "for i in tqdm(range(len(_m_df))):\n",
    "    \n",
    "    _x_vec = _m_df[[_xm[\"x\"], _xm[\"y\"], _xm[\"z\"]]][i, :].to_numpy().T\n",
    "    _z_vec = _m_df[[_zm[\"x\"], _zm[\"y\"], _zm[\"z\"]]][i, :].to_numpy().T\n",
    "    _org = _m_df[[_om[\"x\"], _om[\"y\"], _om[\"z\"]]][i, :].to_numpy().T\n",
    "\n",
    "    _rotmat_i.append(calculate_rotmat(_x_vec, _z_vec, _org))\n",
    "# calculating del rotmat for mc\n",
    "_del_r = []\n",
    "for i in tqdm(range(len(_rotmat_i))):\n",
    "    _del_r.append(_rotmat_i[i].T@_rotmat_i[0])\n",
    "\n",
    "# calculating angle for mc\n",
    "_theta_x = []\n",
    "_theta_y = []\n",
    "_theta_z = []\n",
    "\n",
    "for i in tqdm(_del_r):\n",
    "    _theta_x.append(np.arctan2(i[2,1], i[2,2]))\n",
    "    _theta_y.append(np.arctan2(-i[2,0], np.sqrt(i[2,1]**2 + i[2,2]**2)))\n",
    "    _theta_z.append(np.arctan2(i[1,0], i[0,0]))\n",
    "    \n",
    "_theta_x = np.array(_theta_x)\n",
    "_theta_y = np.array(_theta_y)\n",
    "_theta_z = np.array(_theta_z)\n",
    "\n",
    "# converting them to degrees\n",
    "_theta_x = np.rad2deg(_theta_x)\n",
    "_theta_y = np.rad2deg(_theta_y)\n",
    "_theta_z = np.rad2deg(_theta_z)"
   ]
  },
  {
   "cell_type": "code",
   "execution_count": 15,
   "metadata": {},
   "outputs": [
    {
     "data": {
      "text/plain": [
       "<matplotlib.legend.Legend at 0x25139870608>"
      ]
     },
     "execution_count": 15,
     "metadata": {},
     "output_type": "execute_result"
    },
    {
     "data": {
      "image/png": "[encoded data removed]",
      "text/plain": [
       "<Figure size 640x480 with 1 Axes>"
      ]
     },
     "metadata": {},
     "output_type": "display_data"
    }
   ],
   "source": [
    "plt.plot(_m_df[\"time\"], _theta_y, label=\"y\")\n",
    "plt.legend()"
   ]
  },
  {
   "cell_type": "code",
   "execution_count": 16,
   "metadata": {},
   "outputs": [
    {
     "data": {
      "text/plain": [
       "[<matplotlib.lines.Line2D at 0x2513aa461c8>]"
      ]
     },
     "execution_count": 16,
     "metadata": {},
     "output_type": "execute_result"
    },
    {
     "data": {
      "image/png": "[encoded data removed]",
      "text/plain": [
       "<Figure size 640x480 with 1 Axes>"
      ]
     },
     "metadata": {},
     "output_type": "display_data"
    }
   ],
   "source": [
    "theta_df = pd.DataFrame({\"time\": _m_df[\"time\"], \"theta_y\": _theta_y})\n",
    "theta_df[\"diff\"] = abs(theta_df[\"theta_y\"].diff())\n",
    "# replace nan with 0\n",
    "theta_df[\"diff\"].fillna(0, inplace=True)\n",
    "# integrate angle\n",
    "df, _ = get_orientation(theta_df, \"diff\")\n",
    "plt.plot(df[\"time\"], df[\"theta\"], label=\"y\")"
   ]
  },
  {
   "cell_type": "code",
   "execution_count": 24,
   "metadata": {},
   "outputs": [
    {
     "data": {
      "text/plain": [
       "'plot the angle from skateboard and mocap'"
      ]
     },
     "execution_count": 24,
     "metadata": {},
     "output_type": "execute_result"
    }
   ],
   "source": [
    "\"\"\"plot the angle from skateboard and mocap\"\"\"\n",
    "# plt.plot(_new_ang_df[\"time\"], _new_ang_df[\"theta\"], label=\"sk\")\n",
    "# plt.plot(df[\"time\"], df[\"theta\"], label=\"mc\")"
   ]
  },
  {
   "cell_type": "code",
   "execution_count": null,
   "metadata": {},
   "outputs": [],
   "source": []
  }
 ],
 "metadata": {
  "kernelspec": {
   "display_name": "gs",
   "language": "python",
   "name": "python3"
  },
  "language_info": {
   "codemirror_mode": {
    "name": "ipython",
    "version": 3
   },
   "file_extension": ".py",
   "mimetype": "text/x-python",
   "name": "python",
   "nbconvert_exporter": "python",
   "pygments_lexer": "ipython3",
   "version": "3.7.13"
  },
  "orig_nbformat": 4
 },
 "nbformat": 4,
 "nbformat_minor": 2
}

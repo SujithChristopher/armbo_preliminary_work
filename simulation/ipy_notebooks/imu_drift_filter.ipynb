{
 "cells": [
  {
   "cell_type": "code",
   "execution_count": 1,
   "metadata": {},
   "outputs": [],
   "source": [
    "import numpy as np\n",
    "import matplotlib.pyplot as plt\n",
    "import pandas as pd\n",
    "import math\n",
    "import time\n",
    "import sys\n",
    "import os\n",
    "from scipy.signal import savgol_filter\n",
    "from scipy.interpolate import interp1d\n",
    "from tqdm import tqdm\n",
    "sys.path.append(os.path.join(os.getcwd(), \"..\", \"..\"))\n",
    "from support.omniwheel_calculation import *\n",
    "from datetime import datetime\n",
    "from support.pd_support import *\n",
    "from support.calculations_support import *\n",
    "from support.ar_calculations import *\n",
    "from numba import njit\n",
    "import polars as pl\n",
    "from scipy.signal import find_peaks\n",
    "from scipy.signal import peak_widths\n",
    "from scipy.signal import peak_prominences\n",
    "from support.imu_calculations import *"
   ]
  },
  {
   "cell_type": "code",
   "execution_count": 2,
   "metadata": {},
   "outputs": [
    {
     "data": {
      "text/plain": [
       "'c:\\\\Users\\\\CMC\\\\Documents\\\\openposelibs\\\\pose\\\\armbo\\\\simulation\\\\..\\\\recording_programs\\\\test_data\\\\imu_validationt_march_13_2023'"
      ]
     },
     "execution_count": 2,
     "metadata": {},
     "output_type": "execute_result"
    }
   ],
   "source": [
    "_parent_folder = \"imu_validationt_march_13_2023\"\n",
    "_folder_name = \"test3\"\n",
    "_base_pth = os.path.dirname(os.getcwd())\n",
    "_base_pth = os.path.join(_base_pth, \"..\",\"recording_programs\", \"test_data\", _parent_folder)\n",
    "_base_pth"
   ]
  },
  {
   "cell_type": "code",
   "execution_count": 3,
   "metadata": {},
   "outputs": [],
   "source": [
    "_sk_df = pd.read_csv(os.path.join(_base_pth, _folder_name, \"imu01.csv\"))\n",
    "_sk_df[\"rust_time\"] = _sk_df[\"rust_time\"].apply(lambda x: datetime.fromtimestamp(x))\n",
    "# set zero\n",
    "_sk_df.rename(columns={\"rust_time\": \"time\", \"e_fr\":\"e_t\"}, inplace=True)\n",
    "\n",
    "_sk_df = set_zero(_sk_df, column_name = [\"e_t\", \"e_rr\", \"e_rl\"])\n",
    "# rename columns\n",
    "_sk_df[\"e_t\"] =  -_sk_df[\"e_t\"]"
   ]
  },
  {
   "cell_type": "code",
   "execution_count": 4,
   "metadata": {},
   "outputs": [
    {
     "data": {
      "text/html": [
       "<div>\n",
       "<style scoped>\n",
       "    .dataframe tbody tr th:only-of-type {\n",
       "        vertical-align: middle;\n",
       "    }\n",
       "\n",
       "    .dataframe tbody tr th {\n",
       "        vertical-align: top;\n",
       "    }\n",
       "\n",
       "    .dataframe thead th {\n",
       "        text-align: right;\n",
       "    }\n",
       "</style>\n",
       "<table border=\"1\" class=\"dataframe\">\n",
       "  <thead>\n",
       "    <tr style=\"text-align: right;\">\n",
       "      <th></th>\n",
       "      <th>time</th>\n",
       "      <th>ax</th>\n",
       "      <th>ay</th>\n",
       "      <th>az</th>\n",
       "      <th>gx</th>\n",
       "      <th>gy</th>\n",
       "      <th>gz</th>\n",
       "      <th>mx</th>\n",
       "      <th>my</th>\n",
       "      <th>mz</th>\n",
       "    </tr>\n",
       "  </thead>\n",
       "  <tbody>\n",
       "    <tr>\n",
       "      <th>0</th>\n",
       "      <td>2023-03-13 14:35:44.561404</td>\n",
       "      <td>-0.712986</td>\n",
       "      <td>0.367858</td>\n",
       "      <td>10.140916</td>\n",
       "      <td>-0.060976</td>\n",
       "      <td>-0.007622</td>\n",
       "      <td>0.030488</td>\n",
       "      <td>381.900024</td>\n",
       "      <td>-124.500008</td>\n",
       "      <td>-51.300003</td>\n",
       "    </tr>\n",
       "    <tr>\n",
       "      <th>1</th>\n",
       "      <td>2023-03-13 14:35:44.740838</td>\n",
       "      <td>-0.723155</td>\n",
       "      <td>0.342138</td>\n",
       "      <td>10.156467</td>\n",
       "      <td>-0.060976</td>\n",
       "      <td>-0.015244</td>\n",
       "      <td>0.030488</td>\n",
       "      <td>384.300018</td>\n",
       "      <td>-131.700012</td>\n",
       "      <td>-50.100002</td>\n",
       "    </tr>\n",
       "    <tr>\n",
       "      <th>2</th>\n",
       "      <td>2023-03-13 14:35:44.741372</td>\n",
       "      <td>-0.703416</td>\n",
       "      <td>0.336156</td>\n",
       "      <td>10.172618</td>\n",
       "      <td>-0.068598</td>\n",
       "      <td>-0.015244</td>\n",
       "      <td>0.022866</td>\n",
       "      <td>384.300018</td>\n",
       "      <td>-129.300003</td>\n",
       "      <td>-53.100002</td>\n",
       "    </tr>\n",
       "    <tr>\n",
       "      <th>3</th>\n",
       "      <td>2023-03-13 14:35:44.741796</td>\n",
       "      <td>-0.712388</td>\n",
       "      <td>0.347521</td>\n",
       "      <td>10.153477</td>\n",
       "      <td>-0.045732</td>\n",
       "      <td>-0.007622</td>\n",
       "      <td>0.015244</td>\n",
       "      <td>384.300018</td>\n",
       "      <td>-131.700012</td>\n",
       "      <td>-51.300003</td>\n",
       "    </tr>\n",
       "    <tr>\n",
       "      <th>4</th>\n",
       "      <td>2023-03-13 14:35:44.742322</td>\n",
       "      <td>-0.721360</td>\n",
       "      <td>0.331371</td>\n",
       "      <td>10.152879</td>\n",
       "      <td>-0.068598</td>\n",
       "      <td>-0.007622</td>\n",
       "      <td>0.022866</td>\n",
       "      <td>386.700012</td>\n",
       "      <td>-134.100006</td>\n",
       "      <td>-50.700001</td>\n",
       "    </tr>\n",
       "    <tr>\n",
       "      <th>...</th>\n",
       "      <td>...</td>\n",
       "      <td>...</td>\n",
       "      <td>...</td>\n",
       "      <td>...</td>\n",
       "      <td>...</td>\n",
       "      <td>...</td>\n",
       "      <td>...</td>\n",
       "      <td>...</td>\n",
       "      <td>...</td>\n",
       "      <td>...</td>\n",
       "    </tr>\n",
       "    <tr>\n",
       "      <th>6001</th>\n",
       "      <td>2023-03-13 14:37:00.290599</td>\n",
       "      <td>-0.713585</td>\n",
       "      <td>0.359484</td>\n",
       "      <td>10.166038</td>\n",
       "      <td>-0.060976</td>\n",
       "      <td>-0.007622</td>\n",
       "      <td>0.022866</td>\n",
       "      <td>384.300018</td>\n",
       "      <td>-131.700012</td>\n",
       "      <td>-50.700001</td>\n",
       "    </tr>\n",
       "    <tr>\n",
       "      <th>6002</th>\n",
       "      <td>2023-03-13 14:37:00.303194</td>\n",
       "      <td>-0.700425</td>\n",
       "      <td>0.336755</td>\n",
       "      <td>10.144505</td>\n",
       "      <td>-0.053354</td>\n",
       "      <td>0.000000</td>\n",
       "      <td>0.022866</td>\n",
       "      <td>386.700012</td>\n",
       "      <td>-134.100006</td>\n",
       "      <td>-51.300003</td>\n",
       "    </tr>\n",
       "    <tr>\n",
       "      <th>6003</th>\n",
       "      <td>2023-03-13 14:37:00.315732</td>\n",
       "      <td>-0.724949</td>\n",
       "      <td>0.350512</td>\n",
       "      <td>10.152281</td>\n",
       "      <td>-0.076220</td>\n",
       "      <td>0.000000</td>\n",
       "      <td>0.022866</td>\n",
       "      <td>386.700012</td>\n",
       "      <td>-134.100006</td>\n",
       "      <td>-51.900002</td>\n",
       "    </tr>\n",
       "    <tr>\n",
       "      <th>6004</th>\n",
       "      <td>2023-03-13 14:37:00.328367</td>\n",
       "      <td>-0.718370</td>\n",
       "      <td>0.354101</td>\n",
       "      <td>10.158262</td>\n",
       "      <td>-0.068598</td>\n",
       "      <td>-0.015244</td>\n",
       "      <td>0.030488</td>\n",
       "      <td>389.100006</td>\n",
       "      <td>-126.900002</td>\n",
       "      <td>-50.100002</td>\n",
       "    </tr>\n",
       "    <tr>\n",
       "      <th>6005</th>\n",
       "      <td>2023-03-13 14:37:00.340993</td>\n",
       "      <td>-0.704612</td>\n",
       "      <td>0.381017</td>\n",
       "      <td>10.184581</td>\n",
       "      <td>-0.053354</td>\n",
       "      <td>-0.015244</td>\n",
       "      <td>0.022866</td>\n",
       "      <td>381.900024</td>\n",
       "      <td>-131.700012</td>\n",
       "      <td>-50.700001</td>\n",
       "    </tr>\n",
       "  </tbody>\n",
       "</table>\n",
       "<p>6006 rows × 10 columns</p>\n",
       "</div>"
      ],
      "text/plain": [
       "                           time        ax        ay         az        gx  \\\n",
       "0    2023-03-13 14:35:44.561404 -0.712986  0.367858  10.140916 -0.060976   \n",
       "1    2023-03-13 14:35:44.740838 -0.723155  0.342138  10.156467 -0.060976   \n",
       "2    2023-03-13 14:35:44.741372 -0.703416  0.336156  10.172618 -0.068598   \n",
       "3    2023-03-13 14:35:44.741796 -0.712388  0.347521  10.153477 -0.045732   \n",
       "4    2023-03-13 14:35:44.742322 -0.721360  0.331371  10.152879 -0.068598   \n",
       "...                         ...       ...       ...        ...       ...   \n",
       "6001 2023-03-13 14:37:00.290599 -0.713585  0.359484  10.166038 -0.060976   \n",
       "6002 2023-03-13 14:37:00.303194 -0.700425  0.336755  10.144505 -0.053354   \n",
       "6003 2023-03-13 14:37:00.315732 -0.724949  0.350512  10.152281 -0.076220   \n",
       "6004 2023-03-13 14:37:00.328367 -0.718370  0.354101  10.158262 -0.068598   \n",
       "6005 2023-03-13 14:37:00.340993 -0.704612  0.381017  10.184581 -0.053354   \n",
       "\n",
       "            gy        gz          mx          my         mz  \n",
       "0    -0.007622  0.030488  381.900024 -124.500008 -51.300003  \n",
       "1    -0.015244  0.030488  384.300018 -131.700012 -50.100002  \n",
       "2    -0.015244  0.022866  384.300018 -129.300003 -53.100002  \n",
       "3    -0.007622  0.015244  384.300018 -131.700012 -51.300003  \n",
       "4    -0.007622  0.022866  386.700012 -134.100006 -50.700001  \n",
       "...        ...       ...         ...         ...        ...  \n",
       "6001 -0.007622  0.022866  384.300018 -131.700012 -50.700001  \n",
       "6002  0.000000  0.022866  386.700012 -134.100006 -51.300003  \n",
       "6003  0.000000  0.022866  386.700012 -134.100006 -51.900002  \n",
       "6004 -0.015244  0.030488  389.100006 -126.900002 -50.100002  \n",
       "6005 -0.015244  0.022866  381.900024 -131.700012 -50.700001  \n",
       "\n",
       "[6006 rows x 10 columns]"
      ]
     },
     "execution_count": 4,
     "metadata": {},
     "output_type": "execute_result"
    }
   ],
   "source": [
    "_bosch_df = _sk_df[[\"time\", \"ax\", \"ay\", \"az\", \"gx\", \"gy\", \"gz\", \"mx\", \"my\", \"mz\"]]\n",
    "_bosch_df\n"
   ]
  },
  {
   "cell_type": "code",
   "execution_count": 9,
   "metadata": {},
   "outputs": [
    {
     "name": "stderr",
     "output_type": "stream",
     "text": [
      "c:\\Users\\CMC\\anaconda3\\envs\\gs\\lib\\site-packages\\ipykernel_launcher.py:8: SettingWithCopyWarning: \n",
      "A value is trying to be set on a copy of a slice from a DataFrame.\n",
      "Try using .loc[row_indexer,col_indexer] = value instead\n",
      "\n",
      "See the caveats in the documentation: https://pandas.pydata.org/pandas-docs/stable/user_guide/indexing.html#returning-a-view-versus-a-copy\n",
      "  \n"
     ]
    },
    {
     "data": {
      "text/plain": [
       "[<matplotlib.lines.Line2D at 0x1d2e2e5cc48>]"
      ]
     },
     "execution_count": 9,
     "metadata": {},
     "output_type": "execute_result"
    },
    {
     "data": {
      "image/png": "[encoded data removed]",
      "text/plain": [
       "<Figure size 640x480 with 1 Axes>"
      ]
     },
     "metadata": {},
     "output_type": "display_data"
    }
   ],
   "source": [
    "# plt.plot(_bosch_df[\"time\"], _bosch_df[\"ax\"])\n",
    "# fit a curve\n",
    "from scipy.optimize import curve_fit\n",
    "def func(x, a, b, c):\n",
    "    return a * np.exp(-b * x) + c\n",
    "\n",
    "# time to time stamp\n",
    "_bosch_df[\"time\"] = _bosch_df[\"time\"].apply(lambda x: (x - _bosch_df[\"time\"].iloc[0]).total_seconds())\n",
    "\n",
    "xdata = np.array(_bosch_df[\"time\"])\n",
    "ydata = np.array(_bosch_df[\"ax\"])\n",
    "popt, pcov = curve_fit(func, xdata, ydata)\n",
    "\n",
    "plt.plot(xdata, ydata, 'ko', label=\"Original Noised Data\") \n",
    "plt.plot(xdata, func(xdata, *popt), 'r-', label=\"Fitted Curve\")"
   ]
  },
  {
   "cell_type": "code",
   "execution_count": 8,
   "metadata": {},
   "outputs": [
    {
     "data": {
      "text/plain": [
       "array(['2023-03-13T14:35:44.561404000', '2023-03-13T14:35:44.740838000',\n",
       "       '2023-03-13T14:35:44.741372000', ...,\n",
       "       '2023-03-13T14:37:00.315732000', '2023-03-13T14:37:00.328367000',\n",
       "       '2023-03-13T14:37:00.340993000'], dtype='datetime64[ns]')"
      ]
     },
     "execution_count": 8,
     "metadata": {},
     "output_type": "execute_result"
    }
   ],
   "source": [
    "xdata"
   ]
  },
  {
   "cell_type": "code",
   "execution_count": null,
   "metadata": {},
   "outputs": [],
   "source": []
  }
 ],
 "metadata": {
  "kernelspec": {
   "display_name": "gs",
   "language": "python",
   "name": "python3"
  },
  "language_info": {
   "codemirror_mode": {
    "name": "ipython",
    "version": 3
   },
   "file_extension": ".py",
   "mimetype": "text/x-python",
   "name": "python",
   "nbconvert_exporter": "python",
   "pygments_lexer": "ipython3",
   "version": "3.7.13"
  },
  "orig_nbformat": 4
 },
 "nbformat": 4,
 "nbformat_minor": 2
}

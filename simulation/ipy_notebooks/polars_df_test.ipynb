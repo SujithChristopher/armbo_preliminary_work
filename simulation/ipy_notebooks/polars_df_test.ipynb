{
 "cells": [
  {
   "cell_type": "code",
   "execution_count": 1,
   "metadata": {},
   "outputs": [],
   "source": [
    "import sys\n",
    "import os\n",
    "sys.path.append(os.path.join(os.getcwd(), \"..\", \"..\"))\n",
    "from support.omniwheel_calculation import *\n",
    "from support.pd_support import *\n",
    "from support.calculations_support import *\n",
    "from support.ar_calculations import *\n",
    "from support.imu_calculations import *\n",
    "from numba import njit"
   ]
  },
  {
   "cell_type": "code",
   "execution_count": 2,
   "metadata": {},
   "outputs": [
    {
     "data": {
      "text/plain": [
       "'c:\\\\Users\\\\CMC\\\\Documents\\\\openposelibs\\\\pose\\\\armbo\\\\simulation\\\\..\\\\recording_programs\\\\test_data\\\\omni_9dof_feb_28_2023'"
      ]
     },
     "execution_count": 2,
     "metadata": {},
     "output_type": "execute_result"
    }
   ],
   "source": [
    "_parent_folder = \"omni_9dof_feb_28_2023\"\n",
    "_folder_name = \"sk27_00_random_slow\"\n",
    "_base_pth = os.path.dirname(os.getcwd())\n",
    "_base_pth = os.path.join(_base_pth, \"..\",\"recording_programs\", \"test_data\", _parent_folder)\n",
    "_base_pth"
   ]
  },
  {
   "cell_type": "code",
   "execution_count": 3,
   "metadata": {},
   "outputs": [],
   "source": [
    "_sk_df = pl.read_csv(os.path.join(_base_pth, _folder_name, \"imu01.csv\"))\n",
    "\n",
    "# convert unix epoc to datetime\n",
    "_sk_df = _sk_df.with_columns([pl.col(\"rust_time\").apply(lambda x: datetime.fromtimestamp(x))])\n",
    "# rename columns rust_time to time\n",
    "_sk_df = _sk_df.rename({\"rust_time\": \"time\", \"e_fr\":\"e_t\"})\n",
    "# _sk_df"
   ]
  },
  {
   "cell_type": "code",
   "execution_count": 7,
   "metadata": {},
   "outputs": [],
   "source": [
    "df = _sk_df[['time', 'e_t', 'e_rl', \"e_rr\"]]\n",
    "\n",
    "columns = ['e_t', 'e_rl', \"e_rr\"]\n",
    "\n",
    "for i in columns:\n",
    "    df = df.with_columns([pl.col(i).apply(lambda x: x - df[i][0])])\n"
   ]
  },
  {
   "cell_type": "code",
   "execution_count": 8,
   "metadata": {},
   "outputs": [],
   "source": [
    "ang_per_increment = 0.09\n",
    "del_t = 0.01\n",
    "\n",
    "for name in columns:\n",
    "    df = df.with_columns([pl.col(name).apply(lambda x: x * ang_per_increment).alias(name + \"_angle\")])\n",
    "    df = df.with_columns([((pl.col(name + \"_angle\").diff()/ del_t)*np.pi/180).alias(name + \"_av\")])\n",
    "    # replace null values with 0\n",
    "    df = df.fill_null(0)\n"
   ]
  },
  {
   "cell_type": "code",
   "execution_count": 35,
   "metadata": {},
   "outputs": [
    {
     "data": {
      "text/html": [
       "<div><style>\n",
       ".dataframe > thead > tr > th,\n",
       ".dataframe > tbody > tr > td {\n",
       "  text-align: right;\n",
       "}\n",
       "</style>\n",
       "<small>shape: (58323, 13)</small><table border=\"1\" class=\"dataframe\"><thead><tr><th>time</th><th>e_t</th><th>e_rl</th><th>e_rr</th><th>e_t_angle</th><th>e_t_av</th><th>e_rl_angle</th><th>e_rl_av</th><th>e_rr_angle</th><th>e_rr_av</th><th>vx</th><th>vy</th><th>w</th></tr><tr><td>datetime[μs]</td><td>i64</td><td>i64</td><td>i64</td><td>f64</td><td>f64</td><td>f64</td><td>f64</td><td>f64</td><td>f64</td><td>f64</td><td>f64</td><td>f64</td></tr></thead><tbody><tr><td>2023-02-28 16:41:44.878866</td><td>0</td><td>0</td><td>0</td><td>0.0</td><td>0.0</td><td>0.0</td><td>0.0</td><td>0.0</td><td>0.0</td><td>0.0</td><td>0.0</td><td>0.0</td></tr><tr><td>2023-02-28 16:41:45.041952</td><td>0</td><td>0</td><td>0</td><td>0.0</td><td>0.0</td><td>0.0</td><td>0.0</td><td>0.0</td><td>0.0</td><td>0.0</td><td>0.0</td><td>0.0</td></tr><tr><td>2023-02-28 16:41:45.042352</td><td>0</td><td>0</td><td>0</td><td>0.0</td><td>0.0</td><td>0.0</td><td>0.0</td><td>0.0</td><td>0.0</td><td>0.0</td><td>0.0</td><td>0.0</td></tr><tr><td>2023-02-28 16:41:45.042665</td><td>0</td><td>0</td><td>0</td><td>0.0</td><td>0.0</td><td>0.0</td><td>0.0</td><td>0.0</td><td>0.0</td><td>0.0</td><td>0.0</td><td>0.0</td></tr><tr><td>2023-02-28 16:41:45.042954</td><td>0</td><td>0</td><td>0</td><td>0.0</td><td>0.0</td><td>0.0</td><td>0.0</td><td>0.0</td><td>0.0</td><td>0.0</td><td>0.0</td><td>0.0</td></tr><tr><td>2023-02-28 16:41:45.043235</td><td>0</td><td>0</td><td>0</td><td>0.0</td><td>0.0</td><td>0.0</td><td>0.0</td><td>0.0</td><td>0.0</td><td>0.0</td><td>0.0</td><td>0.0</td></tr><tr><td>2023-02-28 16:41:45.043539</td><td>0</td><td>0</td><td>0</td><td>0.0</td><td>0.0</td><td>0.0</td><td>0.0</td><td>0.0</td><td>0.0</td><td>0.0</td><td>0.0</td><td>0.0</td></tr><tr><td>2023-02-28 16:41:45.043851</td><td>0</td><td>0</td><td>0</td><td>0.0</td><td>0.0</td><td>0.0</td><td>0.0</td><td>0.0</td><td>0.0</td><td>0.0</td><td>0.0</td><td>0.0</td></tr><tr><td>2023-02-28 16:41:45.044149</td><td>0</td><td>0</td><td>0</td><td>0.0</td><td>0.0</td><td>0.0</td><td>0.0</td><td>0.0</td><td>0.0</td><td>0.0</td><td>0.0</td><td>0.0</td></tr><tr><td>2023-02-28 16:41:45.044443</td><td>0</td><td>0</td><td>0</td><td>0.0</td><td>0.0</td><td>0.0</td><td>0.0</td><td>0.0</td><td>0.0</td><td>0.0</td><td>0.0</td><td>0.0</td></tr><tr><td>2023-02-28 16:41:45.044749</td><td>0</td><td>0</td><td>0</td><td>0.0</td><td>0.0</td><td>0.0</td><td>0.0</td><td>0.0</td><td>0.0</td><td>0.0</td><td>0.0</td><td>0.0</td></tr><tr><td>2023-02-28 16:41:45.045046</td><td>0</td><td>0</td><td>0</td><td>0.0</td><td>0.0</td><td>0.0</td><td>0.0</td><td>0.0</td><td>0.0</td><td>0.0</td><td>0.0</td><td>0.0</td></tr><tr><td>&hellip;</td><td>&hellip;</td><td>&hellip;</td><td>&hellip;</td><td>&hellip;</td><td>&hellip;</td><td>&hellip;</td><td>&hellip;</td><td>&hellip;</td><td>&hellip;</td><td>&hellip;</td><td>&hellip;</td><td>&hellip;</td></tr><tr><td>2023-02-28 16:52:18.687783</td><td>-32111</td><td>-89117</td><td>89170</td><td>-2889.99</td><td>0.0</td><td>-8020.53</td><td>0.0</td><td>8025.3</td><td>0.0</td><td>57032.5</td><td>-26.5</td><td>89143.5</td></tr><tr><td>2023-02-28 16:52:18.698625</td><td>-32111</td><td>-89117</td><td>89170</td><td>-2889.99</td><td>0.0</td><td>-8020.53</td><td>0.0</td><td>8025.3</td><td>0.0</td><td>57032.5</td><td>-26.5</td><td>89143.5</td></tr><tr><td>2023-02-28 16:52:18.709610</td><td>-32111</td><td>-89117</td><td>89170</td><td>-2889.99</td><td>0.0</td><td>-8020.53</td><td>0.0</td><td>8025.3</td><td>0.0</td><td>57032.5</td><td>-26.5</td><td>89143.5</td></tr><tr><td>2023-02-28 16:52:18.720397</td><td>-32111</td><td>-89117</td><td>89170</td><td>-2889.99</td><td>0.0</td><td>-8020.53</td><td>0.0</td><td>8025.3</td><td>0.0</td><td>57032.5</td><td>-26.5</td><td>89143.5</td></tr><tr><td>2023-02-28 16:52:18.731287</td><td>-32111</td><td>-89117</td><td>89170</td><td>-2889.99</td><td>0.0</td><td>-8020.53</td><td>0.0</td><td>8025.3</td><td>0.0</td><td>57032.5</td><td>-26.5</td><td>89143.5</td></tr><tr><td>2023-02-28 16:52:18.742184</td><td>-32111</td><td>-89117</td><td>89170</td><td>-2889.99</td><td>0.0</td><td>-8020.53</td><td>0.0</td><td>8025.3</td><td>0.0</td><td>57032.5</td><td>-26.5</td><td>89143.5</td></tr><tr><td>2023-02-28 16:52:18.752997</td><td>-32111</td><td>-89117</td><td>89170</td><td>-2889.99</td><td>0.0</td><td>-8020.53</td><td>0.0</td><td>8025.3</td><td>0.0</td><td>57032.5</td><td>-26.5</td><td>89143.5</td></tr><tr><td>2023-02-28 16:52:18.763925</td><td>-32111</td><td>-89117</td><td>89170</td><td>-2889.99</td><td>0.0</td><td>-8020.53</td><td>0.0</td><td>8025.3</td><td>0.0</td><td>57032.5</td><td>-26.5</td><td>89143.5</td></tr><tr><td>2023-02-28 16:52:18.774674</td><td>-32111</td><td>-89117</td><td>89170</td><td>-2889.99</td><td>0.0</td><td>-8020.53</td><td>0.0</td><td>8025.3</td><td>0.0</td><td>57032.5</td><td>-26.5</td><td>89143.5</td></tr><tr><td>2023-02-28 16:52:18.785820</td><td>-32111</td><td>-89117</td><td>89170</td><td>-2889.99</td><td>0.0</td><td>-8020.53</td><td>0.0</td><td>8025.3</td><td>0.0</td><td>57032.5</td><td>-26.5</td><td>89143.5</td></tr><tr><td>2023-02-28 16:52:18.796623</td><td>-32111</td><td>-89117</td><td>89170</td><td>-2889.99</td><td>0.0</td><td>-8020.53</td><td>0.0</td><td>8025.3</td><td>0.0</td><td>57032.5</td><td>-26.5</td><td>89143.5</td></tr><tr><td>2023-02-28 16:52:18.807320</td><td>-32111</td><td>-89117</td><td>89170</td><td>-2889.99</td><td>0.0</td><td>-8020.53</td><td>0.0</td><td>8025.3</td><td>0.0</td><td>57032.5</td><td>-26.5</td><td>89143.5</td></tr></tbody></table></div>"
      ],
      "text/plain": [
       "shape: (58_323, 13)\n",
       "┌────────────────────────────┬────────┬────────┬───────┬───┬─────────┬─────────┬───────┬─────────┐\n",
       "│ time                       ┆ e_t    ┆ e_rl   ┆ e_rr  ┆ … ┆ e_rr_av ┆ vx      ┆ vy    ┆ w       │\n",
       "│ ---                        ┆ ---    ┆ ---    ┆ ---   ┆   ┆ ---     ┆ ---     ┆ ---   ┆ ---     │\n",
       "│ datetime[μs]               ┆ i64    ┆ i64    ┆ i64   ┆   ┆ f64     ┆ f64     ┆ f64   ┆ f64     │\n",
       "╞════════════════════════════╪════════╪════════╪═══════╪═══╪═════════╪═════════╪═══════╪═════════╡\n",
       "│ 2023-02-28 16:41:44.878866 ┆ 0      ┆ 0      ┆ 0     ┆ … ┆ 0.0     ┆ 0.0     ┆ 0.0   ┆ 0.0     │\n",
       "│ 2023-02-28 16:41:45.041952 ┆ 0      ┆ 0      ┆ 0     ┆ … ┆ 0.0     ┆ 0.0     ┆ 0.0   ┆ 0.0     │\n",
       "│ 2023-02-28 16:41:45.042352 ┆ 0      ┆ 0      ┆ 0     ┆ … ┆ 0.0     ┆ 0.0     ┆ 0.0   ┆ 0.0     │\n",
       "│ 2023-02-28 16:41:45.042665 ┆ 0      ┆ 0      ┆ 0     ┆ … ┆ 0.0     ┆ 0.0     ┆ 0.0   ┆ 0.0     │\n",
       "│ …                          ┆ …      ┆ …      ┆ …     ┆ … ┆ …       ┆ …       ┆ …     ┆ …       │\n",
       "│ 2023-02-28 16:52:18.774674 ┆ -32111 ┆ -89117 ┆ 89170 ┆ … ┆ 0.0     ┆ 57032.5 ┆ -26.5 ┆ 89143.5 │\n",
       "│ 2023-02-28 16:52:18.785820 ┆ -32111 ┆ -89117 ┆ 89170 ┆ … ┆ 0.0     ┆ 57032.5 ┆ -26.5 ┆ 89143.5 │\n",
       "│ 2023-02-28 16:52:18.796623 ┆ -32111 ┆ -89117 ┆ 89170 ┆ … ┆ 0.0     ┆ 57032.5 ┆ -26.5 ┆ 89143.5 │\n",
       "│ 2023-02-28 16:52:18.807320 ┆ -32111 ┆ -89117 ┆ 89170 ┆ … ┆ 0.0     ┆ 57032.5 ┆ -26.5 ┆ 89143.5 │\n",
       "└────────────────────────────┴────────┴────────┴───────┴───┴─────────┴─────────┴───────┴─────────┘"
      ]
     },
     "execution_count": 35,
     "metadata": {},
     "output_type": "execute_result"
    }
   ],
   "source": [
    "# mat = np.array([[-y, 1, 0], [-x, 0, -1], [x, 0, -1]])\n",
    "radius = 1\n",
    "x = 1\n",
    "y = 1\n",
    "\n",
    "mat = np.array([[-y, 1, 0], [-x, 0, -1], [x, 0, -1]])\n",
    "pmat = np.linalg.pinv(mat)\n",
    "my_dict = {\"_vx\":[],\"_vy\":[],\"_w\":[]}\n",
    "\n",
    "for i in range(len(df)):\n",
    "    val = np.array([df[columns[0]][i], df[columns[1]][i], df[columns[2]][i]]).reshape(3,1)\n",
    "    # val = np.float16(val)\n",
    "    res = np.dot(pmat, val) * radius\n",
    "    my_dict[\"_w\"].append(res[0][0])\n",
    "    my_dict[\"_vx\"].append(res[1][0])\n",
    "    my_dict[\"_vy\"].append(res[2][0])\n",
    "\n",
    "# add the calculated values to the dataframe\n",
    "df = df.with_columns([pl.Series(name = \"vx\", values = my_dict[\"_vx\"]),\n",
    "                      pl.Series(name = \"vy\", values = my_dict[\"_vy\"]),\n",
    "                        pl.Series(name = \"w\", values = my_dict[\"_w\"])])\n",
    "df"
   ]
  },
  {
   "cell_type": "code",
   "execution_count": 36,
   "metadata": {},
   "outputs": [],
   "source": [
    "df_pd = df.to_pandas()\n",
    "\n",
    "mat = np.array([[-y, 1, 0], [-x, 0, -1], [x, 0, -1]])\n",
    "pmat = np.linalg.pinv(mat)\n",
    "_vx = []\n",
    "_vy = []\n",
    "_w = []\n",
    "\n",
    "for i in range(len(df)):\n",
    "    val = np.array([df_pd[columns[0]].iloc[i], df_pd[columns[1]].iloc[i], df_pd[columns[2]].iloc[i]]).reshape(3,1)\n",
    "    res = np.dot(pmat, val) * radius\n",
    "    _w.append(res[0][0])\n",
    "    _vx.append(res[1][0])\n",
    "    _vy.append(res[2][0])\n",
    "df_pd[\"w\"] = _w\n",
    "df_pd[\"vx\"] = _vx\n",
    "df_pd[\"vy\"] = _vy"
   ]
  },
  {
   "cell_type": "code",
   "execution_count": 39,
   "metadata": {},
   "outputs": [],
   "source": [
    "# calculating displacement\n",
    "my_dict = {\"_x\":[],\"_y\":[]}\n",
    "\n",
    "for i in range(len(df)):\n",
    "    if i == 0:\n",
    "        my_dict[\"_x\"].append(0)\n",
    "        my_dict[\"_y\"].append(0)\n",
    "    else:\n",
    "        my_dict[\"_x\"].append(0.5*(df[\"vx\"][i] + df[\"vx\"][i-1])*0.01)\n",
    "        my_dict[\"_y\"].append(0.5*(df[\"vy\"][i] + df[\"vy\"][i-1])*0.01)\n",
    "\n",
    "# add the calculated values to the dataframe\n",
    "df = df.with_columns([pl.Series(name = \"x\", values = my_dict[\"_x\"]),\n",
    "                        pl.Series(name = \"y\", values = my_dict[\"_y\"])])"
   ]
  },
  {
   "cell_type": "code",
   "execution_count": null,
   "metadata": {},
   "outputs": [],
   "source": []
  },
  {
   "cell_type": "code",
   "execution_count": 41,
   "metadata": {},
   "outputs": [],
   "source": [
    "column_name = \"w\"\n",
    "\n",
    "my_dict = {\"_theta\":[]}\n",
    "angle = 0\n",
    "for i in range(len(df[column_name])):\n",
    "\n",
    "    if i == 0:\n",
    "        my_dict[\"_theta\"].append(0)\n",
    "    else:\n",
    "        angle = angle + (df[column_name][i] + df[column_name][i-1])*0.01\n",
    "        my_dict[\"_theta\"].append(angle)\n",
    "\n",
    "# add the calculated values to the dataframe\n",
    "df = df.with_columns([pl.Series(name = \"theta\", values = my_dict[\"_theta\"])])\n",
    "\n",
    "#     if i == 0:\n",
    "#         _angle.append(0)\n",
    "#     else:\n",
    "#         angle = angle + (df[column_name].iloc[i] + df[column_name].iloc[i-1])*0.01\n",
    "#         _angle.append(angle)\n",
    "\n",
    "# df[\"theta\"] = _angle"
   ]
  },
  {
   "cell_type": "code",
   "execution_count": null,
   "metadata": {},
   "outputs": [],
   "source": []
  }
 ],
 "metadata": {
  "kernelspec": {
   "display_name": "gs",
   "language": "python",
   "name": "python3"
  },
  "language_info": {
   "codemirror_mode": {
    "name": "ipython",
    "version": 3
   },
   "file_extension": ".py",
   "mimetype": "text/x-python",
   "name": "python",
   "nbconvert_exporter": "python",
   "pygments_lexer": "ipython3",
   "version": "3.7.13"
  },
  "orig_nbformat": 4
 },
 "nbformat": 4,
 "nbformat_minor": 2
}

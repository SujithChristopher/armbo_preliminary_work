{
 "cells": [
  {
   "cell_type": "code",
   "execution_count": 1,
   "metadata": {},
   "outputs": [],
   "source": [
    "import numpy as np\n"
   ]
  },
  {
   "cell_type": "code",
   "execution_count": 15,
   "metadata": {},
   "outputs": [
    {
     "name": "stderr",
     "output_type": "stream",
     "text": [
      "c:\\Users\\CMC\\anaconda3\\envs\\gs\\lib\\site-packages\\ipykernel_launcher.py:5: RuntimeWarning: invalid value encountered in true_divide\n",
      "  \"\"\"\n"
     ]
    }
   ],
   "source": [
    "#when time t = 0\n",
    "s1_0 = np.array([50, 0]).reshape(2, 1)\n",
    "s1_0 = s1_0/np.linalg.norm(s1_0)\n",
    "s2_0 = np.array([0, 0]).reshape(2, 1)\n",
    "s2_0 = s2_0/np.linalg.norm(s2_0)\n",
    "\n",
    "# @ time t\n",
    "s1_1 = np.array([50, -90]).reshape(2, 1)\n",
    "s1_1 = s1_1/np.linalg.norm(s1_1)\n",
    "s2_1 = np.array([5, 5]).reshape(2, 1)\n",
    "s2_1 = s2_1/np.linalg.norm(s2_1)\n",
    "\n",
    "\n",
    "\n",
    "v1 = s1_0 - s2_0\n",
    "v2 = s1_1 - s2_1\n",
    "\n",
    "angle = np.arctan2(v1[0]*v2[1] - v1[1]*v2[0], v1[0]*v2[0] + v1[1]*v2[1])"
   ]
  },
  {
   "cell_type": "code",
   "execution_count": 16,
   "metadata": {},
   "outputs": [
    {
     "data": {
      "text/plain": [
       "array([nan])"
      ]
     },
     "execution_count": 16,
     "metadata": {},
     "output_type": "execute_result"
    }
   ],
   "source": [
    "np.rad2deg(angle)"
   ]
  },
  {
   "cell_type": "code",
   "execution_count": null,
   "metadata": {},
   "outputs": [],
   "source": []
  }
 ],
 "metadata": {
  "kernelspec": {
   "display_name": "Python 3.7.13 ('gs')",
   "language": "python",
   "name": "python3"
  },
  "language_info": {
   "codemirror_mode": {
    "name": "ipython",
    "version": 3
   },
   "file_extension": ".py",
   "mimetype": "text/x-python",
   "name": "python",
   "nbconvert_exporter": "python",
   "pygments_lexer": "ipython3",
   "version": "3.7.13"
  },
  "orig_nbformat": 4,
  "vscode": {
   "interpreter": {
    "hash": "4221670f905fea9ae63d68da118e10d2cad93a36a65c3325530da287d71e9aea"
   }
  }
 },
 "nbformat": 4,
 "nbformat_minor": 2
}
